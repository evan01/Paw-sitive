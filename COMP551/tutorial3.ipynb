{
 "metadata": {
  "name": "",
  "signature": "sha256:fa500b0ca6f69060d1f3fc2aff1afe1e5a1cb7eb5e0473d5ec1d8bfeae4a92ff"
 },
 "nbformat": 3,
 "nbformat_minor": 0,
 "worksheets": [
  {
   "cells": [
    {
     "cell_type": "markdown",
     "metadata": {},
     "source": [
      "# Deep Learning Tutorial\n",
      "\n",
      "Today we will discuss using Deep Learning libraries as well as show simple instanciations of deep nets on simple examples.\n",
      "\n",
      "## Keras\n",
      "\n",
      "We will be using the Keras library (https://keras.io/), but know that there are many more that may suit your personal needs and preferences better (Block/Fuel, Lasagne, MXNet, Torch, Caffe, Deeplearning4j (Java), among many!).\n",
      "\n",
      "You may want to go to a lower level (or implement fancier models), and directly use symbolic CPU&GPU computing libraries such as Theano, Tensorflow, or Chainer.   \n",
      "Note that Keras is built on top of Theano/Tensorflow, and requires one or the other as a backend.\n",
      "\n",
      "## Many kinds of layers\n",
      "\n",
      "Deep Learning is usually based on stacking layers on top of each other.\n",
      "\n",
      "### Dense/fully-connected layers\n",
      "\n",
      "The simplest and most general type of layer.\n",
      "$$ f(\\mathbf{x}) = \\mathbf{x}^TW+\\mathbf{b}$$\n",
      "$$ \\mathbf{x}\\in\\mathbb{R}^n,\\; W\\in\\mathbb{R}^{n\\times m},\\; b\\in\\mathbb{R}^m$$\n",
      "\n",
      "note that we usually don't \"apply\" the non-linearity right away. \n",
      "\n",
      "### Non-linearity layers\n",
      "\n",
      "Rectified Linear Units are the most popular units to use:\n",
      "$$ ReLU(x) = \\max\\{0,x\\}$$\n",
      "\n",
      "Another popular activation units are $\\tanh$ units.  \n",
      "Sigmoid units are typically only used to represent Bernoulli probabilities (e.g. in 1-vs-all classification):\n",
      "$$ \\sigma(x) = \\frac{1}{1+e^{-x}} $$\n",
      "\n",
      "To represent categorical distributions (e.g. for classification), the softmax non-linearity is typically used:\n",
      "$$ \\mbox{softmax}_i(x) = \\frac{e^{x_i}}{\\sum_j e^{x_j}}$$\n",
      "\n",
      "Batch-normalization is not a real \"non-linearity\" but is quite useful to stabilize training. Here we assume that $X$ is a minibatch of data:\n",
      "$$ BN(X) = \\frac{X-\\mbox{Mean}(X)}{\\sqrt{\\mbox{Var}(X)+\\epsilon}} $$\n",
      "This shifts the distribution of activations to be a gaussian, which makes learning much easier for deep networks.\n",
      "\n",
      "### Convolution layers\n",
      "\n",
      "Convolution layers apply the discrete (usually 2d) convolution operation on some $n$-channel input image $x:(n,w,h)$ ($w,h$ the width and height of the image), and $m$-channel filter map $W:(m,n,f_w,f_h)$ ($f_w,f_h$ the width and height of the filters/local receptive fields).\n",
      "$$ f(x) = W* x $$\n",
      "$$ f_{c,x,y}(x) = \\sum_{i=0}{f_h}\\sum_{j=0}^{f_w}\\sum_{k=0}^n W_{c,k,i,j}x_{k,(x+i-\\lfloor f_w/2 \\rfloor),(y+j-\\lfloor f_h/2 \\rfloor)}$$\n",
      "\n",
      "Note that there are several possible behaviours regarding how the border of $x$ is treated:\n",
      "- full: $x$ is zero padded by $f_w-1,f_h-1$ pixels on each side, the output's shape is $(m,w+f_w-1,h+f_h-1)$\n",
      "- valid: $x$ is not-padded, the output's shape is $(m,w-f_w,h-f_h)$\n",
      "- half/same: $x$ is zero padded by $\\lfloor f_w/2 \\rfloor,\\lfloor f_h/2 \\rfloor$ on each side, the output's shape is $(m,w,h)$\n",
      "\n",
      "For more details and images, see http://deeplearning.net/software/theano_versions/dev/tutorial/conv_arithmetic.html"
     ]
    },
    {
     "cell_type": "markdown",
     "metadata": {},
     "source": [
      "### Recurrent Layers\n",
      "\n",
      "We won't go into the details today, but know that it's possible to do time-series and sequence models with the same building blocks are recurrent modules.\n",
      "\n",
      "More on recurrent networks and LSTM units here: http://colah.github.io/posts/2015-08-Understanding-LSTMs/\n",
      "\n",
      "### Dropout\n",
      "\n",
      "Dropout is a regularization technique, where some proportion $p$ of the units is randomly multiplied by 0 at each new forward pass. This forces the model to be robust to noise and often to generalize better, as it cannot rely on a single unit to hold some vital information about the final prediction. It is usually only applied to intermediate layers, but can be applied to the input as well."
     ]
    },
    {
     "cell_type": "markdown",
     "metadata": {},
     "source": [
      "## Training your model\n",
      "\n",
      "In order to train models, people usually use some variant of stochastic gradient descent. The good thing with all these libraries is that all you have to do is declare the architecture of your model, and the library takes care of automatically computing gradients for you!\n",
      "\n",
      "### Losses\n",
      "\n",
      "There are many loss functions one can use. The two basic ones you will need are **mean square error** (quite general)\n",
      "$$ \\frac{1}{N_{ex}}\\sum_i^{N_{examples}} \\|f(\\mathbf{x}_i)-\\mathbf{y}_i\\|^2_2 $$\n",
      "and **categorical crossentropy** (specialized for classification):\n",
      "$$ - \\frac{1}{N_{ex}}\\sum_i^{N_{ex}} \\sum_j^{N_{classes}} y_{i,j}\\log f_j(\\mathbf{x}_i) $$\n",
      "Here $y_i$ is assumed to be a 1-hot vector of the class encoding, but when implemented only the index of the 1 is necessary (\"sparse\" categorical crossentropy).\n",
      "\n",
      "### Gradient descent methods\n",
      "\n",
      "There are several GD methods you should know.\n",
      "\n",
      "The basic one, **SGD**, consists in taking a single example or a minibatch of examples and updating your weights a bit.\n",
      "$$\\theta \\leftarrow \\theta - \\alpha \\nabla_\\theta \\mathcal{L}$$\n",
      "The learning rate is $\\alpha$, typically $\\alpha<1$.\n",
      "\n",
      "**Momentum** consists in keeping track of the velocity of your stochastic gradient descent, so as to keep going in the same general direction, and can considerably speed up learning.\n",
      "$$\\begin{align} \\mu &\\leftarrow \\gamma \\mu + (1-\\gamma) \\nabla_\\theta \\mathcal{L} \\\\ \\theta &\\leftarrow \\theta - \\alpha \\mu\n",
      "\\end{align}$$\n",
      "With $0<\\gamma<1$, usually quite close to 1.\n",
      "\n",
      "**RMSProp** (Root Mean Square Prop) is similar in spirit, but is intended to act more like an adaptive learning rate.\n",
      "$$\\begin{align} g &= \\nabla_\\theta \\mathcal{L}\\\\\n",
      "\\eta &\\leftarrow \\gamma \\eta + (1-\\gamma) g^2 \\\\\n",
      "\\theta &\\leftarrow \\theta - \\frac{\\alpha g}{\\sqrt{\\eta + \\epsilon}}\n",
      "\\end{align}$$\n",
      "With $\\epsilon$ typically around $10^{-4}$\n",
      "\n",
      "**Adam** (Adaptive Moment estimation) is probably the most popular method right now, and is somewhat a mix of RMSProp and Momentum:\n",
      "$$\\begin{align} g &= \\nabla_\\theta \\mathcal{L}\\\\\n",
      "\\mu &\\leftarrow \\beta_1 \\mu + (1-\\beta_1) g \\\\\n",
      "\\eta &\\leftarrow \\beta_2 \\eta + (1-\\beta_2) g^2 \\\\\n",
      "\\theta &\\leftarrow \\theta - \\frac{\\alpha \\mu}{\\sqrt{\\eta + \\epsilon}}\n",
      "\\end{align}$$\n",
      "\n",
      "\n",
      "For a more complete description of algorithms, see http://sebastianruder.com/optimizing-gradient-descent/index.html"
     ]
    },
    {
     "cell_type": "code",
     "collapsed": false,
     "input": [
      "### GET MNIST HERE \n",
      "### http://deeplearning.net/data/mnist/mnist.pkl.gz\n",
      "import pickle, gzip\n",
      "train, valid, test = pickle.load(gzip.open('mnist.pkl.gz','r'))"
     ],
     "language": "python",
     "metadata": {},
     "outputs": [],
     "prompt_number": 1
    },
    {
     "cell_type": "markdown",
     "metadata": {},
     "source": [
      "### Building a model in Keras\n",
      "\n",
      "The simplest way to build a model in Keras is to chain layers with a `Sequential` model."
     ]
    },
    {
     "cell_type": "code",
     "collapsed": false,
     "input": [
      "from keras.models import Sequential\n",
      "from keras.layers import Dense, Activation\n",
      "\n",
      "model = Sequential()"
     ],
     "language": "python",
     "metadata": {},
     "outputs": [
      {
       "output_type": "stream",
       "stream": "stderr",
       "text": [
        "Using Theano backend.\n",
        "Using cuDNN version 5103 on context None"
       ]
      },
      {
       "output_type": "stream",
       "stream": "stderr",
       "text": [
        "\n",
        "Mapped name None to device cuda: GeForce GTX 745 (0000:01:00.0)"
       ]
      },
      {
       "output_type": "stream",
       "stream": "stderr",
       "text": [
        "\n"
       ]
      }
     ],
     "prompt_number": 2
    },
    {
     "cell_type": "markdown",
     "metadata": {},
     "source": [
      "Here our example data is MNIST, a set of 28x28 images:"
     ]
    },
    {
     "cell_type": "code",
     "collapsed": false,
     "input": [
      "print(train[0].shape, train[1].shape) #X,Y"
     ],
     "language": "python",
     "metadata": {},
     "outputs": [
      {
       "output_type": "stream",
       "stream": "stdout",
       "text": [
        "((50000, 784), (50000,))\n"
       ]
      }
     ],
     "prompt_number": 3
    },
    {
     "cell_type": "markdown",
     "metadata": {},
     "source": [
      "As such the input of our model is going to be of dimension 784. Let's make a hidden layer of 32 units (powers of 2 and multiples of 32 are often preferred for computational reasons):"
     ]
    },
    {
     "cell_type": "code",
     "collapsed": false,
     "input": [
      "model.add(Dense(output_dim=32, input_dim=784))"
     ],
     "language": "python",
     "metadata": {},
     "outputs": [],
     "prompt_number": 4
    },
    {
     "cell_type": "markdown",
     "metadata": {},
     "source": [
      "This previous layer only does the linear part, we need to add nonlinearities as another layer. Let's add a ReLU:"
     ]
    },
    {
     "cell_type": "code",
     "collapsed": false,
     "input": [
      "model.add(Activation('relu'))"
     ],
     "language": "python",
     "metadata": {},
     "outputs": [],
     "prompt_number": 5
    },
    {
     "cell_type": "markdown",
     "metadata": {},
     "source": [
      "Let's add another hidden layer, as well as an output layer:"
     ]
    },
    {
     "cell_type": "code",
     "collapsed": false,
     "input": [
      "model.add(Dense(output_dim=32))\n",
      "model.add(Activation('relu'))\n",
      "model.add(Dense(output_dim=10)) # there are 10 classes in MNIST\n",
      "model.add(Activation('softmax'))"
     ],
     "language": "python",
     "metadata": {},
     "outputs": [],
     "prompt_number": 6
    },
    {
     "cell_type": "markdown",
     "metadata": {},
     "source": [
      "Now let's compile our model. This steps creates C (or CUDA if you're using a GPU) code a compiles it to make everything fast."
     ]
    },
    {
     "cell_type": "code",
     "collapsed": false,
     "input": [
      "model.compile(loss='sparse_categorical_crossentropy', optimizer='adam', metrics=['accuracy'])"
     ],
     "language": "python",
     "metadata": {},
     "outputs": [],
     "prompt_number": 7
    },
    {
     "cell_type": "markdown",
     "metadata": {},
     "source": [
      "Now we can feed data to our model and train it!"
     ]
    },
    {
     "cell_type": "code",
     "collapsed": false,
     "input": [
      "# run for a 5 epochs\n",
      "model.fit(train[0], train[1], nb_epoch=5)"
     ],
     "language": "python",
     "metadata": {},
     "outputs": [
      {
       "output_type": "stream",
       "stream": "stdout",
       "text": [
        "Epoch 1/5\n",
        "\r",
        "   32/50000 [..............................] - ETA: 6s - loss: 2.4676 - acc: 0.0000e+00"
       ]
      },
      {
       "output_type": "stream",
       "stream": "stdout",
       "text": [
        "\b\b\b\b\b\b\b\b\b\b\b\b\b\b\b\b\b\b\b\b\b\b\b\b\b\b\b\b\b\b\b\b\b\b\b\b\b\b\b\b\b\b\b\b\b\b\b\b\b\b\b\b\b\b\b\b\b\b\b\b\b\b\b\b\b\b\b\b\b\b\b\b\b\b\b\b\b\b\b\b\b\b\b\b\b\b\b\r",
        " 1440/50000 [..............................] - ETA: 1s - loss: 1.9137 - acc: 0.4014    "
       ]
      },
      {
       "output_type": "stream",
       "stream": "stdout",
       "text": [
        "\b\b\b\b\b\b\b\b\b\b\b\b\b\b\b\b\b\b\b\b\b\b\b\b\b\b\b\b\b\b\b\b\b\b\b\b\b\b\b\b\b\b\b\b\b\b\b\b\b\b\b\b\b\b\b\b\b\b\b\b\b\b\b\b\b\b\b\b\b\b\b\b\b\b\b\b\b\b\b\b\b\b\b\r",
        " 2880/50000 [>.............................] - ETA: 1s - loss: 1.5000 - acc: 0.5611"
       ]
      },
      {
       "output_type": "stream",
       "stream": "stdout",
       "text": [
        "\b\b\b\b\b\b\b\b\b\b\b\b\b\b\b\b\b\b\b\b\b\b\b\b\b\b\b\b\b\b\b\b\b\b\b\b\b\b\b\b\b\b\b\b\b\b\b\b\b\b\b\b\b\b\b\b\b\b\b\b\b\b\b\b\b\b\b\b\b\b\b\b\b\b\b\b\b\b\b\b\b\b\b\r",
        " 4448/50000 [=>............................] - ETA: 1s - loss: 1.2127 - acc: 0.6518"
       ]
      },
      {
       "output_type": "stream",
       "stream": "stdout",
       "text": [
        "\b\b\b\b\b\b\b\b\b\b\b\b\b\b\b\b\b\b\b\b\b\b\b\b\b\b\b\b\b\b\b\b\b\b\b\b\b\b\b\b\b\b\b\b\b\b\b\b\b\b\b\b\b\b\b\b\b\b\b\b\b\b\b\b\b\b\b\b\b\b\b\b\b\b\b\b\b\b\b\b\b\b\b\r",
        " 6016/50000 [==>...........................] - ETA: 1s - loss: 1.0344 - acc: 0.7069"
       ]
      },
      {
       "output_type": "stream",
       "stream": "stdout",
       "text": [
        "\b\b\b\b\b\b\b\b\b\b\b\b\b\b\b\b\b\b\b\b\b\b\b\b\b\b\b\b\b\b\b\b\b\b\b\b\b\b\b\b\b\b\b\b\b\b\b\b\b\b\b\b\b\b\b\b\b\b\b\b\b\b\b\b\b\b\b\b\b\b\b\b\b\b\b\b\b\b\b\b\b\b\b\r",
        " 7552/50000 [===>..........................] - ETA: 1s - loss: 0.9187 - acc: 0.7402"
       ]
      },
      {
       "output_type": "stream",
       "stream": "stdout",
       "text": [
        "\b\b\b\b\b\b\b\b\b\b\b\b\b\b\b\b\b\b\b\b\b\b\b\b\b\b\b\b\b\b\b\b\b\b\b\b\b\b\b\b\b\b\b\b\b\b\b\b\b\b\b\b\b\b\b\b\b\b\b\b\b\b\b\b\b\b\b\b\b\b\b\b\b\b\b\b\b\b\b\b\b\b\b\r",
        " 9024/50000 [====>.........................] - ETA: 1s - loss: 0.8363 - acc: 0.7636"
       ]
      },
      {
       "output_type": "stream",
       "stream": "stdout",
       "text": [
        "\b\b\b\b\b\b\b\b\b\b\b\b\b\b\b\b\b\b\b\b\b\b\b\b\b\b\b\b\b\b\b\b\b\b\b\b\b\b\b\b\b\b\b\b\b\b\b\b\b\b\b\b\b\b\b\b\b\b\b\b\b\b\b\b\b\b\b\b\b\b\b\b\b\b\b\b\b\b\b\b\b\b\b\r",
        "10848/50000 [=====>........................] - ETA: 1s - loss: 0.7589 - acc: 0.7852"
       ]
      },
      {
       "output_type": "stream",
       "stream": "stdout",
       "text": [
        "\b\b\b\b\b\b\b\b\b\b\b\b\b\b\b\b\b\b\b\b\b\b\b\b\b\b\b\b\b\b\b\b\b\b\b\b\b\b\b\b\b\b\b\b\b\b\b\b\b\b\b\b\b\b\b\b\b\b\b\b\b\b\b\b\b\b\b\b\b\b\b\b\b\b\b\b\b\b\b\b\b\b\b\r",
        "12896/50000 [======>.......................] - ETA: 1s - loss: 0.6960 - acc: 0.8018"
       ]
      },
      {
       "output_type": "stream",
       "stream": "stdout",
       "text": [
        "\b\b\b\b\b\b\b\b\b\b\b\b\b\b\b\b\b\b\b\b\b\b\b\b\b\b\b\b\b\b\b\b\b\b\b\b\b\b\b\b\b\b\b\b\b\b\b\b\b\b\b\b\b\b\b\b\b\b\b\b\b\b\b\b\b\b\b\b\b\b\b\b\b\b\b\b\b\b\b\b\b\b\b\r",
        "15040/50000 [========>.....................] - ETA: 1s - loss: 0.6433 - acc: 0.8173"
       ]
      },
      {
       "output_type": "stream",
       "stream": "stdout",
       "text": [
        "\b\b\b\b\b\b\b\b\b\b\b\b\b\b\b\b\b\b\b\b\b\b\b\b\b\b\b\b\b\b\b\b\b\b\b\b\b\b\b\b\b\b\b\b\b\b\b\b\b\b\b\b\b\b\b\b\b\b\b\b\b\b\b\b\b\b\b\b\b\b\b\b\b\b\b\b\b\b\b\b\b\b\b\r",
        "17184/50000 [=========>....................] - ETA: 0s - loss: 0.6018 - acc: 0.8291"
       ]
      },
      {
       "output_type": "stream",
       "stream": "stdout",
       "text": [
        "\b\b\b\b\b\b\b\b\b\b\b\b\b\b\b\b\b\b\b\b\b\b\b\b\b\b\b\b\b\b\b\b\b\b\b\b\b\b\b\b\b\b\b\b\b\b\b\b\b\b\b\b\b\b\b\b\b\b\b\b\b\b\b\b\b\b\b\b\b\b\b\b\b\b\b\b\b\b\b\b\b\b\b\r",
        "19328/50000 [==========>...................] - ETA: 0s - loss: 0.5662 - acc: 0.8388"
       ]
      },
      {
       "output_type": "stream",
       "stream": "stdout",
       "text": [
        "\b\b\b\b\b\b\b\b\b\b\b\b\b\b\b\b\b\b\b\b\b\b\b\b\b\b\b\b\b\b\b\b\b\b\b\b\b\b\b\b\b\b\b\b\b\b\b\b\b\b\b\b\b\b\b\b\b\b\b\b\b\b\b\b\b\b\b\b\b\b\b\b\b\b\b\b\b\b\b\b\b\b\b\r",
        "21472/50000 [===========>..................] - ETA: 0s - loss: 0.5385 - acc: 0.8466"
       ]
      },
      {
       "output_type": "stream",
       "stream": "stdout",
       "text": [
        "\b\b\b\b\b\b\b\b\b\b\b\b\b\b\b\b\b\b\b\b\b\b\b\b\b\b\b\b\b\b\b\b\b\b\b\b\b\b\b\b\b\b\b\b\b\b\b\b\b\b\b\b\b\b\b\b\b\b\b\b\b\b\b\b\b\b\b\b\b\b\b\b\b\b\b\b\b\b\b\b\b\b\b\r",
        "23616/50000 [=============>................] - ETA: 0s - loss: 0.5188 - acc: 0.8523"
       ]
      },
      {
       "output_type": "stream",
       "stream": "stdout",
       "text": [
        "\b\b\b\b\b\b\b\b\b\b\b\b\b\b\b\b\b\b\b\b\b\b\b\b\b\b\b\b\b\b\b\b\b\b\b\b\b\b\b\b\b\b\b\b\b\b\b\b\b\b\b\b\b\b\b\b\b\b\b\b\b\b\b\b\b\b\b\b\b\b\b\b\b\b\b\b\b\b\b\b\b\b\b\r",
        "25408/50000 [==============>...............] - ETA: 0s - loss: 0.5026 - acc: 0.8568"
       ]
      },
      {
       "output_type": "stream",
       "stream": "stdout",
       "text": [
        "\b\b\b\b\b\b\b\b\b\b\b\b\b\b\b\b\b\b\b\b\b\b\b\b\b\b\b\b\b\b\b\b\b\b\b\b\b\b\b\b\b\b\b\b\b\b\b\b\b\b\b\b\b\b\b\b\b\b\b\b\b\b\b\b\b\b\b\b\b\b\b\b\b\b\b\b\b\b\b\b\b\b\b\r",
        "27488/50000 [===============>..............] - ETA: 0s - loss: 0.4859 - acc: 0.8612"
       ]
      },
      {
       "output_type": "stream",
       "stream": "stdout",
       "text": [
        "\b\b\b\b\b\b\b\b\b\b\b\b\b\b\b\b\b\b\b\b\b\b\b\b\b\b\b\b\b\b\b\b\b\b\b\b\b\b\b\b\b\b\b\b\b\b\b\b\b\b\b\b\b\b\b\b\b\b\b\b\b\b\b\b\b\b\b\b\b\b\b\b\b\b\b\b\b\b\b\b\b\b\b\r",
        "29632/50000 [================>.............] - ETA: 0s - loss: 0.4711 - acc: 0.8658"
       ]
      },
      {
       "output_type": "stream",
       "stream": "stdout",
       "text": [
        "\b\b\b\b\b\b\b\b\b\b\b\b\b\b\b\b\b\b\b\b\b\b\b\b\b\b\b\b\b\b\b\b\b\b\b\b\b\b\b\b\b\b\b\b\b\b\b\b\b\b\b\b\b\b\b\b\b\b\b\b\b\b\b\b\b\b\b\b\b\b\b\b\b\b\b\b\b\b\b\b\b\b\b\r",
        "31776/50000 [==================>...........] - ETA: 0s - loss: 0.4574 - acc: 0.8699"
       ]
      },
      {
       "output_type": "stream",
       "stream": "stdout",
       "text": [
        "\b\b\b\b\b\b\b\b\b\b\b\b\b\b\b\b\b\b\b\b\b\b\b\b\b\b\b\b\b\b\b\b\b\b\b\b\b\b\b\b\b\b\b\b\b\b\b\b\b\b\b\b\b\b\b\b\b\b\b\b\b\b\b\b\b\b\b\b\b\b\b\b\b\b\b\b\b\b\b\b\b\b\b\r",
        "33920/50000 [===================>..........] - ETA: 0s - loss: 0.4431 - acc: 0.8734"
       ]
      },
      {
       "output_type": "stream",
       "stream": "stdout",
       "text": [
        "\b\b\b\b\b\b\b\b\b\b\b\b\b\b\b\b\b\b\b\b\b\b\b\b\b\b\b\b\b\b\b\b\b\b\b\b\b\b\b\b\b\b\b\b\b\b\b\b\b\b\b\b\b\b\b\b\b\b\b\b\b\b\b\b\b\b\b\b\b\b\b\b\b\b\b\b\b\b\b\b\b\b\b\r",
        "35872/50000 [====================>.........] - ETA: 0s - loss: 0.4315 - acc: 0.8769"
       ]
      },
      {
       "output_type": "stream",
       "stream": "stdout",
       "text": [
        "\b\b\b\b\b\b\b\b\b\b\b\b\b\b\b\b\b\b\b\b\b\b\b\b\b\b\b\b\b\b\b\b\b\b\b\b\b\b\b\b\b\b\b\b\b\b\b\b\b\b\b\b\b\b\b\b\b\b\b\b\b\b\b\b\b\b\b\b\b\b\b\b\b\b\b\b\b\b\b\b\b\b\b\r",
        "37920/50000 [=====================>........] - ETA: 0s - loss: 0.4228 - acc: 0.8792"
       ]
      },
      {
       "output_type": "stream",
       "stream": "stdout",
       "text": [
        "\b\b\b\b\b\b\b\b\b\b\b\b\b\b\b\b\b\b\b\b\b\b\b\b\b\b\b\b\b\b\b\b\b\b\b\b\b\b\b\b\b\b\b\b\b\b\b\b\b\b\b\b\b\b\b\b\b\b\b\b\b\b\b\b\b\b\b\b\b\b\b\b\b\b\b\b\b\b\b\b\b\b\b\r",
        "40064/50000 [=======================>......] - ETA: 0s - loss: 0.4132 - acc: 0.8819"
       ]
      },
      {
       "output_type": "stream",
       "stream": "stdout",
       "text": [
        "\b\b\b\b\b\b\b\b\b\b\b\b\b\b\b\b\b\b\b\b\b\b\b\b\b\b\b\b\b\b\b\b\b\b\b\b\b\b\b\b\b\b\b\b\b\b\b\b\b\b\b\b\b\b\b\b\b\b\b\b\b\b\b\b\b\b\b\b\b\b\b\b\b\b\b\b\b\b\b\b\b\b\b\r",
        "42208/50000 [========================>.....] - ETA: 0s - loss: 0.4058 - acc: 0.8840"
       ]
      },
      {
       "output_type": "stream",
       "stream": "stdout",
       "text": [
        "\b\b\b\b\b\b\b\b\b\b\b\b\b\b\b\b\b\b\b\b\b\b\b\b\b\b\b\b\b\b\b\b\b\b\b\b\b\b\b\b\b\b\b\b\b\b\b\b\b\b\b\b\b\b\b\b\b\b\b\b\b\b\b\b\b\b\b\b\b\b\b\b\b\b\b\b\b\b\b\b\b\b\b\r",
        "44352/50000 [=========================>....] - ETA: 0s - loss: 0.3977 - acc: 0.8863"
       ]
      },
      {
       "output_type": "stream",
       "stream": "stdout",
       "text": [
        "\b\b\b\b\b\b\b\b\b\b\b\b\b\b\b\b\b\b\b\b\b\b\b\b\b\b\b\b\b\b\b\b\b\b\b\b\b\b\b\b\b\b\b\b\b\b\b\b\b\b\b\b\b\b\b\b\b\b\b\b\b\b\b\b\b\b\b\b\b\b\b\b\b\b\b\b\b\b\b\b\b\b\b\r",
        "46496/50000 [==========================>...] - ETA: 0s - loss: 0.3898 - acc: 0.8881"
       ]
      },
      {
       "output_type": "stream",
       "stream": "stdout",
       "text": [
        "\b\b\b\b\b\b\b\b\b\b\b\b\b\b\b\b\b\b\b\b\b\b\b\b\b\b\b\b\b\b\b\b\b\b\b\b\b\b\b\b\b\b\b\b\b\b\b\b\b\b\b\b\b\b\b\b\b\b\b\b\b\b\b\b\b\b\b\b\b\b\b\b\b\b\b\b\b\b\b\b\b\b\b\r",
        "48384/50000 [============================>.] - ETA: 0s - loss: 0.3838 - acc: 0.8899"
       ]
      },
      {
       "output_type": "stream",
       "stream": "stdout",
       "text": [
        "\b\b\b\b\b\b\b\b\b\b\b\b\b\b\b\b\b\b\b\b\b\b\b\b\b\b\b\b\b\b\b\b\b\b\b\b\b\b\b\b\b\b\b\b\b\b\b\b\b\b\b\b\b\b\b\b\b\b\b\b\b\b\b\b\b\b\b\b\b\b\b\b\b\b\b\b\b\b\b\b\b\b\b\r",
        "50000/50000 [==============================] - 1s - loss: 0.3787 - acc: 0.8913     "
       ]
      },
      {
       "output_type": "stream",
       "stream": "stdout",
       "text": [
        "\n",
        "Epoch 2/5\n",
        "\r",
        "   32/50000 [..............................] - ETA: 3s - loss: 0.2747 - acc: 0.9375"
       ]
      },
      {
       "output_type": "stream",
       "stream": "stdout",
       "text": [
        "\b\b\b\b\b\b\b\b\b\b\b\b\b\b\b\b\b\b\b\b\b\b\b\b\b\b\b\b\b\b\b\b\b\b\b\b\b\b\b\b\b\b\b\b\b\b\b\b\b\b\b\b\b\b\b\b\b\b\b\b\b\b\b\b\b\b\b\b\b\b\b\b\b\b\b\b\b\b\b\b\b\b\b\r",
        " 1888/50000 [>.............................] - ETA: 1s - loss: 0.2031 - acc: 0.9460"
       ]
      },
      {
       "output_type": "stream",
       "stream": "stdout",
       "text": [
        "\b\b\b\b\b\b\b\b\b\b\b\b\b\b\b\b\b\b\b\b\b\b\b\b\b\b\b\b\b\b\b\b\b\b\b\b\b\b\b\b\b\b\b\b\b\b\b\b\b\b\b\b\b\b\b\b\b\b\b\b\b\b\b\b\b\b\b\b\b\b\b\b\b\b\b\b\b\b\b\b\b\b\b\r",
        " 4000/50000 [=>............................] - ETA: 1s - loss: 0.2034 - acc: 0.9457"
       ]
      },
      {
       "output_type": "stream",
       "stream": "stdout",
       "text": [
        "\b\b\b\b\b\b\b\b\b\b\b\b\b\b\b\b\b\b\b\b\b\b\b\b\b\b\b\b\b\b\b\b\b\b\b\b\b\b\b\b\b\b\b\b\b\b\b\b\b\b\b\b\b\b\b\b\b\b\b\b\b\b\b\b\b\b\b\b\b\b\b\b\b\b\b\b\b\b\b\b\b\b\b\r",
        " 5760/50000 [==>...........................] - ETA: 1s - loss: 0.1978 - acc: 0.9448"
       ]
      },
      {
       "output_type": "stream",
       "stream": "stdout",
       "text": [
        "\b\b\b\b\b\b\b\b\b\b\b\b\b\b\b\b\b\b\b\b\b\b\b\b\b\b\b\b\b\b\b\b\b\b\b\b\b\b\b\b\b\b\b\b\b\b\b\b\b\b\b\b\b\b\b\b\b\b\b\b\b\b\b\b\b\b\b\b\b\b\b\b\b\b\b\b\b\b\b\b\b\b\b\r",
        " 7904/50000 [===>..........................] - ETA: 1s - loss: 0.1958 - acc: 0.9446"
       ]
      },
      {
       "output_type": "stream",
       "stream": "stdout",
       "text": [
        "\b\b\b\b\b\b\b\b\b\b\b\b\b\b\b\b\b\b\b\b\b\b\b\b\b\b\b\b\b\b\b\b\b\b\b\b\b\b\b\b\b\b\b\b\b\b\b\b\b\b\b\b\b\b\b\b\b\b\b\b\b\b\b\b\b\b\b\b\b\b\b\b\b\b\b\b\b\b\b\b\b\b\b\r",
        "10016/50000 [=====>........................] - ETA: 1s - loss: 0.1979 - acc: 0.9440"
       ]
      },
      {
       "output_type": "stream",
       "stream": "stdout",
       "text": [
        "\b\b\b\b\b\b\b\b\b\b\b\b\b\b\b\b\b\b\b\b\b\b\b\b\b\b\b\b\b\b\b\b\b\b\b\b\b\b\b\b\b\b\b\b\b\b\b\b\b\b\b\b\b\b\b\b\b\b\b\b\b\b\b\b\b\b\b\b\b\b\b\b\b\b\b\b\b\b\b\b\b\b\b\r",
        "12160/50000 [======>.......................] - ETA: 0s - loss: 0.1947 - acc: 0.9447"
       ]
      },
      {
       "output_type": "stream",
       "stream": "stdout",
       "text": [
        "\b\b\b\b\b\b\b\b\b\b\b\b\b\b\b\b\b\b\b\b\b\b\b\b\b\b\b\b\b\b\b\b\b\b\b\b\b\b\b\b\b\b\b\b\b\b\b\b\b\b\b\b\b\b\b\b\b\b\b\b\b\b\b\b\b\b\b\b\b\b\b\b\b\b\b\b\b\b\b\b\b\b\b\r",
        "14304/50000 [=======>......................] - ETA: 0s - loss: 0.1954 - acc: 0.9448"
       ]
      },
      {
       "output_type": "stream",
       "stream": "stdout",
       "text": [
        "\b\b\b\b\b\b\b\b\b\b\b\b\b\b\b\b\b\b\b\b\b\b\b\b\b\b\b\b\b\b\b\b\b\b\b\b\b\b\b\b\b\b\b\b\b\b\b\b\b\b\b\b\b\b\b\b\b\b\b\b\b\b\b\b\b\b\b\b\b\b\b\b\b\b\b\b\b\b\b\b\b\b\b\r",
        "16448/50000 [========>.....................] - ETA: 0s - loss: 0.1948 - acc: 0.9452"
       ]
      },
      {
       "output_type": "stream",
       "stream": "stdout",
       "text": [
        "\b\b\b\b\b\b\b\b\b\b\b\b\b\b\b\b\b\b\b\b\b\b\b\b\b\b\b\b\b\b\b\b\b\b\b\b\b\b\b\b\b\b\b\b\b\b\b\b\b\b\b\b\b\b\b\b\b\b\b\b\b\b\b\b\b\b\b\b\b\b\b\b\b\b\b\b\b\b\b\b\b\b\b\r",
        "18592/50000 [==========>...................] - ETA: 0s - loss: 0.1925 - acc: 0.9456"
       ]
      },
      {
       "output_type": "stream",
       "stream": "stdout",
       "text": [
        "\b\b\b\b\b\b\b\b\b\b\b\b\b\b\b\b\b\b\b\b\b\b\b\b\b\b\b\b\b\b\b\b\b\b\b\b\b\b\b\b\b\b\b\b\b\b\b\b\b\b\b\b\b\b\b\b\b\b\b\b\b\b\b\b\b\b\b\b\b\b\b\b\b\b\b\b\b\b\b\b\b\b\b\r",
        "20736/50000 [===========>..................] - ETA: 0s - loss: 0.1947 - acc: 0.9454"
       ]
      },
      {
       "output_type": "stream",
       "stream": "stdout",
       "text": [
        "\b\b\b\b\b\b\b\b\b\b\b\b\b\b\b\b\b\b\b\b\b\b\b\b\b\b\b\b\b\b\b\b\b\b\b\b\b\b\b\b\b\b\b\b\b\b\b\b\b\b\b\b\b\b\b\b\b\b\b\b\b\b\b\b\b\b\b\b\b\b\b\b\b\b\b\b\b\b\b\b\b\b\b\r",
        "22880/50000 [============>.................] - ETA: 0s - loss: 0.1948 - acc: 0.9448"
       ]
      },
      {
       "output_type": "stream",
       "stream": "stdout",
       "text": [
        "\b\b\b\b\b\b\b\b\b\b\b\b\b\b\b\b\b\b\b\b\b\b\b\b\b\b\b\b\b\b\b\b\b\b\b\b\b\b\b\b\b\b\b\b\b\b\b\b\b\b\b\b\b\b\b\b\b\b\b\b\b\b\b\b\b\b\b\b\b\b\b\b\b\b\b\b\b\b\b\b\b\b\b\r",
        "25024/50000 [==============>...............] - ETA: 0s - loss: 0.1948 - acc: 0.9445"
       ]
      },
      {
       "output_type": "stream",
       "stream": "stdout",
       "text": [
        "\b\b\b\b\b\b\b\b\b\b\b\b\b\b\b\b\b\b\b\b\b\b\b\b\b\b\b\b\b\b\b\b\b\b\b\b\b\b\b\b\b\b\b\b\b\b\b\b\b\b\b\b\b\b\b\b\b\b\b\b\b\b\b\b\b\b\b\b\b\b\b\b\b\b\b\b\b\b\b\b\b\b\b\r",
        "26944/50000 [===============>..............] - ETA: 0s - loss: 0.1937 - acc: 0.9446"
       ]
      },
      {
       "output_type": "stream",
       "stream": "stdout",
       "text": [
        "\b\b\b\b\b\b\b\b\b\b\b\b\b\b\b\b\b\b\b\b\b\b\b\b\b\b\b\b\b\b\b\b\b\b\b\b\b\b\b\b\b\b\b\b\b\b\b\b\b\b\b\b\b\b\b\b\b\b\b\b\b\b\b\b\b\b\b\b\b\b\b\b\b\b\b\b\b\b\b\b\b\b\b\r",
        "28960/50000 [================>.............] - ETA: 0s - loss: 0.1941 - acc: 0.9445"
       ]
      },
      {
       "output_type": "stream",
       "stream": "stdout",
       "text": [
        "\b\b\b\b\b\b\b\b\b\b\b\b\b\b\b\b\b\b\b\b\b\b\b\b\b\b\b\b\b\b\b\b\b\b\b\b\b\b\b\b\b\b\b\b\b\b\b\b\b\b\b\b\b\b\b\b\b\b\b\b\b\b\b\b\b\b\b\b\b\b\b\b\b\b\b\b\b\b\b\b\b\b\b\r",
        "31104/50000 [=================>............] - ETA: 0s - loss: 0.1931 - acc: 0.9439"
       ]
      },
      {
       "output_type": "stream",
       "stream": "stdout",
       "text": [
        "\b\b\b\b\b\b\b\b\b\b\b\b\b\b\b\b\b\b\b\b\b\b\b\b\b\b\b\b\b\b\b\b\b\b\b\b\b\b\b\b\b\b\b\b\b\b\b\b\b\b\b\b\b\b\b\b\b\b\b\b\b\b\b\b\b\b\b\b\b\b\b\b\b\b\b\b\b\b\b\b\b\b\b\r",
        "33216/50000 [==================>...........] - ETA: 0s - loss: 0.1916 - acc: 0.9444"
       ]
      },
      {
       "output_type": "stream",
       "stream": "stdout",
       "text": [
        "\b\b\b\b\b\b\b\b\b\b\b\b\b\b\b\b\b\b\b\b\b\b\b\b\b\b\b\b\b\b\b\b\b\b\b\b\b\b\b\b\b\b\b\b\b\b\b\b\b\b\b\b\b\b\b\b\b\b\b\b\b\b\b\b\b\b\b\b\b\b\b\b\b\b\b\b\b\b\b\b\b\b\b\r",
        "35008/50000 [====================>.........] - ETA: 0s - loss: 0.1901 - acc: 0.9451"
       ]
      },
      {
       "output_type": "stream",
       "stream": "stdout",
       "text": [
        "\b\b\b\b\b\b\b\b\b\b\b\b\b\b\b\b\b\b\b\b\b\b\b\b\b\b\b\b\b\b\b\b\b\b\b\b\b\b\b\b\b\b\b\b\b\b\b\b\b\b\b\b\b\b\b\b\b\b\b\b\b\b\b\b\b\b\b\b\b\b\b\b\b\b\b\b\b\b\b\b\b\b\b\r",
        "37152/50000 [=====================>........] - ETA: 0s - loss: 0.1894 - acc: 0.9451"
       ]
      },
      {
       "output_type": "stream",
       "stream": "stdout",
       "text": [
        "\b\b\b\b\b\b\b\b\b\b\b\b\b\b\b\b\b\b\b\b\b\b\b\b\b\b\b\b\b\b\b\b\b\b\b\b\b\b\b\b\b\b\b\b\b\b\b\b\b\b\b\b\b\b\b\b\b\b\b\b\b\b\b\b\b\b\b\b\b\b\b\b\b\b\b\b\b\b\b\b\b\b\b\r",
        "39040/50000 [======================>.......] - ETA: 0s - loss: 0.1891 - acc: 0.9452"
       ]
      },
      {
       "output_type": "stream",
       "stream": "stdout",
       "text": [
        "\b\b\b\b\b\b\b\b\b\b\b\b\b\b\b\b\b\b\b\b\b\b\b\b\b\b\b\b\b\b\b\b\b\b\b\b\b\b\b\b\b\b\b\b\b\b\b\b\b\b\b\b\b\b\b\b\b\b\b\b\b\b\b\b\b\b\b\b\b\b\b\b\b\b\b\b\b\b\b\b\b\b\b\r",
        "41088/50000 [=======================>......] - ETA: 0s - loss: 0.1881 - acc: 0.9456"
       ]
      },
      {
       "output_type": "stream",
       "stream": "stdout",
       "text": [
        "\b\b\b\b\b\b\b\b\b\b\b\b\b\b\b\b\b\b\b\b\b\b\b\b\b\b\b\b\b\b\b\b\b\b\b\b\b\b\b\b\b\b\b\b\b\b\b\b\b\b\b\b\b\b\b\b\b\b\b\b\b\b\b\b\b\b\b\b\b\b\b\b\b\b\b\b\b\b\b\b\b\b\b\r",
        "43200/50000 [========================>.....] - ETA: 0s - loss: 0.1894 - acc: 0.9453"
       ]
      },
      {
       "output_type": "stream",
       "stream": "stdout",
       "text": [
        "\b\b\b\b\b\b\b\b\b\b\b\b\b\b\b\b\b\b\b\b\b\b\b\b\b\b\b\b\b\b\b\b\b\b\b\b\b\b\b\b\b\b\b\b\b\b\b\b\b\b\b\b\b\b\b\b\b\b\b\b\b\b\b\b\b\b\b\b\b\b\b\b\b\b\b\b\b\b\b\b\b\b\b\r",
        "45312/50000 [==========================>...] - ETA: 0s - loss: 0.1896 - acc: 0.9451"
       ]
      },
      {
       "output_type": "stream",
       "stream": "stdout",
       "text": [
        "\b\b\b\b\b\b\b\b\b\b\b\b\b\b\b\b\b\b\b\b\b\b\b\b\b\b\b\b\b\b\b\b\b\b\b\b\b\b\b\b\b\b\b\b\b\b\b\b\b\b\b\b\b\b\b\b\b\b\b\b\b\b\b\b\b\b\b\b\b\b\b\b\b\b\b\b\b\b\b\b\b\b\b\r",
        "47456/50000 [===========================>..] - ETA: 0s - loss: 0.1900 - acc: 0.9450"
       ]
      },
      {
       "output_type": "stream",
       "stream": "stdout",
       "text": [
        "\b\b\b\b\b\b\b\b\b\b\b\b\b\b\b\b\b\b\b\b\b\b\b\b\b\b\b\b\b\b\b\b\b\b\b\b\b\b\b\b\b\b\b\b\b\b\b\b\b\b\b\b\b\b\b\b\b\b\b\b\b\b\b\b\b\b\b\b\b\b\b\b\b\b\b\b\b\b\b\b\b\b\b\r",
        "49600/50000 [============================>.] - ETA: 0s - loss: 0.1889 - acc: 0.9453"
       ]
      },
      {
       "output_type": "stream",
       "stream": "stdout",
       "text": [
        "\b\b\b\b\b\b\b\b\b\b\b\b\b\b\b\b\b\b\b\b\b\b\b\b\b\b\b\b\b\b\b\b\b\b\b\b\b\b\b\b\b\b\b\b\b\b\b\b\b\b\b\b\b\b\b\b\b\b\b\b\b\b\b\b\b\b\b\b\b\b\b\b\b\b\b\b\b\b\b\b\b\b\b\r",
        "50000/50000 [==============================] - 1s - loss: 0.1883 - acc: 0.9454     "
       ]
      },
      {
       "output_type": "stream",
       "stream": "stdout",
       "text": [
        "\n",
        "Epoch 3/5\n",
        "\r",
        "   32/50000 [..............................] - ETA: 4s - loss: 0.2664 - acc: 0.9375"
       ]
      },
      {
       "output_type": "stream",
       "stream": "stdout",
       "text": [
        "\b\b\b\b\b\b\b\b\b\b\b\b\b\b\b\b\b\b\b\b\b\b\b\b\b\b\b\b\b\b\b\b\b\b\b\b\b\b\b\b\b\b\b\b\b\b\b\b\b\b\b\b\b\b\b\b\b\b\b\b\b\b\b\b\b\b\b\b\b\b\b\b\b\b\b\b\b\b\b\b\b\b\b\r",
        " 1760/50000 [>.............................] - ETA: 1s - loss: 0.1420 - acc: 0.9597"
       ]
      },
      {
       "output_type": "stream",
       "stream": "stdout",
       "text": [
        "\b\b\b\b\b\b\b\b\b\b\b\b\b\b\b\b\b\b\b\b\b\b\b\b\b\b\b\b\b\b\b\b\b\b\b\b\b\b\b\b\b\b\b\b\b\b\b\b\b\b\b\b\b\b\b\b\b\b\b\b\b\b\b\b\b\b\b\b\b\b\b\b\b\b\b\b\b\b\b\b\b\b\b\r",
        " 3904/50000 [=>............................] - ETA: 1s - loss: 0.1389 - acc: 0.9603"
       ]
      },
      {
       "output_type": "stream",
       "stream": "stdout",
       "text": [
        "\b\b\b\b\b\b\b\b\b\b\b\b\b\b\b\b\b\b\b\b\b\b\b\b\b\b\b\b\b\b\b\b\b\b\b\b\b\b\b\b\b\b\b\b\b\b\b\b\b\b\b\b\b\b\b\b\b\b\b\b\b\b\b\b\b\b\b\b\b\b\b\b\b\b\b\b\b\b\b\b\b\b\b\r",
        " 6048/50000 [==>...........................] - ETA: 1s - loss: 0.1447 - acc: 0.9590"
       ]
      },
      {
       "output_type": "stream",
       "stream": "stdout",
       "text": [
        "\b\b\b\b\b\b\b\b\b\b\b\b\b\b\b\b\b\b\b\b\b\b\b\b\b\b\b\b\b\b\b\b\b\b\b\b\b\b\b\b\b\b\b\b\b\b\b\b\b\b\b\b\b\b\b\b\b\b\b\b\b\b\b\b\b\b\b\b\b\b\b\b\b\b\b\b\b\b\b\b\b\b\b\r",
        " 8192/50000 [===>..........................] - ETA: 1s - loss: 0.1395 - acc: 0.9598"
       ]
      },
      {
       "output_type": "stream",
       "stream": "stdout",
       "text": [
        "\b\b\b\b\b\b\b\b\b\b\b\b\b\b\b\b\b\b\b\b\b\b\b\b\b\b\b\b\b\b\b\b\b\b\b\b\b\b\b\b\b\b\b\b\b\b\b\b\b\b\b\b\b\b\b\b\b\b\b\b\b\b\b\b\b\b\b\b\b\b\b\b\b\b\b\b\b\b\b\b\b\b\b\r",
        "10304/50000 [=====>........................] - ETA: 0s - loss: 0.1439 - acc: 0.9577"
       ]
      },
      {
       "output_type": "stream",
       "stream": "stdout",
       "text": [
        "\b\b\b\b\b\b\b\b\b\b\b\b\b\b\b\b\b\b\b\b\b\b\b\b\b\b\b\b\b\b\b\b\b\b\b\b\b\b\b\b\b\b\b\b\b\b\b\b\b\b\b\b\b\b\b\b\b\b\b\b\b\b\b\b\b\b\b\b\b\b\b\b\b\b\b\b\b\b\b\b\b\b\b\r",
        "12064/50000 [======>.......................] - ETA: 0s - loss: 0.1482 - acc: 0.9562"
       ]
      },
      {
       "output_type": "stream",
       "stream": "stdout",
       "text": [
        "\b\b\b\b\b\b\b\b\b\b\b\b\b\b\b\b\b\b\b\b\b\b\b\b\b\b\b\b\b\b\b\b\b\b\b\b\b\b\b\b\b\b\b\b\b\b\b\b\b\b\b\b\b\b\b\b\b\b\b\b\b\b\b\b\b\b\b\b\b\b\b\b\b\b\b\b\b\b\b\b\b\b\b\r",
        "14144/50000 [=======>......................] - ETA: 0s - loss: 0.1494 - acc: 0.9560"
       ]
      },
      {
       "output_type": "stream",
       "stream": "stdout",
       "text": [
        "\b\b\b\b\b\b\b\b\b\b\b\b\b\b\b\b\b\b\b\b\b\b\b\b\b\b\b\b\b\b\b\b\b\b\b\b\b\b\b\b\b\b\b\b\b\b\b\b\b\b\b\b\b\b\b\b\b\b\b\b\b\b\b\b\b\b\b\b\b\b\b\b\b\b\b\b\b\b\b\b\b\b\b\r",
        "16288/50000 [========>.....................] - ETA: 0s - loss: 0.1507 - acc: 0.9556"
       ]
      },
      {
       "output_type": "stream",
       "stream": "stdout",
       "text": [
        "\b\b\b\b\b\b\b\b\b\b\b\b\b\b\b\b\b\b\b\b\b\b\b\b\b\b\b\b\b\b\b\b\b\b\b\b\b\b\b\b\b\b\b\b\b\b\b\b\b\b\b\b\b\b\b\b\b\b\b\b\b\b\b\b\b\b\b\b\b\b\b\b\b\b\b\b\b\b\b\b\b\b\b\r",
        "18144/50000 [=========>....................] - ETA: 0s - loss: 0.1543 - acc: 0.9542"
       ]
      },
      {
       "output_type": "stream",
       "stream": "stdout",
       "text": [
        "\b\b\b\b\b\b\b\b\b\b\b\b\b\b\b\b\b\b\b\b\b\b\b\b\b\b\b\b\b\b\b\b\b\b\b\b\b\b\b\b\b\b\b\b\b\b\b\b\b\b\b\b\b\b\b\b\b\b\b\b\b\b\b\b\b\b\b\b\b\b\b\b\b\b\b\b\b\b\b\b\b\b\b\r",
        "20288/50000 [===========>..................] - ETA: 0s - loss: 0.1535 - acc: 0.9545"
       ]
      },
      {
       "output_type": "stream",
       "stream": "stdout",
       "text": [
        "\b\b\b\b\b\b\b\b\b\b\b\b\b\b\b\b\b\b\b\b\b\b\b\b\b\b\b\b\b\b\b\b\b\b\b\b\b\b\b\b\b\b\b\b\b\b\b\b\b\b\b\b\b\b\b\b\b\b\b\b\b\b\b\b\b\b\b\b\b\b\b\b\b\b\b\b\b\b\b\b\b\b\b\r",
        "22432/50000 [============>.................] - ETA: 0s - loss: 0.1534 - acc: 0.9546"
       ]
      },
      {
       "output_type": "stream",
       "stream": "stdout",
       "text": [
        "\b\b\b\b\b\b\b\b\b\b\b\b\b\b\b\b\b\b\b\b\b\b\b\b\b\b\b\b\b\b\b\b\b\b\b\b\b\b\b\b\b\b\b\b\b\b\b\b\b\b\b\b\b\b\b\b\b\b\b\b\b\b\b\b\b\b\b\b\b\b\b\b\b\b\b\b\b\b\b\b\b\b\b\r",
        "24576/50000 [=============>................] - ETA: 0s - loss: 0.1527 - acc: 0.9548"
       ]
      },
      {
       "output_type": "stream",
       "stream": "stdout",
       "text": [
        "\b\b\b\b\b\b\b\b\b\b\b\b\b\b\b\b\b\b\b\b\b\b\b\b\b\b\b\b\b\b\b\b\b\b\b\b\b\b\b\b\b\b\b\b\b\b\b\b\b\b\b\b\b\b\b\b\b\b\b\b\b\b\b\b\b\b\b\b\b\b\b\b\b\b\b\b\b\b\b\b\b\b\b\r",
        "26752/50000 [===============>..............] - ETA: 0s - loss: 0.1532 - acc: 0.9549"
       ]
      },
      {
       "output_type": "stream",
       "stream": "stdout",
       "text": [
        "\b\b\b\b\b\b\b\b\b\b\b\b\b\b\b\b\b\b\b\b\b\b\b\b\b\b\b\b\b\b\b\b\b\b\b\b\b\b\b\b\b\b\b\b\b\b\b\b\b\b\b\b\b\b\b\b\b\b\b\b\b\b\b\b\b\b\b\b\b\b\b\b\b\b\b\b\b\b\b\b\b\b\b\r",
        "28896/50000 [================>.............] - ETA: 0s - loss: 0.1532 - acc: 0.9551"
       ]
      },
      {
       "output_type": "stream",
       "stream": "stdout",
       "text": [
        "\b\b\b\b\b\b\b\b\b\b\b\b\b\b\b\b\b\b\b\b\b\b\b\b\b\b\b\b\b\b\b\b\b\b\b\b\b\b\b\b\b\b\b\b\b\b\b\b\b\b\b\b\b\b\b\b\b\b\b\b\b\b\b\b\b\b\b\b\b\b\b\b\b\b\b\b\b\b\b\b\b\b\b\r",
        "30752/50000 [=================>............] - ETA: 0s - loss: 0.1545 - acc: 0.9546"
       ]
      },
      {
       "output_type": "stream",
       "stream": "stdout",
       "text": [
        "\b\b\b\b\b\b\b\b\b\b\b\b\b\b\b\b\b\b\b\b\b\b\b\b\b\b\b\b\b\b\b\b\b\b\b\b\b\b\b\b\b\b\b\b\b\b\b\b\b\b\b\b\b\b\b\b\b\b\b\b\b\b\b\b\b\b\b\b\b\b\b\b\b\b\b\b\b\b\b\b\b\b\b\r",
        "32896/50000 [==================>...........] - ETA: 0s - loss: 0.1531 - acc: 0.9550"
       ]
      },
      {
       "output_type": "stream",
       "stream": "stdout",
       "text": [
        "\b\b\b\b\b\b\b\b\b\b\b\b\b\b\b\b\b\b\b\b\b\b\b\b\b\b\b\b\b\b\b\b\b\b\b\b\b\b\b\b\b\b\b\b\b\b\b\b\b\b\b\b\b\b\b\b\b\b\b\b\b\b\b\b\b\b\b\b\b\b\b\b\b\b\b\b\b\b\b\b\b\b\b\r",
        "35040/50000 [====================>.........] - ETA: 0s - loss: 0.1537 - acc: 0.9548"
       ]
      },
      {
       "output_type": "stream",
       "stream": "stdout",
       "text": [
        "\b\b\b\b\b\b\b\b\b\b\b\b\b\b\b\b\b\b\b\b\b\b\b\b\b\b\b\b\b\b\b\b\b\b\b\b\b\b\b\b\b\b\b\b\b\b\b\b\b\b\b\b\b\b\b\b\b\b\b\b\b\b\b\b\b\b\b\b\b\b\b\b\b\b\b\b\b\b\b\b\b\b\b\r",
        "37152/50000 [=====================>........] - ETA: 0s - loss: 0.1535 - acc: 0.9548"
       ]
      },
      {
       "output_type": "stream",
       "stream": "stdout",
       "text": [
        "\b\b\b\b\b\b\b\b\b\b\b\b\b\b\b\b\b\b\b\b\b\b\b\b\b\b\b\b\b\b\b\b\b\b\b\b\b\b\b\b\b\b\b\b\b\b\b\b\b\b\b\b\b\b\b\b\b\b\b\b\b\b\b\b\b\b\b\b\b\b\b\b\b\b\b\b\b\b\b\b\b\b\b\r",
        "39296/50000 [======================>.......] - ETA: 0s - loss: 0.1525 - acc: 0.9551"
       ]
      },
      {
       "output_type": "stream",
       "stream": "stdout",
       "text": [
        "\b\b\b\b\b\b\b\b\b\b\b\b\b\b\b\b\b\b\b\b\b\b\b\b\b\b\b\b\b\b\b\b\b\b\b\b\b\b\b\b\b\b\b\b\b\b\b\b\b\b\b\b\b\b\b\b\b\b\b\b\b\b\b\b\b\b\b\b\b\b\b\b\b\b\b\b\b\b\b\b\b\b\b\r",
        "41088/50000 [=======================>......] - ETA: 0s - loss: 0.1512 - acc: 0.9555"
       ]
      },
      {
       "output_type": "stream",
       "stream": "stdout",
       "text": [
        "\b\b\b\b\b\b\b\b\b\b\b\b\b\b\b\b\b\b\b\b\b\b\b\b\b\b\b\b\b\b\b\b\b\b\b\b\b\b\b\b\b\b\b\b\b\b\b\b\b\b\b\b\b\b\b\b\b\b\b\b\b\b\b\b\b\b\b\b\b\b\b\b\b\b\b\b\b\b\b\b\b\b\b\r",
        "43168/50000 [========================>.....] - ETA: 0s - loss: 0.1501 - acc: 0.9556"
       ]
      },
      {
       "output_type": "stream",
       "stream": "stdout",
       "text": [
        "\b\b\b\b\b\b\b\b\b\b\b\b\b\b\b\b\b\b\b\b\b\b\b\b\b\b\b\b\b\b\b\b\b\b\b\b\b\b\b\b\b\b\b\b\b\b\b\b\b\b\b\b\b\b\b\b\b\b\b\b\b\b\b\b\b\b\b\b\b\b\b\b\b\b\b\b\b\b\b\b\b\b\b\r",
        "45344/50000 [==========================>...] - ETA: 0s - loss: 0.1494 - acc: 0.9559"
       ]
      },
      {
       "output_type": "stream",
       "stream": "stdout",
       "text": [
        "\b\b\b\b\b\b\b\b\b\b\b\b\b\b\b\b\b\b\b\b\b\b\b\b\b\b\b\b\b\b\b\b\b\b\b\b\b\b\b\b\b\b\b\b\b\b\b\b\b\b\b\b\b\b\b\b\b\b\b\b\b\b\b\b\b\b\b\b\b\b\b\b\b\b\b\b\b\b\b\b\b\b\b\r",
        "47488/50000 [===========================>..] - ETA: 0s - loss: 0.1487 - acc: 0.9560"
       ]
      },
      {
       "output_type": "stream",
       "stream": "stdout",
       "text": [
        "\b\b\b\b\b\b\b\b\b\b\b\b\b\b\b\b\b\b\b\b\b\b\b\b\b\b\b\b\b\b\b\b\b\b\b\b\b\b\b\b\b\b\b\b\b\b\b\b\b\b\b\b\b\b\b\b\b\b\b\b\b\b\b\b\b\b\b\b\b\b\b\b\b\b\b\b\b\b\b\b\b\b\b\r",
        "49632/50000 [============================>.] - ETA: 0s - loss: 0.1479 - acc: 0.9561"
       ]
      },
      {
       "output_type": "stream",
       "stream": "stdout",
       "text": [
        "\b\b\b\b\b\b\b\b\b\b\b\b\b\b\b\b\b\b\b\b\b\b\b\b\b\b\b\b\b\b\b\b\b\b\b\b\b\b\b\b\b\b\b\b\b\b\b\b\b\b\b\b\b\b\b\b\b\b\b\b\b\b\b\b\b\b\b\b\b\b\b\b\b\b\b\b\b\b\b\b\b\b\b\r",
        "50000/50000 [==============================] - 1s - loss: 0.1483 - acc: 0.9559     "
       ]
      },
      {
       "output_type": "stream",
       "stream": "stdout",
       "text": [
        "\n",
        "Epoch 4/5\n",
        "\r",
        "   32/50000 [..............................] - ETA: 3s - loss: 0.1447 - acc: 0.9062"
       ]
      },
      {
       "output_type": "stream",
       "stream": "stdout",
       "text": [
        "\b\b\b\b\b\b\b\b\b\b\b\b\b\b\b\b\b\b\b\b\b\b\b\b\b\b\b\b\b\b\b\b\b\b\b\b\b\b\b\b\b\b\b\b\b\b\b\b\b\b\b\b\b\b\b\b\b\b\b\b\b\b\b\b\b\b\b\b\b\b\b\b\b\b\b\b\b\b\b\b\b\b\b\r",
        " 1856/50000 [>.............................] - ETA: 1s - loss: 0.1370 - acc: 0.9639"
       ]
      },
      {
       "output_type": "stream",
       "stream": "stdout",
       "text": [
        "\b\b\b\b\b\b\b\b\b\b\b\b\b\b\b\b\b\b\b\b\b\b\b\b\b\b\b\b\b\b\b\b\b\b\b\b\b\b\b\b\b\b\b\b\b\b\b\b\b\b\b\b\b\b\b\b\b\b\b\b\b\b\b\b\b\b\b\b\b\b\b\b\b\b\b\b\b\b\b\b\b\b\b\r",
        " 4000/50000 [=>............................] - ETA: 1s - loss: 0.1356 - acc: 0.9627"
       ]
      },
      {
       "output_type": "stream",
       "stream": "stdout",
       "text": [
        "\b\b\b\b\b\b\b\b\b\b\b\b\b\b\b\b\b\b\b\b\b\b\b\b\b\b\b\b\b\b\b\b\b\b\b\b\b\b\b\b\b\b\b\b\b\b\b\b\b\b\b\b\b\b\b\b\b\b\b\b\b\b\b\b\b\b\b\b\b\b\b\b\b\b\b\b\b\b\b\b\b\b\b\r",
        " 6176/50000 [==>...........................] - ETA: 1s - loss: 0.1348 - acc: 0.9615"
       ]
      },
      {
       "output_type": "stream",
       "stream": "stdout",
       "text": [
        "\b\b\b\b\b\b\b\b\b\b\b\b\b\b\b\b\b\b\b\b\b\b\b\b\b\b\b\b\b\b\b\b\b\b\b\b\b\b\b\b\b\b\b\b\b\b\b\b\b\b\b\b\b\b\b\b\b\b\b\b\b\b\b\b\b\b\b\b\b\b\b\b\b\b\b\b\b\b\b\b\b\b\b\r",
        " 8320/50000 [===>..........................] - ETA: 1s - loss: 0.1321 - acc: 0.9623"
       ]
      },
      {
       "output_type": "stream",
       "stream": "stdout",
       "text": [
        "\b\b\b\b\b\b\b\b\b\b\b\b\b\b\b\b\b\b\b\b\b\b\b\b\b\b\b\b\b\b\b\b\b\b\b\b\b\b\b\b\b\b\b\b\b\b\b\b\b\b\b\b\b\b\b\b\b\b\b\b\b\b\b\b\b\b\b\b\b\b\b\b\b\b\b\b\b\b\b\b\b\b\b\r",
        "10208/50000 [=====>........................] - ETA: 0s - loss: 0.1288 - acc: 0.9616"
       ]
      },
      {
       "output_type": "stream",
       "stream": "stdout",
       "text": [
        "\b\b\b\b\b\b\b\b\b\b\b\b\b\b\b\b\b\b\b\b\b\b\b\b\b\b\b\b\b\b\b\b\b\b\b\b\b\b\b\b\b\b\b\b\b\b\b\b\b\b\b\b\b\b\b\b\b\b\b\b\b\b\b\b\b\b\b\b\b\b\b\b\b\b\b\b\b\b\b\b\b\b\b\r",
        "12352/50000 [======>.......................] - ETA: 0s - loss: 0.1290 - acc: 0.9611"
       ]
      },
      {
       "output_type": "stream",
       "stream": "stdout",
       "text": [
        "\b\b\b\b\b\b\b\b\b\b\b\b\b\b\b\b\b\b\b\b\b\b\b\b\b\b\b\b\b\b\b\b\b\b\b\b\b\b\b\b\b\b\b\b\b\b\b\b\b\b\b\b\b\b\b\b\b\b\b\b\b\b\b\b\b\b\b\b\b\b\b\b\b\b\b\b\b\b\b\b\b\b\b\r",
        "14528/50000 [=======>......................] - ETA: 0s - loss: 0.1295 - acc: 0.9614"
       ]
      },
      {
       "output_type": "stream",
       "stream": "stdout",
       "text": [
        "\b\b\b\b\b\b\b\b\b\b\b\b\b\b\b\b\b\b\b\b\b\b\b\b\b\b\b\b\b\b\b\b\b\b\b\b\b\b\b\b\b\b\b\b\b\b\b\b\b\b\b\b\b\b\b\b\b\b\b\b\b\b\b\b\b\b\b\b\b\b\b\b\b\b\b\b\b\b\b\b\b\b\b\r",
        "16672/50000 [=========>....................] - ETA: 0s - loss: 0.1296 - acc: 0.9615"
       ]
      },
      {
       "output_type": "stream",
       "stream": "stdout",
       "text": [
        "\b\b\b\b\b\b\b\b\b\b\b\b\b\b\b\b\b\b\b\b\b\b\b\b\b\b\b\b\b\b\b\b\b\b\b\b\b\b\b\b\b\b\b\b\b\b\b\b\b\b\b\b\b\b\b\b\b\b\b\b\b\b\b\b\b\b\b\b\b\b\b\b\b\b\b\b\b\b\b\b\b\b\b\r",
        "18816/50000 [==========>...................] - ETA: 0s - loss: 0.1321 - acc: 0.9606"
       ]
      },
      {
       "output_type": "stream",
       "stream": "stdout",
       "text": [
        "\b\b\b\b\b\b\b\b\b\b\b\b\b\b\b\b\b\b\b\b\b\b\b\b\b\b\b\b\b\b\b\b\b\b\b\b\b\b\b\b\b\b\b\b\b\b\b\b\b\b\b\b\b\b\b\b\b\b\b\b\b\b\b\b\b\b\b\b\b\b\b\b\b\b\b\b\b\b\b\b\b\b\b\r",
        "20576/50000 [===========>..................] - ETA: 0s - loss: 0.1317 - acc: 0.9606"
       ]
      },
      {
       "output_type": "stream",
       "stream": "stdout",
       "text": [
        "\b\b\b\b\b\b\b\b\b\b\b\b\b\b\b\b\b\b\b\b\b\b\b\b\b\b\b\b\b\b\b\b\b\b\b\b\b\b\b\b\b\b\b\b\b\b\b\b\b\b\b\b\b\b\b\b\b\b\b\b\b\b\b\b\b\b\b\b\b\b\b\b\b\b\b\b\b\b\b\b\b\b\b\r",
        "22496/50000 [============>.................] - ETA: 0s - loss: 0.1321 - acc: 0.9604"
       ]
      },
      {
       "output_type": "stream",
       "stream": "stdout",
       "text": [
        "\b\b\b\b\b\b\b\b\b\b\b\b\b\b\b\b\b\b\b\b\b\b\b\b\b\b\b\b\b\b\b\b\b\b\b\b\b\b\b\b\b\b\b\b\b\b\b\b\b\b\b\b\b\b\b\b\b\b\b\b\b\b\b\b\b\b\b\b\b\b\b\b\b\b\b\b\b\b\b\b\b\b\b\r",
        "24640/50000 [=============>................] - ETA: 0s - loss: 0.1306 - acc: 0.9609"
       ]
      },
      {
       "output_type": "stream",
       "stream": "stdout",
       "text": [
        "\b\b\b\b\b\b\b\b\b\b\b\b\b\b\b\b\b\b\b\b\b\b\b\b\b\b\b\b\b\b\b\b\b\b\b\b\b\b\b\b\b\b\b\b\b\b\b\b\b\b\b\b\b\b\b\b\b\b\b\b\b\b\b\b\b\b\b\b\b\b\b\b\b\b\b\b\b\b\b\b\b\b\b\r",
        "26784/50000 [===============>..............] - ETA: 0s - loss: 0.1291 - acc: 0.9615"
       ]
      },
      {
       "output_type": "stream",
       "stream": "stdout",
       "text": [
        "\b\b\b\b\b\b\b\b\b\b\b\b\b\b\b\b\b\b\b\b\b\b\b\b\b\b\b\b\b\b\b\b\b\b\b\b\b\b\b\b\b\b\b\b\b\b\b\b\b\b\b\b\b\b\b\b\b\b\b\b\b\b\b\b\b\b\b\b\b\b\b\b\b\b\b\b\b\b\b\b\b\b\b\r",
        "28928/50000 [================>.............] - ETA: 0s - loss: 0.1291 - acc: 0.9615"
       ]
      },
      {
       "output_type": "stream",
       "stream": "stdout",
       "text": [
        "\b\b\b\b\b\b\b\b\b\b\b\b\b\b\b\b\b\b\b\b\b\b\b\b\b\b\b\b\b\b\b\b\b\b\b\b\b\b\b\b\b\b\b\b\b\b\b\b\b\b\b\b\b\b\b\b\b\b\b\b\b\b\b\b\b\b\b\b\b\b\b\b\b\b\b\b\b\b\b\b\b\b\b\r",
        "31072/50000 [=================>............] - ETA: 0s - loss: 0.1275 - acc: 0.9619"
       ]
      },
      {
       "output_type": "stream",
       "stream": "stdout",
       "text": [
        "\b\b\b\b\b\b\b\b\b\b\b\b\b\b\b\b\b\b\b\b\b\b\b\b\b\b\b\b\b\b\b\b\b\b\b\b\b\b\b\b\b\b\b\b\b\b\b\b\b\b\b\b\b\b\b\b\b\b\b\b\b\b\b\b\b\b\b\b\b\b\b\b\b\b\b\b\b\b\b\b\b\b\b\r",
        "33216/50000 [==================>...........] - ETA: 0s - loss: 0.1270 - acc: 0.9621"
       ]
      },
      {
       "output_type": "stream",
       "stream": "stdout",
       "text": [
        "\b\b\b\b\b\b\b\b\b\b\b\b\b\b\b\b\b\b\b\b\b\b\b\b\b\b\b\b\b\b\b\b\b\b\b\b\b\b\b\b\b\b\b\b\b\b\b\b\b\b\b\b\b\b\b\b\b\b\b\b\b\b\b\b\b\b\b\b\b\b\b\b\b\b\b\b\b\b\b\b\b\b\b\r",
        "35392/50000 [====================>.........] - ETA: 0s - loss: 0.1261 - acc: 0.9626"
       ]
      },
      {
       "output_type": "stream",
       "stream": "stdout",
       "text": [
        "\b\b\b\b\b\b\b\b\b\b\b\b\b\b\b\b\b\b\b\b\b\b\b\b\b\b\b\b\b\b\b\b\b\b\b\b\b\b\b\b\b\b\b\b\b\b\b\b\b\b\b\b\b\b\b\b\b\b\b\b\b\b\b\b\b\b\b\b\b\b\b\b\b\b\b\b\b\b\b\b\b\b\b\r",
        "37536/50000 [=====================>........] - ETA: 0s - loss: 0.1248 - acc: 0.9627"
       ]
      },
      {
       "output_type": "stream",
       "stream": "stdout",
       "text": [
        "\b\b\b\b\b\b\b\b\b\b\b\b\b\b\b\b\b\b\b\b\b\b\b\b\b\b\b\b\b\b\b\b\b\b\b\b\b\b\b\b\b\b\b\b\b\b\b\b\b\b\b\b\b\b\b\b\b\b\b\b\b\b\b\b\b\b\b\b\b\b\b\b\b\b\b\b\b\b\b\b\b\b\b\r",
        "39680/50000 [======================>.......] - ETA: 0s - loss: 0.1242 - acc: 0.9628"
       ]
      },
      {
       "output_type": "stream",
       "stream": "stdout",
       "text": [
        "\b\b\b\b\b\b\b\b\b\b\b\b\b\b\b\b\b\b\b\b\b\b\b\b\b\b\b\b\b\b\b\b\b\b\b\b\b\b\b\b\b\b\b\b\b\b\b\b\b\b\b\b\b\b\b\b\b\b\b\b\b\b\b\b\b\b\b\b\b\b\b\b\b\b\b\b\b\b\b\b\b\b\b\r",
        "41824/50000 [========================>.....] - ETA: 0s - loss: 0.1256 - acc: 0.9626"
       ]
      },
      {
       "output_type": "stream",
       "stream": "stdout",
       "text": [
        "\b\b\b\b\b\b\b\b\b\b\b\b\b\b\b\b\b\b\b\b\b\b\b\b\b\b\b\b\b\b\b\b\b\b\b\b\b\b\b\b\b\b\b\b\b\b\b\b\b\b\b\b\b\b\b\b\b\b\b\b\b\b\b\b\b\b\b\b\b\b\b\b\b\b\b\b\b\b\b\b\b\b\b\r",
        "43968/50000 [=========================>....] - ETA: 0s - loss: 0.1254 - acc: 0.9623"
       ]
      },
      {
       "output_type": "stream",
       "stream": "stdout",
       "text": [
        "\b\b\b\b\b\b\b\b\b\b\b\b\b\b\b\b\b\b\b\b\b\b\b\b\b\b\b\b\b\b\b\b\b\b\b\b\b\b\b\b\b\b\b\b\b\b\b\b\b\b\b\b\b\b\b\b\b\b\b\b\b\b\b\b\b\b\b\b\b\b\b\b\b\b\b\b\b\b\b\b\b\b\b\r",
        "46112/50000 [==========================>...] - ETA: 0s - loss: 0.1248 - acc: 0.9625"
       ]
      },
      {
       "output_type": "stream",
       "stream": "stdout",
       "text": [
        "\b\b\b\b\b\b\b\b\b\b\b\b\b\b\b\b\b\b\b\b\b\b\b\b\b\b\b\b\b\b\b\b\b\b\b\b\b\b\b\b\b\b\b\b\b\b\b\b\b\b\b\b\b\b\b\b\b\b\b\b\b\b\b\b\b\b\b\b\b\b\b\b\b\b\b\b\b\b\b\b\b\b\b\r",
        "48256/50000 [===========================>..] - ETA: 0s - loss: 0.1243 - acc: 0.9628"
       ]
      },
      {
       "output_type": "stream",
       "stream": "stdout",
       "text": [
        "\b\b\b\b\b\b\b\b\b\b\b\b\b\b\b\b\b\b\b\b\b\b\b\b\b\b\b\b\b\b\b\b\b\b\b\b\b\b\b\b\b\b\b\b\b\b\b\b\b\b\b\b\b\b\b\b\b\b\b\b\b\b\b\b\b\b\b\b\b\b\b\b\b\b\b\b\b\b\b\b\b\b\b\r",
        "50000/50000 [==============================] - 1s - loss: 0.1247 - acc: 0.9628     "
       ]
      },
      {
       "output_type": "stream",
       "stream": "stdout",
       "text": [
        "\n",
        "Epoch 5/5\n",
        "\r",
        "   32/50000 [..............................] - ETA: 3s - loss: 0.0640 - acc: 0.9688"
       ]
      },
      {
       "output_type": "stream",
       "stream": "stdout",
       "text": [
        "\b\b\b\b\b\b\b\b\b\b\b\b\b\b\b\b\b\b\b\b\b\b\b\b\b\b\b\b\b\b\b\b\b\b\b\b\b\b\b\b\b\b\b\b\b\b\b\b\b\b\b\b\b\b\b\b\b\b\b\b\b\b\b\b\b\b\b\b\b\b\b\b\b\b\b\b\b\b\b\b\b\b\b\r",
        " 1824/50000 [>.............................] - ETA: 1s - loss: 0.1081 - acc: 0.9682"
       ]
      },
      {
       "output_type": "stream",
       "stream": "stdout",
       "text": [
        "\b\b\b\b\b\b\b\b\b\b\b\b\b\b\b\b\b\b\b\b\b\b\b\b\b\b\b\b\b\b\b\b\b\b\b\b\b\b\b\b\b\b\b\b\b\b\b\b\b\b\b\b\b\b\b\b\b\b\b\b\b\b\b\b\b\b\b\b\b\b\b\b\b\b\b\b\b\b\b\b\b\b\b\r",
        " 3968/50000 [=>............................] - ETA: 1s - loss: 0.1046 - acc: 0.9670"
       ]
      },
      {
       "output_type": "stream",
       "stream": "stdout",
       "text": [
        "\b\b\b\b\b\b\b\b\b\b\b\b\b\b\b\b\b\b\b\b\b\b\b\b\b\b\b\b\b\b\b\b\b\b\b\b\b\b\b\b\b\b\b\b\b\b\b\b\b\b\b\b\b\b\b\b\b\b\b\b\b\b\b\b\b\b\b\b\b\b\b\b\b\b\b\b\b\b\b\b\b\b\b\r",
        " 6112/50000 [==>...........................] - ETA: 1s - loss: 0.0999 - acc: 0.9694"
       ]
      },
      {
       "output_type": "stream",
       "stream": "stdout",
       "text": [
        "\b\b\b\b\b\b\b\b\b\b\b\b\b\b\b\b\b\b\b\b\b\b\b\b\b\b\b\b\b\b\b\b\b\b\b\b\b\b\b\b\b\b\b\b\b\b\b\b\b\b\b\b\b\b\b\b\b\b\b\b\b\b\b\b\b\b\b\b\b\b\b\b\b\b\b\b\b\b\b\b\b\b\b\r",
        " 8288/50000 [===>..........................] - ETA: 1s - loss: 0.1065 - acc: 0.9681"
       ]
      },
      {
       "output_type": "stream",
       "stream": "stdout",
       "text": [
        "\b\b\b\b\b\b\b\b\b\b\b\b\b\b\b\b\b\b\b\b\b\b\b\b\b\b\b\b\b\b\b\b\b\b\b\b\b\b\b\b\b\b\b\b\b\b\b\b\b\b\b\b\b\b\b\b\b\b\b\b\b\b\b\b\b\b\b\b\b\b\b\b\b\b\b\b\b\b\b\b\b\b\b\r",
        "10432/50000 [=====>........................] - ETA: 0s - loss: 0.1075 - acc: 0.9678"
       ]
      },
      {
       "output_type": "stream",
       "stream": "stdout",
       "text": [
        "\b\b\b\b\b\b\b\b\b\b\b\b\b\b\b\b\b\b\b\b\b\b\b\b\b\b\b\b\b\b\b\b\b\b\b\b\b\b\b\b\b\b\b\b\b\b\b\b\b\b\b\b\b\b\b\b\b\b\b\b\b\b\b\b\b\b\b\b\b\b\b\b\b\b\b\b\b\b\b\b\b\b\b\r",
        "12352/50000 [======>.......................] - ETA: 0s - loss: 0.1096 - acc: 0.9671"
       ]
      },
      {
       "output_type": "stream",
       "stream": "stdout",
       "text": [
        "\b\b\b\b\b\b\b\b\b\b\b\b\b\b\b\b\b\b\b\b\b\b\b\b\b\b\b\b\b\b\b\b\b\b\b\b\b\b\b\b\b\b\b\b\b\b\b\b\b\b\b\b\b\b\b\b\b\b\b\b\b\b\b\b\b\b\b\b\b\b\b\b\b\b\b\b\b\b\b\b\b\b\b\r",
        "14432/50000 [=======>......................] - ETA: 0s - loss: 0.1094 - acc: 0.9673"
       ]
      },
      {
       "output_type": "stream",
       "stream": "stdout",
       "text": [
        "\b\b\b\b\b\b\b\b\b\b\b\b\b\b\b\b\b\b\b\b\b\b\b\b\b\b\b\b\b\b\b\b\b\b\b\b\b\b\b\b\b\b\b\b\b\b\b\b\b\b\b\b\b\b\b\b\b\b\b\b\b\b\b\b\b\b\b\b\b\b\b\b\b\b\b\b\b\b\b\b\b\b\b\r",
        "16576/50000 [========>.....................] - ETA: 0s - loss: 0.1099 - acc: 0.9672"
       ]
      },
      {
       "output_type": "stream",
       "stream": "stdout",
       "text": [
        "\b\b\b\b\b\b\b\b\b\b\b\b\b\b\b\b\b\b\b\b\b\b\b\b\b\b\b\b\b\b\b\b\b\b\b\b\b\b\b\b\b\b\b\b\b\b\b\b\b\b\b\b\b\b\b\b\b\b\b\b\b\b\b\b\b\b\b\b\b\b\b\b\b\b\b\b\b\b\b\b\b\b\b\r",
        "18688/50000 [==========>...................] - ETA: 0s - loss: 0.1082 - acc: 0.9679"
       ]
      },
      {
       "output_type": "stream",
       "stream": "stdout",
       "text": [
        "\b\b\b\b\b\b\b\b\b\b\b\b\b\b\b\b\b\b\b\b\b\b\b\b\b\b\b\b\b\b\b\b\b\b\b\b\b\b\b\b\b\b\b\b\b\b\b\b\b\b\b\b\b\b\b\b\b\b\b\b\b\b\b\b\b\b\b\b\b\b\b\b\b\b\b\b\b\b\b\b\b\b\b\r",
        "20832/50000 [===========>..................] - ETA: 0s - loss: 0.1078 - acc: 0.9681"
       ]
      },
      {
       "output_type": "stream",
       "stream": "stdout",
       "text": [
        "\b\b\b\b\b\b\b\b\b\b\b\b\b\b\b\b\b\b\b\b\b\b\b\b\b\b\b\b\b\b\b\b\b\b\b\b\b\b\b\b\b\b\b\b\b\b\b\b\b\b\b\b\b\b\b\b\b\b\b\b\b\b\b\b\b\b\b\b\b\b\b\b\b\b\b\b\b\b\b\b\b\b\b\r",
        "22976/50000 [============>.................] - ETA: 0s - loss: 0.1049 - acc: 0.9688"
       ]
      },
      {
       "output_type": "stream",
       "stream": "stdout",
       "text": [
        "\b\b\b\b\b\b\b\b\b\b\b\b\b\b\b\b\b\b\b\b\b\b\b\b\b\b\b\b\b\b\b\b\b\b\b\b\b\b\b\b\b\b\b\b\b\b\b\b\b\b\b\b\b\b\b\b\b\b\b\b\b\b\b\b\b\b\b\b\b\b\b\b\b\b\b\b\b\b\b\b\b\b\b\r",
        "25120/50000 [==============>...............] - ETA: 0s - loss: 0.1047 - acc: 0.9689"
       ]
      },
      {
       "output_type": "stream",
       "stream": "stdout",
       "text": [
        "\b\b\b\b\b\b\b\b\b\b\b\b\b\b\b\b\b\b\b\b\b\b\b\b\b\b\b\b\b\b\b\b\b\b\b\b\b\b\b\b\b\b\b\b\b\b\b\b\b\b\b\b\b\b\b\b\b\b\b\b\b\b\b\b\b\b\b\b\b\b\b\b\b\b\b\b\b\b\b\b\b\b\b\r",
        "27264/50000 [===============>..............] - ETA: 0s - loss: 0.1060 - acc: 0.9684"
       ]
      },
      {
       "output_type": "stream",
       "stream": "stdout",
       "text": [
        "\b\b\b\b\b\b\b\b\b\b\b\b\b\b\b\b\b\b\b\b\b\b\b\b\b\b\b\b\b\b\b\b\b\b\b\b\b\b\b\b\b\b\b\b\b\b\b\b\b\b\b\b\b\b\b\b\b\b\b\b\b\b\b\b\b\b\b\b\b\b\b\b\b\b\b\b\b\b\b\b\b\b\b\r",
        "29280/50000 [================>.............] - ETA: 0s - loss: 0.1072 - acc: 0.9681"
       ]
      },
      {
       "output_type": "stream",
       "stream": "stdout",
       "text": [
        "\b\b\b\b\b\b\b\b\b\b\b\b\b\b\b\b\b\b\b\b\b\b\b\b\b\b\b\b\b\b\b\b\b\b\b\b\b\b\b\b\b\b\b\b\b\b\b\b\b\b\b\b\b\b\b\b\b\b\b\b\b\b\b\b\b\b\b\b\b\b\b\b\b\b\b\b\b\b\b\b\b\b\b\r",
        "31424/50000 [=================>............] - ETA: 0s - loss: 0.1078 - acc: 0.9677"
       ]
      },
      {
       "output_type": "stream",
       "stream": "stdout",
       "text": [
        "\b\b\b\b\b\b\b\b\b\b\b\b\b\b\b\b\b\b\b\b\b\b\b\b\b\b\b\b\b\b\b\b\b\b\b\b\b\b\b\b\b\b\b\b\b\b\b\b\b\b\b\b\b\b\b\b\b\b\b\b\b\b\b\b\b\b\b\b\b\b\b\b\b\b\b\b\b\b\b\b\b\b\b\r",
        "33568/50000 [===================>..........] - ETA: 0s - loss: 0.1082 - acc: 0.9677"
       ]
      },
      {
       "output_type": "stream",
       "stream": "stdout",
       "text": [
        "\b\b\b\b\b\b\b\b\b\b\b\b\b\b\b\b\b\b\b\b\b\b\b\b\b\b\b\b\b\b\b\b\b\b\b\b\b\b\b\b\b\b\b\b\b\b\b\b\b\b\b\b\b\b\b\b\b\b\b\b\b\b\b\b\b\b\b\b\b\b\b\b\b\b\b\b\b\b\b\b\b\b\b\r",
        "35712/50000 [====================>.........] - ETA: 0s - loss: 0.1087 - acc: 0.9674"
       ]
      },
      {
       "output_type": "stream",
       "stream": "stdout",
       "text": [
        "\b\b\b\b\b\b\b\b\b\b\b\b\b\b\b\b\b\b\b\b\b\b\b\b\b\b\b\b\b\b\b\b\b\b\b\b\b\b\b\b\b\b\b\b\b\b\b\b\b\b\b\b\b\b\b\b\b\b\b\b\b\b\b\b\b\b\b\b\b\b\b\b\b\b\b\b\b\b\b\b\b\b\b\r",
        "37856/50000 [=====================>........] - ETA: 0s - loss: 0.1093 - acc: 0.9673"
       ]
      },
      {
       "output_type": "stream",
       "stream": "stdout",
       "text": [
        "\b\b\b\b\b\b\b\b\b\b\b\b\b\b\b\b\b\b\b\b\b\b\b\b\b\b\b\b\b\b\b\b\b\b\b\b\b\b\b\b\b\b\b\b\b\b\b\b\b\b\b\b\b\b\b\b\b\b\b\b\b\b\b\b\b\b\b\b\b\b\b\b\b\b\b\b\b\b\b\b\b\b\b\r",
        "40000/50000 [=======================>......] - ETA: 0s - loss: 0.1081 - acc: 0.9676"
       ]
      },
      {
       "output_type": "stream",
       "stream": "stdout",
       "text": [
        "\b\b\b\b\b\b\b\b\b\b\b\b\b\b\b\b\b\b\b\b\b\b\b\b\b\b\b\b\b\b\b\b\b\b\b\b\b\b\b\b\b\b\b\b\b\b\b\b\b\b\b\b\b\b\b\b\b\b\b\b\b\b\b\b\b\b\b\b\b\b\b\b\b\b\b\b\b\b\b\b\b\b\b\r",
        "41856/50000 [========================>.....] - ETA: 0s - loss: 0.1076 - acc: 0.9676"
       ]
      },
      {
       "output_type": "stream",
       "stream": "stdout",
       "text": [
        "\b\b\b\b\b\b\b\b\b\b\b\b\b\b\b\b\b\b\b\b\b\b\b\b\b\b\b\b\b\b\b\b\b\b\b\b\b\b\b\b\b\b\b\b\b\b\b\b\b\b\b\b\b\b\b\b\b\b\b\b\b\b\b\b\b\b\b\b\b\b\b\b\b\b\b\b\b\b\b\b\b\b\b\r",
        "43968/50000 [=========================>....] - ETA: 0s - loss: 0.1078 - acc: 0.9676"
       ]
      },
      {
       "output_type": "stream",
       "stream": "stdout",
       "text": [
        "\b\b\b\b\b\b\b\b\b\b\b\b\b\b\b\b\b\b\b\b\b\b\b\b\b\b\b\b\b\b\b\b\b\b\b\b\b\b\b\b\b\b\b\b\b\b\b\b\b\b\b\b\b\b\b\b\b\b\b\b\b\b\b\b\b\b\b\b\b\b\b\b\b\b\b\b\b\b\b\b\b\b\b\r",
        "46112/50000 [==========================>...] - ETA: 0s - loss: 0.1074 - acc: 0.9678"
       ]
      },
      {
       "output_type": "stream",
       "stream": "stdout",
       "text": [
        "\b\b\b\b\b\b\b\b\b\b\b\b\b\b\b\b\b\b\b\b\b\b\b\b\b\b\b\b\b\b\b\b\b\b\b\b\b\b\b\b\b\b\b\b\b\b\b\b\b\b\b\b\b\b\b\b\b\b\b\b\b\b\b\b\b\b\b\b\b\b\b\b\b\b\b\b\b\b\b\b\b\b\b\r",
        "48256/50000 [===========================>..] - ETA: 0s - loss: 0.1081 - acc: 0.9678"
       ]
      },
      {
       "output_type": "stream",
       "stream": "stdout",
       "text": [
        "\b\b\b\b\b\b\b\b\b\b\b\b\b\b\b\b\b\b\b\b\b\b\b\b\b\b\b\b\b\b\b\b\b\b\b\b\b\b\b\b\b\b\b\b\b\b\b\b\b\b\b\b\b\b\b\b\b\b\b\b\b\b\b\b\b\b\b\b\b\b\b\b\b\b\b\b\b\b\b\b\b\b\b\r",
        "50000/50000 [==============================] - 1s - loss: 0.1088 - acc: 0.9675     "
       ]
      },
      {
       "output_type": "stream",
       "stream": "stdout",
       "text": [
        "\n"
       ]
      },
      {
       "metadata": {},
       "output_type": "pyout",
       "prompt_number": 8,
       "text": [
        "<keras.callbacks.History at 0x7fd5caa85e50>"
       ]
      }
     ],
     "prompt_number": 8
    },
    {
     "cell_type": "markdown",
     "metadata": {},
     "source": [
      "Now we can test our model on the validation set:"
     ]
    },
    {
     "cell_type": "code",
     "collapsed": false,
     "input": [
      "model.evaluate(valid[0],valid[1])"
     ],
     "language": "python",
     "metadata": {},
     "outputs": [
      {
       "output_type": "stream",
       "stream": "stdout",
       "text": [
        "\r",
        "   32/10000 [..............................] - ETA: 0s"
       ]
      },
      {
       "output_type": "stream",
       "stream": "stdout",
       "text": [
        "\b\b\b\b\b\b\b\b\b\b\b\b\b\b\b\b\b\b\b\b\b\b\b\b\b\b\b\b\b\b\b\b\b\b\b\b\b\b\b\b\b\b\b\b\b\b\b\b\b\b\b\b\b\b\r",
        " 4096/10000 [===========>..................] - ETA: 0s"
       ]
      },
      {
       "output_type": "stream",
       "stream": "stdout",
       "text": [
        "\b\b\b\b\b\b\b\b\b\b\b\b\b\b\b\b\b\b\b\b\b\b\b\b\b\b\b\b\b\b\b\b\b\b\b\b\b\b\b\b\b\b\b\b\b\b\b\b\b\b\b\b\b\b\r",
        " 7712/10000 [======================>.......] - ETA: 0s"
       ]
      },
      {
       "metadata": {},
       "output_type": "pyout",
       "prompt_number": 9,
       "text": [
        "[0.12590358822122216, 0.96309999999999996]"
       ]
      }
     ],
     "prompt_number": 9
    },
    {
     "cell_type": "markdown",
     "metadata": {},
     "source": [
      "96% accuracy. So that went well!\n",
      "\n",
      "Now, MNIST is an image dataset so we can do better than that by using convolutional layers."
     ]
    },
    {
     "cell_type": "code",
     "collapsed": false,
     "input": [
      "from keras.layers import Conv2D, Reshape, Flatten, Dropout, BatchNormalization\n",
      "model = Sequential()\n",
      "# first we need to reshape the flat 784 vector into a (n,w,h) image\n",
      "# MNIST is greyscale so n=1, w=h=28\n",
      "model.add(Reshape((1,28,28), input_shape=(784,)))\n",
      "# small filters are usually preferred, here we're going to use 16 3x3 filters\n",
      "# instead of an Activation layer, we can directly use the 'activation' keyword:\n",
      "model.add(Conv2D(16, 3, 3, border_mode='same', subsample=(2,2), activation='relu'))\n",
      "model.add(Conv2D(16, 3, 3, border_mode='same', subsample=(2,2), activation='relu'))\n",
      "# Batch Norm usually makes optimization faster, and can be added after some or all layers (except the last!)\n",
      "model.add(BatchNormalization())\n",
      "# because of the two layers of subsampling, our output is now 16x7x7\n",
      "# let's flatten this feature map so we can pass it to dense layers\n",
      "model.add(Flatten())\n",
      "model.add(Dense(output_dim=64, activation='relu'))\n",
      "model.add(Dropout(0.5)) # Dropout is a good remedy to overfitting\n",
      "model.add(Dense(output_dim=10, activation='softmax')) # 10 classes again\n",
      "\n",
      "# compile the model\n",
      "model.compile(loss='sparse_categorical_crossentropy', optimizer='adam', metrics=['accuracy'])\n",
      "\n",
      "# train it\n",
      "model.fit(train[0], train[1], nb_epoch=5)\n",
      "\n",
      "# test it!\n",
      "validation_metrics = model.evaluate(valid[0], valid[1])\n",
      "print()\n",
      "print(validation_metrics)\n",
      "\n"
     ],
     "language": "python",
     "metadata": {},
     "outputs": [
      {
       "output_type": "stream",
       "stream": "stdout",
       "text": [
        "Epoch 1/5\n",
        "\r",
        "   32/50000 [..............................] - ETA: 5s - loss: 2.4266 - acc: 0.1875"
       ]
      },
      {
       "output_type": "stream",
       "stream": "stdout",
       "text": [
        "\b\b\b\b\b\b\b\b\b\b\b\b\b\b\b\b\b\b\b\b\b\b\b\b\b\b\b\b\b\b\b\b\b\b\b\b\b\b\b\b\b\b\b\b\b\b\b\b\b\b\b\b\b\b\b\b\b\b\b\b\b\b\b\b\b\b\b\b\b\b\b\b\b\b\b\b\b\b\b\b\b\b\b\r",
        "  768/50000 [..............................] - ETA: 3s - loss: 2.2734 - acc: 0.2188"
       ]
      },
      {
       "output_type": "stream",
       "stream": "stdout",
       "text": [
        "\b\b\b\b\b\b\b\b\b\b\b\b\b\b\b\b\b\b\b\b\b\b\b\b\b\b\b\b\b\b\b\b\b\b\b\b\b\b\b\b\b\b\b\b\b\b\b\b\b\b\b\b\b\b\b\b\b\b\b\b\b\b\b\b\b\b\b\b\b\b\b\b\b\b\b\b\b\b\b\b\b\b\b\r",
        " 1440/50000 [..............................] - ETA: 3s - loss: 2.0661 - acc: 0.2896"
       ]
      },
      {
       "output_type": "stream",
       "stream": "stdout",
       "text": [
        "\b\b\b\b\b\b\b\b\b\b\b\b\b\b\b\b\b\b\b\b\b\b\b\b\b\b\b\b\b\b\b\b\b\b\b\b\b\b\b\b\b\b\b\b\b\b\b\b\b\b\b\b\b\b\b\b\b\b\b\b\b\b\b\b\b\b\b\b\b\b\b\b\b\b\b\b\b\b\b\b\b\b\b\r",
        " 2144/50000 [>.............................] - ETA: 3s - loss: 1.9035 - acc: 0.3428"
       ]
      },
      {
       "output_type": "stream",
       "stream": "stdout",
       "text": [
        "\b\b\b\b\b\b\b\b\b\b\b\b\b\b\b\b\b\b\b\b\b\b\b\b\b\b\b\b\b\b\b\b\b\b\b\b\b\b\b\b\b\b\b\b\b\b\b\b\b\b\b\b\b\b\b\b\b\b\b\b\b\b\b\b\b\b\b\b\b\b\b\b\b\b\b\b\b\b\b\b\b\b\b\r",
        " 2944/50000 [>.............................] - ETA: 3s - loss: 1.7490 - acc: 0.3998"
       ]
      },
      {
       "output_type": "stream",
       "stream": "stdout",
       "text": [
        "\b\b\b\b\b\b\b\b\b\b\b\b\b\b\b\b\b\b\b\b\b\b\b\b\b\b\b\b\b\b\b\b\b\b\b\b\b\b\b\b\b\b\b\b\b\b\b\b\b\b\b\b\b\b\b\b\b\b\b\b\b\b\b\b\b\b\b\b\b\b\b\b\b\b\b\b\b\b\b\b\b\b\b\r",
        " 3744/50000 [=>............................] - ETA: 3s - loss: 1.6192 - acc: 0.4458"
       ]
      },
      {
       "output_type": "stream",
       "stream": "stdout",
       "text": [
        "\b\b\b\b\b\b\b\b\b\b\b\b\b\b\b\b\b\b\b\b\b\b\b\b\b\b\b\b\b\b\b\b\b\b\b\b\b\b\b\b\b\b\b\b\b\b\b\b\b\b\b\b\b\b\b\b\b\b\b\b\b\b\b\b\b\b\b\b\b\b\b\b\b\b\b\b\b\b\b\b\b\b\b\r",
        " 4544/50000 [=>............................] - ETA: 3s - loss: 1.5119 - acc: 0.4875"
       ]
      },
      {
       "output_type": "stream",
       "stream": "stdout",
       "text": [
        "\b\b\b\b\b\b\b\b\b\b\b\b\b\b\b\b\b\b\b\b\b\b\b\b\b\b\b\b\b\b\b\b\b\b\b\b\b\b\b\b\b\b\b\b\b\b\b\b\b\b\b\b\b\b\b\b\b\b\b\b\b\b\b\b\b\b\b\b\b\b\b\b\b\b\b\b\b\b\b\b\b\b\b\r",
        " 5344/50000 [==>...........................] - ETA: 2s - loss: 1.4232 - acc: 0.5187"
       ]
      },
      {
       "output_type": "stream",
       "stream": "stdout",
       "text": [
        "\b\b\b\b\b\b\b\b\b\b\b\b\b\b\b\b\b\b\b\b\b\b\b\b\b\b\b\b\b\b\b\b\b\b\b\b\b\b\b\b\b\b\b\b\b\b\b\b\b\b\b\b\b\b\b\b\b\b\b\b\b\b\b\b\b\b\b\b\b\b\b\b\b\b\b\b\b\b\b\b\b\b\b\r",
        " 6080/50000 [==>...........................] - ETA: 2s - loss: 1.3557 - acc: 0.5437"
       ]
      },
      {
       "output_type": "stream",
       "stream": "stdout",
       "text": [
        "\b\b\b\b\b\b\b\b\b\b\b\b\b\b\b\b\b\b\b\b\b\b\b\b\b\b\b\b\b\b\b\b\b\b\b\b\b\b\b\b\b\b\b\b\b\b\b\b\b\b\b\b\b\b\b\b\b\b\b\b\b\b\b\b\b\b\b\b\b\b\b\b\b\b\b\b\b\b\b\b\b\b\b\r",
        " 6752/50000 [===>..........................] - ETA: 2s - loss: 1.2962 - acc: 0.5661"
       ]
      },
      {
       "output_type": "stream",
       "stream": "stdout",
       "text": [
        "\b\b\b\b\b\b\b\b\b\b\b\b\b\b\b\b\b\b\b\b\b\b\b\b\b\b\b\b\b\b\b\b\b\b\b\b\b\b\b\b\b\b\b\b\b\b\b\b\b\b\b\b\b\b\b\b\b\b\b\b\b\b\b\b\b\b\b\b\b\b\b\b\b\b\b\b\b\b\b\b\b\b\b\r",
        " 7552/50000 [===>..........................] - ETA: 2s - loss: 1.2337 - acc: 0.5887"
       ]
      },
      {
       "output_type": "stream",
       "stream": "stdout",
       "text": [
        "\b\b\b\b\b\b\b\b\b\b\b\b\b\b\b\b\b\b\b\b\b\b\b\b\b\b\b\b\b\b\b\b\b\b\b\b\b\b\b\b\b\b\b\b\b\b\b\b\b\b\b\b\b\b\b\b\b\b\b\b\b\b\b\b\b\b\b\b\b\b\b\b\b\b\b\b\b\b\b\b\b\b\b\r",
        " 8288/50000 [===>..........................] - ETA: 2s - loss: 1.1792 - acc: 0.6085"
       ]
      },
      {
       "output_type": "stream",
       "stream": "stdout",
       "text": [
        "\b\b\b\b\b\b\b\b\b\b\b\b\b\b\b\b\b\b\b\b\b\b\b\b\b\b\b\b\b\b\b\b\b\b\b\b\b\b\b\b\b\b\b\b\b\b\b\b\b\b\b\b\b\b\b\b\b\b\b\b\b\b\b\b\b\b\b\b\b\b\b\b\b\b\b\b\b\b\b\b\b\b\b\r",
        " 9088/50000 [====>.........................] - ETA: 2s - loss: 1.1335 - acc: 0.6246"
       ]
      },
      {
       "output_type": "stream",
       "stream": "stdout",
       "text": [
        "\b\b\b\b\b\b\b\b\b\b\b\b\b\b\b\b\b\b\b\b\b\b\b\b\b\b\b\b\b\b\b\b\b\b\b\b\b\b\b\b\b\b\b\b\b\b\b\b\b\b\b\b\b\b\b\b\b\b\b\b\b\b\b\b\b\b\b\b\b\b\b\b\b\b\b\b\b\b\b\b\b\b\b\r",
        " 9888/50000 [====>.........................] - ETA: 2s - loss: 1.0937 - acc: 0.6383"
       ]
      },
      {
       "output_type": "stream",
       "stream": "stdout",
       "text": [
        "\b\b\b\b\b\b\b\b\b\b\b\b\b\b\b\b\b\b\b\b\b\b\b\b\b\b\b\b\b\b\b\b\b\b\b\b\b\b\b\b\b\b\b\b\b\b\b\b\b\b\b\b\b\b\b\b\b\b\b\b\b\b\b\b\b\b\b\b\b\b\b\b\b\b\b\b\b\b\b\b\b\b\b\r",
        "10688/50000 [=====>........................] - ETA: 2s - loss: 1.0572 - acc: 0.6512"
       ]
      },
      {
       "output_type": "stream",
       "stream": "stdout",
       "text": [
        "\b\b\b\b\b\b\b\b\b\b\b\b\b\b\b\b\b\b\b\b\b\b\b\b\b\b\b\b\b\b\b\b\b\b\b\b\b\b\b\b\b\b\b\b\b\b\b\b\b\b\b\b\b\b\b\b\b\b\b\b\b\b\b\b\b\b\b\b\b\b\b\b\b\b\b\b\b\b\b\b\b\b\b\r",
        "11392/50000 [=====>........................] - ETA: 2s - loss: 1.0248 - acc: 0.6620"
       ]
      },
      {
       "output_type": "stream",
       "stream": "stdout",
       "text": [
        "\b\b\b\b\b\b\b\b\b\b\b\b\b\b\b\b\b\b\b\b\b\b\b\b\b\b\b\b\b\b\b\b\b\b\b\b\b\b\b\b\b\b\b\b\b\b\b\b\b\b\b\b\b\b\b\b\b\b\b\b\b\b\b\b\b\b\b\b\b\b\b\b\b\b\b\b\b\b\b\b\b\b\b\r",
        "12160/50000 [======>.......................] - ETA: 2s - loss: 0.9957 - acc: 0.6710"
       ]
      },
      {
       "output_type": "stream",
       "stream": "stdout",
       "text": [
        "\b\b\b\b\b\b\b\b\b\b\b\b\b\b\b\b\b\b\b\b\b\b\b\b\b\b\b\b\b\b\b\b\b\b\b\b\b\b\b\b\b\b\b\b\b\b\b\b\b\b\b\b\b\b\b\b\b\b\b\b\b\b\b\b\b\b\b\b\b\b\b\b\b\b\b\b\b\b\b\b\b\b\b\r",
        "12896/50000 [======>.......................] - ETA: 2s - loss: 0.9724 - acc: 0.6797"
       ]
      },
      {
       "output_type": "stream",
       "stream": "stdout",
       "text": [
        "\b\b\b\b\b\b\b\b\b\b\b\b\b\b\b\b\b\b\b\b\b\b\b\b\b\b\b\b\b\b\b\b\b\b\b\b\b\b\b\b\b\b\b\b\b\b\b\b\b\b\b\b\b\b\b\b\b\b\b\b\b\b\b\b\b\b\b\b\b\b\b\b\b\b\b\b\b\b\b\b\b\b\b\r",
        "13696/50000 [=======>......................] - ETA: 2s - loss: 0.9450 - acc: 0.6892"
       ]
      },
      {
       "output_type": "stream",
       "stream": "stdout",
       "text": [
        "\b\b\b\b\b\b\b\b\b\b\b\b\b\b\b\b\b\b\b\b\b\b\b\b\b\b\b\b\b\b\b\b\b\b\b\b\b\b\b\b\b\b\b\b\b\b\b\b\b\b\b\b\b\b\b\b\b\b\b\b\b\b\b\b\b\b\b\b\b\b\b\b\b\b\b\b\b\b\b\b\b\b\b\r",
        "14432/50000 [=======>......................] - ETA: 2s - loss: 0.9198 - acc: 0.6982"
       ]
      },
      {
       "output_type": "stream",
       "stream": "stdout",
       "text": [
        "\b\b\b\b\b\b\b\b\b\b\b\b\b\b\b\b\b\b\b\b\b\b\b\b\b\b\b\b\b\b\b\b\b\b\b\b\b\b\b\b\b\b\b\b\b\b\b\b\b\b\b\b\b\b\b\b\b\b\b\b\b\b\b\b\b\b\b\b\b\b\b\b\b\b\b\b\b\b\b\b\b\b\b\r",
        "15232/50000 [========>.....................] - ETA: 2s - loss: 0.8957 - acc: 0.7067"
       ]
      },
      {
       "output_type": "stream",
       "stream": "stdout",
       "text": [
        "\b\b\b\b\b\b\b\b\b\b\b\b\b\b\b\b\b\b\b\b\b\b\b\b\b\b\b\b\b\b\b\b\b\b\b\b\b\b\b\b\b\b\b\b\b\b\b\b\b\b\b\b\b\b\b\b\b\b\b\b\b\b\b\b\b\b\b\b\b\b\b\b\b\b\b\b\b\b\b\b\b\b\b\r",
        "16032/50000 [========>.....................] - ETA: 2s - loss: 0.8746 - acc: 0.7139"
       ]
      },
      {
       "output_type": "stream",
       "stream": "stdout",
       "text": [
        "\b\b\b\b\b\b\b\b\b\b\b\b\b\b\b\b\b\b\b\b\b\b\b\b\b\b\b\b\b\b\b\b\b\b\b\b\b\b\b\b\b\b\b\b\b\b\b\b\b\b\b\b\b\b\b\b\b\b\b\b\b\b\b\b\b\b\b\b\b\b\b\b\b\b\b\b\b\b\b\b\b\b\b\r",
        "16736/50000 [=========>....................] - ETA: 2s - loss: 0.8559 - acc: 0.7206"
       ]
      },
      {
       "output_type": "stream",
       "stream": "stdout",
       "text": [
        "\b\b\b\b\b\b\b\b\b\b\b\b\b\b\b\b\b\b\b\b\b\b\b\b\b\b\b\b\b\b\b\b\b\b\b\b\b\b\b\b\b\b\b\b\b\b\b\b\b\b\b\b\b\b\b\b\b\b\b\b\b\b\b\b\b\b\b\b\b\b\b\b\b\b\b\b\b\b\b\b\b\b\b\r",
        "17568/50000 [=========>....................] - ETA: 2s - loss: 0.8359 - acc: 0.7281"
       ]
      },
      {
       "output_type": "stream",
       "stream": "stdout",
       "text": [
        "\b\b\b\b\b\b\b\b\b\b\b\b\b\b\b\b\b\b\b\b\b\b\b\b\b\b\b\b\b\b\b\b\b\b\b\b\b\b\b\b\b\b\b\b\b\b\b\b\b\b\b\b\b\b\b\b\b\b\b\b\b\b\b\b\b\b\b\b\b\b\b\b\b\b\b\b\b\b\b\b\b\b\b\r",
        "18368/50000 [==========>...................] - ETA: 2s - loss: 0.8183 - acc: 0.7337"
       ]
      },
      {
       "output_type": "stream",
       "stream": "stdout",
       "text": [
        "\b\b\b\b\b\b\b\b\b\b\b\b\b\b\b\b\b\b\b\b\b\b\b\b\b\b\b\b\b\b\b\b\b\b\b\b\b\b\b\b\b\b\b\b\b\b\b\b\b\b\b\b\b\b\b\b\b\b\b\b\b\b\b\b\b\b\b\b\b\b\b\b\b\b\b\b\b\b\b\b\b\b\b\r",
        "19040/50000 [==========>...................] - ETA: 2s - loss: 0.8088 - acc: 0.7381"
       ]
      },
      {
       "output_type": "stream",
       "stream": "stdout",
       "text": [
        "\b\b\b\b\b\b\b\b\b\b\b\b\b\b\b\b\b\b\b\b\b\b\b\b\b\b\b\b\b\b\b\b\b\b\b\b\b\b\b\b\b\b\b\b\b\b\b\b\b\b\b\b\b\b\b\b\b\b\b\b\b\b\b\b\b\b\b\b\b\b\b\b\b\b\b\b\b\b\b\b\b\b\b\r",
        "19840/50000 [==========>...................] - ETA: 2s - loss: 0.7937 - acc: 0.7435"
       ]
      },
      {
       "output_type": "stream",
       "stream": "stdout",
       "text": [
        "\b\b\b\b\b\b\b\b\b\b\b\b\b\b\b\b\b\b\b\b\b\b\b\b\b\b\b\b\b\b\b\b\b\b\b\b\b\b\b\b\b\b\b\b\b\b\b\b\b\b\b\b\b\b\b\b\b\b\b\b\b\b\b\b\b\b\b\b\b\b\b\b\b\b\b\b\b\b\b\b\b\b\b\r",
        "20640/50000 [===========>..................] - ETA: 1s - loss: 0.7791 - acc: 0.7488"
       ]
      },
      {
       "output_type": "stream",
       "stream": "stdout",
       "text": [
        "\b\b\b\b\b\b\b\b\b\b\b\b\b\b\b\b\b\b\b\b\b\b\b\b\b\b\b\b\b\b\b\b\b\b\b\b\b\b\b\b\b\b\b\b\b\b\b\b\b\b\b\b\b\b\b\b\b\b\b\b\b\b\b\b\b\b\b\b\b\b\b\b\b\b\b\b\b\b\b\b\b\b\b\r",
        "21344/50000 [===========>..................] - ETA: 1s - loss: 0.7660 - acc: 0.7533"
       ]
      },
      {
       "output_type": "stream",
       "stream": "stdout",
       "text": [
        "\b\b\b\b\b\b\b\b\b\b\b\b\b\b\b\b\b\b\b\b\b\b\b\b\b\b\b\b\b\b\b\b\b\b\b\b\b\b\b\b\b\b\b\b\b\b\b\b\b\b\b\b\b\b\b\b\b\b\b\b\b\b\b\b\b\b\b\b\b\b\b\b\b\b\b\b\b\b\b\b\b\b\b\r",
        "22112/50000 [============>.................] - ETA: 1s - loss: 0.7529 - acc: 0.7578"
       ]
      },
      {
       "output_type": "stream",
       "stream": "stdout",
       "text": [
        "\b\b\b\b\b\b\b\b\b\b\b\b\b\b\b\b\b\b\b\b\b\b\b\b\b\b\b\b\b\b\b\b\b\b\b\b\b\b\b\b\b\b\b\b\b\b\b\b\b\b\b\b\b\b\b\b\b\b\b\b\b\b\b\b\b\b\b\b\b\b\b\b\b\b\b\b\b\b\b\b\b\b\b\r",
        "22880/50000 [============>.................] - ETA: 1s - loss: 0.7414 - acc: 0.7618"
       ]
      },
      {
       "output_type": "stream",
       "stream": "stdout",
       "text": [
        "\b\b\b\b\b\b\b\b\b\b\b\b\b\b\b\b\b\b\b\b\b\b\b\b\b\b\b\b\b\b\b\b\b\b\b\b\b\b\b\b\b\b\b\b\b\b\b\b\b\b\b\b\b\b\b\b\b\b\b\b\b\b\b\b\b\b\b\b\b\b\b\b\b\b\b\b\b\b\b\b\b\b\b\r",
        "23680/50000 [=============>................] - ETA: 1s - loss: 0.7308 - acc: 0.7658"
       ]
      },
      {
       "output_type": "stream",
       "stream": "stdout",
       "text": [
        "\b\b\b\b\b\b\b\b\b\b\b\b\b\b\b\b\b\b\b\b\b\b\b\b\b\b\b\b\b\b\b\b\b\b\b\b\b\b\b\b\b\b\b\b\b\b\b\b\b\b\b\b\b\b\b\b\b\b\b\b\b\b\b\b\b\b\b\b\b\b\b\b\b\b\b\b\b\b\b\b\b\b\b\r",
        "24480/50000 [=============>................] - ETA: 1s - loss: 0.7190 - acc: 0.7699"
       ]
      },
      {
       "output_type": "stream",
       "stream": "stdout",
       "text": [
        "\b\b\b\b\b\b\b\b\b\b\b\b\b\b\b\b\b\b\b\b\b\b\b\b\b\b\b\b\b\b\b\b\b\b\b\b\b\b\b\b\b\b\b\b\b\b\b\b\b\b\b\b\b\b\b\b\b\b\b\b\b\b\b\b\b\b\b\b\b\b\b\b\b\b\b\b\b\b\b\b\b\b\b\r",
        "25280/50000 [==============>...............] - ETA: 1s - loss: 0.7084 - acc: 0.7732"
       ]
      },
      {
       "output_type": "stream",
       "stream": "stdout",
       "text": [
        "\b\b\b\b\b\b\b\b\b\b\b\b\b\b\b\b\b\b\b\b\b\b\b\b\b\b\b\b\b\b\b\b\b\b\b\b\b\b\b\b\b\b\b\b\b\b\b\b\b\b\b\b\b\b\b\b\b\b\b\b\b\b\b\b\b\b\b\b\b\b\b\b\b\b\b\b\b\b\b\b\b\b\b\r",
        "26080/50000 [==============>...............] - ETA: 1s - loss: 0.6972 - acc: 0.7774"
       ]
      },
      {
       "output_type": "stream",
       "stream": "stdout",
       "text": [
        "\b\b\b\b\b\b\b\b\b\b\b\b\b\b\b\b\b\b\b\b\b\b\b\b\b\b\b\b\b\b\b\b\b\b\b\b\b\b\b\b\b\b\b\b\b\b\b\b\b\b\b\b\b\b\b\b\b\b\b\b\b\b\b\b\b\b\b\b\b\b\b\b\b\b\b\b\b\b\b\b\b\b\b\r",
        "26880/50000 [===============>..............] - ETA: 1s - loss: 0.6868 - acc: 0.7810"
       ]
      },
      {
       "output_type": "stream",
       "stream": "stdout",
       "text": [
        "\b\b\b\b\b\b\b\b\b\b\b\b\b\b\b\b\b\b\b\b\b\b\b\b\b\b\b\b\b\b\b\b\b\b\b\b\b\b\b\b\b\b\b\b\b\b\b\b\b\b\b\b\b\b\b\b\b\b\b\b\b\b\b\b\b\b\b\b\b\b\b\b\b\b\b\b\b\b\b\b\b\b\b\r",
        "27680/50000 [===============>..............] - ETA: 1s - loss: 0.6766 - acc: 0.7841"
       ]
      },
      {
       "output_type": "stream",
       "stream": "stdout",
       "text": [
        "\b\b\b\b\b\b\b\b\b\b\b\b\b\b\b\b\b\b\b\b\b\b\b\b\b\b\b\b\b\b\b\b\b\b\b\b\b\b\b\b\b\b\b\b\b\b\b\b\b\b\b\b\b\b\b\b\b\b\b\b\b\b\b\b\b\b\b\b\b\b\b\b\b\b\b\b\b\b\b\b\b\b\b\r",
        "28480/50000 [================>.............] - ETA: 1s - loss: 0.6663 - acc: 0.7877"
       ]
      },
      {
       "output_type": "stream",
       "stream": "stdout",
       "text": [
        "\b\b\b\b\b\b\b\b\b\b\b\b\b\b\b\b\b\b\b\b\b\b\b\b\b\b\b\b\b\b\b\b\b\b\b\b\b\b\b\b\b\b\b\b\b\b\b\b\b\b\b\b\b\b\b\b\b\b\b\b\b\b\b\b\b\b\b\b\b\b\b\b\b\b\b\b\b\b\b\b\b\b\b\r",
        "29280/50000 [================>.............] - ETA: 1s - loss: 0.6579 - acc: 0.7902"
       ]
      },
      {
       "output_type": "stream",
       "stream": "stdout",
       "text": [
        "\b\b\b\b\b\b\b\b\b\b\b\b\b\b\b\b\b\b\b\b\b\b\b\b\b\b\b\b\b\b\b\b\b\b\b\b\b\b\b\b\b\b\b\b\b\b\b\b\b\b\b\b\b\b\b\b\b\b\b\b\b\b\b\b\b\b\b\b\b\b\b\b\b\b\b\b\b\b\b\b\b\b\b\r",
        "29984/50000 [================>.............] - ETA: 1s - loss: 0.6492 - acc: 0.7930"
       ]
      },
      {
       "output_type": "stream",
       "stream": "stdout",
       "text": [
        "\b\b\b\b\b\b\b\b\b\b\b\b\b\b\b\b\b\b\b\b\b\b\b\b\b\b\b\b\b\b\b\b\b\b\b\b\b\b\b\b\b\b\b\b\b\b\b\b\b\b\b\b\b\b\b\b\b\b\b\b\b\b\b\b\b\b\b\b\b\b\b\b\b\b\b\b\b\b\b\b\b\b\b\r",
        "30720/50000 [=================>............] - ETA: 1s - loss: 0.6419 - acc: 0.7957"
       ]
      },
      {
       "output_type": "stream",
       "stream": "stdout",
       "text": [
        "\b\b\b\b\b\b\b\b\b\b\b\b\b\b\b\b\b\b\b\b\b\b\b\b\b\b\b\b\b\b\b\b\b\b\b\b\b\b\b\b\b\b\b\b\b\b\b\b\b\b\b\b\b\b\b\b\b\b\b\b\b\b\b\b\b\b\b\b\b\b\b\b\b\b\b\b\b\b\b\b\b\b\b\r",
        "31520/50000 [=================>............] - ETA: 1s - loss: 0.6340 - acc: 0.7987"
       ]
      },
      {
       "output_type": "stream",
       "stream": "stdout",
       "text": [
        "\b\b\b\b\b\b\b\b\b\b\b\b\b\b\b\b\b\b\b\b\b\b\b\b\b\b\b\b\b\b\b\b\b\b\b\b\b\b\b\b\b\b\b\b\b\b\b\b\b\b\b\b\b\b\b\b\b\b\b\b\b\b\b\b\b\b\b\b\b\b\b\b\b\b\b\b\b\b\b\b\b\b\b\r",
        "32224/50000 [==================>...........] - ETA: 1s - loss: 0.6269 - acc: 0.8010"
       ]
      },
      {
       "output_type": "stream",
       "stream": "stdout",
       "text": [
        "\b\b\b\b\b\b\b\b\b\b\b\b\b\b\b\b\b\b\b\b\b\b\b\b\b\b\b\b\b\b\b\b\b\b\b\b\b\b\b\b\b\b\b\b\b\b\b\b\b\b\b\b\b\b\b\b\b\b\b\b\b\b\b\b\b\b\b\b\b\b\b\b\b\b\b\b\b\b\b\b\b\b\b\r",
        "33024/50000 [==================>...........] - ETA: 1s - loss: 0.6195 - acc: 0.8037"
       ]
      },
      {
       "output_type": "stream",
       "stream": "stdout",
       "text": [
        "\b\b\b\b\b\b\b\b\b\b\b\b\b\b\b\b\b\b\b\b\b\b\b\b\b\b\b\b\b\b\b\b\b\b\b\b\b\b\b\b\b\b\b\b\b\b\b\b\b\b\b\b\b\b\b\b\b\b\b\b\b\b\b\b\b\b\b\b\b\b\b\b\b\b\b\b\b\b\b\b\b\b\b\r",
        "33824/50000 [===================>..........] - ETA: 1s - loss: 0.6131 - acc: 0.8060"
       ]
      },
      {
       "output_type": "stream",
       "stream": "stdout",
       "text": [
        "\b\b\b\b\b\b\b\b\b\b\b\b\b\b\b\b\b\b\b\b\b\b\b\b\b\b\b\b\b\b\b\b\b\b\b\b\b\b\b\b\b\b\b\b\b\b\b\b\b\b\b\b\b\b\b\b\b\b\b\b\b\b\b\b\b\b\b\b\b\b\b\b\b\b\b\b\b\b\b\b\b\b\b\r",
        "34560/50000 [===================>..........] - ETA: 1s - loss: 0.6072 - acc: 0.8080"
       ]
      },
      {
       "output_type": "stream",
       "stream": "stdout",
       "text": [
        "\b\b\b\b\b\b\b\b\b\b\b\b\b\b\b\b\b\b\b\b\b\b\b\b\b\b\b\b\b\b\b\b\b\b\b\b\b\b\b\b\b\b\b\b\b\b\b\b\b\b\b\b\b\b\b\b\b\b\b\b\b\b\b\b\b\b\b\b\b\b\b\b\b\b\b\b\b\b\b\b\b\b\b\r",
        "35360/50000 [====================>.........] - ETA: 0s - loss: 0.5996 - acc: 0.8104"
       ]
      },
      {
       "output_type": "stream",
       "stream": "stdout",
       "text": [
        "\b\b\b\b\b\b\b\b\b\b\b\b\b\b\b\b\b\b\b\b\b\b\b\b\b\b\b\b\b\b\b\b\b\b\b\b\b\b\b\b\b\b\b\b\b\b\b\b\b\b\b\b\b\b\b\b\b\b\b\b\b\b\b\b\b\b\b\b\b\b\b\b\b\b\b\b\b\b\b\b\b\b\b\r",
        "36096/50000 [====================>.........] - ETA: 0s - loss: 0.5939 - acc: 0.8123"
       ]
      },
      {
       "output_type": "stream",
       "stream": "stdout",
       "text": [
        "\b\b\b\b\b\b\b\b\b\b\b\b\b\b\b\b\b\b\b\b\b\b\b\b\b\b\b\b\b\b\b\b\b\b\b\b\b\b\b\b\b\b\b\b\b\b\b\b\b\b\b\b\b\b\b\b\b\b\b\b\b\b\b\b\b\b\b\b\b\b\b\b\b\b\b\b\b\b\b\b\b\b\b\r",
        "36736/50000 [=====================>........] - ETA: 0s - loss: 0.5892 - acc: 0.8137"
       ]
      },
      {
       "output_type": "stream",
       "stream": "stdout",
       "text": [
        "\b\b\b\b\b\b\b\b\b\b\b\b\b\b\b\b\b\b\b\b\b\b\b\b\b\b\b\b\b\b\b\b\b\b\b\b\b\b\b\b\b\b\b\b\b\b\b\b\b\b\b\b\b\b\b\b\b\b\b\b\b\b\b\b\b\b\b\b\b\b\b\b\b\b\b\b\b\b\b\b\b\b\b\r",
        "37504/50000 [=====================>........] - ETA: 0s - loss: 0.5838 - acc: 0.8156"
       ]
      },
      {
       "output_type": "stream",
       "stream": "stdout",
       "text": [
        "\b\b\b\b\b\b\b\b\b\b\b\b\b\b\b\b\b\b\b\b\b\b\b\b\b\b\b\b\b\b\b\b\b\b\b\b\b\b\b\b\b\b\b\b\b\b\b\b\b\b\b\b\b\b\b\b\b\b\b\b\b\b\b\b\b\b\b\b\b\b\b\b\b\b\b\b\b\b\b\b\b\b\b\r",
        "38304/50000 [=====================>........] - ETA: 0s - loss: 0.5791 - acc: 0.8172"
       ]
      },
      {
       "output_type": "stream",
       "stream": "stdout",
       "text": [
        "\b\b\b\b\b\b\b\b\b\b\b\b\b\b\b\b\b\b\b\b\b\b\b\b\b\b\b\b\b\b\b\b\b\b\b\b\b\b\b\b\b\b\b\b\b\b\b\b\b\b\b\b\b\b\b\b\b\b\b\b\b\b\b\b\b\b\b\b\b\b\b\b\b\b\b\b\b\b\b\b\b\b\b\r",
        "39072/50000 [======================>.......] - ETA: 0s - loss: 0.5740 - acc: 0.8189"
       ]
      },
      {
       "output_type": "stream",
       "stream": "stdout",
       "text": [
        "\b\b\b\b\b\b\b\b\b\b\b\b\b\b\b\b\b\b\b\b\b\b\b\b\b\b\b\b\b\b\b\b\b\b\b\b\b\b\b\b\b\b\b\b\b\b\b\b\b\b\b\b\b\b\b\b\b\b\b\b\b\b\b\b\b\b\b\b\b\b\b\b\b\b\b\b\b\b\b\b\b\b\b\r",
        "39872/50000 [======================>.......] - ETA: 0s - loss: 0.5685 - acc: 0.8209"
       ]
      },
      {
       "output_type": "stream",
       "stream": "stdout",
       "text": [
        "\b\b\b\b\b\b\b\b\b\b\b\b\b\b\b\b\b\b\b\b\b\b\b\b\b\b\b\b\b\b\b\b\b\b\b\b\b\b\b\b\b\b\b\b\b\b\b\b\b\b\b\b\b\b\b\b\b\b\b\b\b\b\b\b\b\b\b\b\b\b\b\b\b\b\b\b\b\b\b\b\b\b\b\r",
        "40640/50000 [=======================>......] - ETA: 0s - loss: 0.5632 - acc: 0.8227"
       ]
      },
      {
       "output_type": "stream",
       "stream": "stdout",
       "text": [
        "\b\b\b\b\b\b\b\b\b\b\b\b\b\b\b\b\b\b\b\b\b\b\b\b\b\b\b\b\b\b\b\b\b\b\b\b\b\b\b\b\b\b\b\b\b\b\b\b\b\b\b\b\b\b\b\b\b\b\b\b\b\b\b\b\b\b\b\b\b\b\b\b\b\b\b\b\b\b\b\b\b\b\b\r",
        "41440/50000 [=======================>......] - ETA: 0s - loss: 0.5571 - acc: 0.8248"
       ]
      },
      {
       "output_type": "stream",
       "stream": "stdout",
       "text": [
        "\b\b\b\b\b\b\b\b\b\b\b\b\b\b\b\b\b\b\b\b\b\b\b\b\b\b\b\b\b\b\b\b\b\b\b\b\b\b\b\b\b\b\b\b\b\b\b\b\b\b\b\b\b\b\b\b\b\b\b\b\b\b\b\b\b\b\b\b\b\b\b\b\b\b\b\b\b\b\b\b\b\b\b\r",
        "42240/50000 [========================>.....] - ETA: 0s - loss: 0.5520 - acc: 0.8266"
       ]
      },
      {
       "output_type": "stream",
       "stream": "stdout",
       "text": [
        "\b\b\b\b\b\b\b\b\b\b\b\b\b\b\b\b\b\b\b\b\b\b\b\b\b\b\b\b\b\b\b\b\b\b\b\b\b\b\b\b\b\b\b\b\b\b\b\b\b\b\b\b\b\b\b\b\b\b\b\b\b\b\b\b\b\b\b\b\b\b\b\b\b\b\b\b\b\b\b\b\b\b\b\r",
        "43040/50000 [========================>.....] - ETA: 0s - loss: 0.5478 - acc: 0.8281"
       ]
      },
      {
       "output_type": "stream",
       "stream": "stdout",
       "text": [
        "\b\b\b\b\b\b\b\b\b\b\b\b\b\b\b\b\b\b\b\b\b\b\b\b\b\b\b\b\b\b\b\b\b\b\b\b\b\b\b\b\b\b\b\b\b\b\b\b\b\b\b\b\b\b\b\b\b\b\b\b\b\b\b\b\b\b\b\b\b\b\b\b\b\b\b\b\b\b\b\b\b\b\b\r",
        "43840/50000 [=========================>....] - ETA: 0s - loss: 0.5435 - acc: 0.8297"
       ]
      },
      {
       "output_type": "stream",
       "stream": "stdout",
       "text": [
        "\b\b\b\b\b\b\b\b\b\b\b\b\b\b\b\b\b\b\b\b\b\b\b\b\b\b\b\b\b\b\b\b\b\b\b\b\b\b\b\b\b\b\b\b\b\b\b\b\b\b\b\b\b\b\b\b\b\b\b\b\b\b\b\b\b\b\b\b\b\b\b\b\b\b\b\b\b\b\b\b\b\b\b\r",
        "44640/50000 [=========================>....] - ETA: 0s - loss: 0.5387 - acc: 0.8312"
       ]
      },
      {
       "output_type": "stream",
       "stream": "stdout",
       "text": [
        "\b\b\b\b\b\b\b\b\b\b\b\b\b\b\b\b\b\b\b\b\b\b\b\b\b\b\b\b\b\b\b\b\b\b\b\b\b\b\b\b\b\b\b\b\b\b\b\b\b\b\b\b\b\b\b\b\b\b\b\b\b\b\b\b\b\b\b\b\b\b\b\b\b\b\b\b\b\b\b\b\b\b\b\r",
        "45440/50000 [==========================>...] - ETA: 0s - loss: 0.5332 - acc: 0.8332"
       ]
      },
      {
       "output_type": "stream",
       "stream": "stdout",
       "text": [
        "\b\b\b\b\b\b\b\b\b\b\b\b\b\b\b\b\b\b\b\b\b\b\b\b\b\b\b\b\b\b\b\b\b\b\b\b\b\b\b\b\b\b\b\b\b\b\b\b\b\b\b\b\b\b\b\b\b\b\b\b\b\b\b\b\b\b\b\b\b\b\b\b\b\b\b\b\b\b\b\b\b\b\b\r",
        "46240/50000 [==========================>...] - ETA: 0s - loss: 0.5286 - acc: 0.8348"
       ]
      },
      {
       "output_type": "stream",
       "stream": "stdout",
       "text": [
        "\b\b\b\b\b\b\b\b\b\b\b\b\b\b\b\b\b\b\b\b\b\b\b\b\b\b\b\b\b\b\b\b\b\b\b\b\b\b\b\b\b\b\b\b\b\b\b\b\b\b\b\b\b\b\b\b\b\b\b\b\b\b\b\b\b\b\b\b\b\b\b\b\b\b\b\b\b\b\b\b\b\b\b\r",
        "46976/50000 [===========================>..] - ETA: 0s - loss: 0.5242 - acc: 0.8361"
       ]
      },
      {
       "output_type": "stream",
       "stream": "stdout",
       "text": [
        "\b\b\b\b\b\b\b\b\b\b\b\b\b\b\b\b\b\b\b\b\b\b\b\b\b\b\b\b\b\b\b\b\b\b\b\b\b\b\b\b\b\b\b\b\b\b\b\b\b\b\b\b\b\b\b\b\b\b\b\b\b\b\b\b\b\b\b\b\b\b\b\b\b\b\b\b\b\b\b\b\b\b\b\r",
        "47712/50000 [===========================>..] - ETA: 0s - loss: 0.5199 - acc: 0.8374"
       ]
      },
      {
       "output_type": "stream",
       "stream": "stdout",
       "text": [
        "\b\b\b\b\b\b\b\b\b\b\b\b\b\b\b\b\b\b\b\b\b\b\b\b\b\b\b\b\b\b\b\b\b\b\b\b\b\b\b\b\b\b\b\b\b\b\b\b\b\b\b\b\b\b\b\b\b\b\b\b\b\b\b\b\b\b\b\b\b\b\b\b\b\b\b\b\b\b\b\b\b\b\b\r",
        "48512/50000 [============================>.] - ETA: 0s - loss: 0.5163 - acc: 0.8387"
       ]
      },
      {
       "output_type": "stream",
       "stream": "stdout",
       "text": [
        "\b\b\b\b\b\b\b\b\b\b\b\b\b\b\b\b\b\b\b\b\b\b\b\b\b\b\b\b\b\b\b\b\b\b\b\b\b\b\b\b\b\b\b\b\b\b\b\b\b\b\b\b\b\b\b\b\b\b\b\b\b\b\b\b\b\b\b\b\b\b\b\b\b\b\b\b\b\b\b\b\b\b\b\r",
        "49312/50000 [============================>.] - ETA: 0s - loss: 0.5125 - acc: 0.8401"
       ]
      },
      {
       "output_type": "stream",
       "stream": "stdout",
       "text": [
        "\b\b\b\b\b\b\b\b\b\b\b\b\b\b\b\b\b\b\b\b\b\b\b\b\b\b\b\b\b\b\b\b\b\b\b\b\b\b\b\b\b\b\b\b\b\b\b\b\b\b\b\b\b\b\b\b\b\b\b\b\b\b\b\b\b\b\b\b\b\b\b\b\b\b\b\b\b\b\b\b\b\b\b\r",
        "50000/50000 [==============================] - 3s - loss: 0.5097 - acc: 0.8410     "
       ]
      },
      {
       "output_type": "stream",
       "stream": "stdout",
       "text": [
        "\n",
        "Epoch 2/5\n",
        "\r",
        "   32/50000 [..............................] - ETA: 5s - loss: 0.4388 - acc: 0.8438"
       ]
      },
      {
       "output_type": "stream",
       "stream": "stdout",
       "text": [
        "\b\b\b\b\b\b\b\b\b\b\b\b\b\b\b\b\b\b\b\b\b\b\b\b\b\b\b\b\b\b\b\b\b\b\b\b\b\b\b\b\b\b\b\b\b\b\b\b\b\b\b\b\b\b\b\b\b\b\b\b\b\b\b\b\b\b\b\b\b\b\b\b\b\b\b\b\b\b\b\b\b\b\b\r",
        "  800/50000 [..............................] - ETA: 3s - loss: 0.2699 - acc: 0.9187"
       ]
      },
      {
       "output_type": "stream",
       "stream": "stdout",
       "text": [
        "\b\b\b\b\b\b\b\b\b\b\b\b\b\b\b\b\b\b\b\b\b\b\b\b\b\b\b\b\b\b\b\b\b\b\b\b\b\b\b\b\b\b\b\b\b\b\b\b\b\b\b\b\b\b\b\b\b\b\b\b\b\b\b\b\b\b\b\b\b\b\b\b\b\b\b\b\b\b\b\b\b\b\b\r",
        " 1408/50000 [..............................] - ETA: 3s - loss: 0.2622 - acc: 0.9212"
       ]
      },
      {
       "output_type": "stream",
       "stream": "stdout",
       "text": [
        "\b\b\b\b\b\b\b\b\b\b\b\b\b\b\b\b\b\b\b\b\b\b\b\b\b\b\b\b\b\b\b\b\b\b\b\b\b\b\b\b\b\b\b\b\b\b\b\b\b\b\b\b\b\b\b\b\b\b\b\b\b\b\b\b\b\b\b\b\b\b\b\b\b\b\b\b\b\b\b\b\b\b\b\r",
        " 2144/50000 [>.............................] - ETA: 3s - loss: 0.2630 - acc: 0.9244"
       ]
      },
      {
       "output_type": "stream",
       "stream": "stdout",
       "text": [
        "\b\b\b\b\b\b\b\b\b\b\b\b\b\b\b\b\b\b\b\b\b\b\b\b\b\b\b\b\b\b\b\b\b\b\b\b\b\b\b\b\b\b\b\b\b\b\b\b\b\b\b\b\b\b\b\b\b\b\b\b\b\b\b\b\b\b\b\b\b\b\b\b\b\b\b\b\b\b\b\b\b\b\b\r",
        " 2944/50000 [>.............................] - ETA: 3s - loss: 0.2652 - acc: 0.9219"
       ]
      },
      {
       "output_type": "stream",
       "stream": "stdout",
       "text": [
        "\b\b\b\b\b\b\b\b\b\b\b\b\b\b\b\b\b\b\b\b\b\b\b\b\b\b\b\b\b\b\b\b\b\b\b\b\b\b\b\b\b\b\b\b\b\b\b\b\b\b\b\b\b\b\b\b\b\b\b\b\b\b\b\b\b\b\b\b\b\b\b\b\b\b\b\b\b\b\b\b\b\b\b\r",
        " 3744/50000 [=>............................] - ETA: 3s - loss: 0.2655 - acc: 0.9209"
       ]
      },
      {
       "output_type": "stream",
       "stream": "stdout",
       "text": [
        "\b\b\b\b\b\b\b\b\b\b\b\b\b\b\b\b\b\b\b\b\b\b\b\b\b\b\b\b\b\b\b\b\b\b\b\b\b\b\b\b\b\b\b\b\b\b\b\b\b\b\b\b\b\b\b\b\b\b\b\b\b\b\b\b\b\b\b\b\b\b\b\b\b\b\b\b\b\b\b\b\b\b\b\r",
        " 4512/50000 [=>............................] - ETA: 3s - loss: 0.2718 - acc: 0.9180"
       ]
      },
      {
       "output_type": "stream",
       "stream": "stdout",
       "text": [
        "\b\b\b\b\b\b\b\b\b\b\b\b\b\b\b\b\b\b\b\b\b\b\b\b\b\b\b\b\b\b\b\b\b\b\b\b\b\b\b\b\b\b\b\b\b\b\b\b\b\b\b\b\b\b\b\b\b\b\b\b\b\b\b\b\b\b\b\b\b\b\b\b\b\b\b\b\b\b\b\b\b\b\b\r",
        " 5280/50000 [==>...........................] - ETA: 3s - loss: 0.2679 - acc: 0.9178"
       ]
      },
      {
       "output_type": "stream",
       "stream": "stdout",
       "text": [
        "\b\b\b\b\b\b\b\b\b\b\b\b\b\b\b\b\b\b\b\b\b\b\b\b\b\b\b\b\b\b\b\b\b\b\b\b\b\b\b\b\b\b\b\b\b\b\b\b\b\b\b\b\b\b\b\b\b\b\b\b\b\b\b\b\b\b\b\b\b\b\b\b\b\b\b\b\b\b\b\b\b\b\b\r",
        " 6080/50000 [==>...........................] - ETA: 2s - loss: 0.2657 - acc: 0.9184"
       ]
      },
      {
       "output_type": "stream",
       "stream": "stdout",
       "text": [
        "\b\b\b\b\b\b\b\b\b\b\b\b\b\b\b\b\b\b\b\b\b\b\b\b\b\b\b\b\b\b\b\b\b\b\b\b\b\b\b\b\b\b\b\b\b\b\b\b\b\b\b\b\b\b\b\b\b\b\b\b\b\b\b\b\b\b\b\b\b\b\b\b\b\b\b\b\b\b\b\b\b\b\b\r",
        " 6880/50000 [===>..........................] - ETA: 2s - loss: 0.2623 - acc: 0.9206"
       ]
      },
      {
       "output_type": "stream",
       "stream": "stdout",
       "text": [
        "\b\b\b\b\b\b\b\b\b\b\b\b\b\b\b\b\b\b\b\b\b\b\b\b\b\b\b\b\b\b\b\b\b\b\b\b\b\b\b\b\b\b\b\b\b\b\b\b\b\b\b\b\b\b\b\b\b\b\b\b\b\b\b\b\b\b\b\b\b\b\b\b\b\b\b\b\b\b\b\b\b\b\b\r",
        " 7680/50000 [===>..........................] - ETA: 2s - loss: 0.2591 - acc: 0.9219"
       ]
      },
      {
       "output_type": "stream",
       "stream": "stdout",
       "text": [
        "\b\b\b\b\b\b\b\b\b\b\b\b\b\b\b\b\b\b\b\b\b\b\b\b\b\b\b\b\b\b\b\b\b\b\b\b\b\b\b\b\b\b\b\b\b\b\b\b\b\b\b\b\b\b\b\b\b\b\b\b\b\b\b\b\b\b\b\b\b\b\b\b\b\b\b\b\b\b\b\b\b\b\b\r",
        " 8480/50000 [====>.........................] - ETA: 2s - loss: 0.2594 - acc: 0.9231"
       ]
      },
      {
       "output_type": "stream",
       "stream": "stdout",
       "text": [
        "\b\b\b\b\b\b\b\b\b\b\b\b\b\b\b\b\b\b\b\b\b\b\b\b\b\b\b\b\b\b\b\b\b\b\b\b\b\b\b\b\b\b\b\b\b\b\b\b\b\b\b\b\b\b\b\b\b\b\b\b\b\b\b\b\b\b\b\b\b\b\b\b\b\b\b\b\b\b\b\b\b\b\b\r",
        " 9280/50000 [====>.........................] - ETA: 2s - loss: 0.2601 - acc: 0.9231"
       ]
      },
      {
       "output_type": "stream",
       "stream": "stdout",
       "text": [
        "\b\b\b\b\b\b\b\b\b\b\b\b\b\b\b\b\b\b\b\b\b\b\b\b\b\b\b\b\b\b\b\b\b\b\b\b\b\b\b\b\b\b\b\b\b\b\b\b\b\b\b\b\b\b\b\b\b\b\b\b\b\b\b\b\b\b\b\b\b\b\b\b\b\b\b\b\b\b\b\b\b\b\b\r",
        "10080/50000 [=====>........................] - ETA: 2s - loss: 0.2582 - acc: 0.9235"
       ]
      },
      {
       "output_type": "stream",
       "stream": "stdout",
       "text": [
        "\b\b\b\b\b\b\b\b\b\b\b\b\b\b\b\b\b\b\b\b\b\b\b\b\b\b\b\b\b\b\b\b\b\b\b\b\b\b\b\b\b\b\b\b\b\b\b\b\b\b\b\b\b\b\b\b\b\b\b\b\b\b\b\b\b\b\b\b\b\b\b\b\b\b\b\b\b\b\b\b\b\b\b\r",
        "10880/50000 [=====>........................] - ETA: 2s - loss: 0.2542 - acc: 0.9253"
       ]
      },
      {
       "output_type": "stream",
       "stream": "stdout",
       "text": [
        "\b\b\b\b\b\b\b\b\b\b\b\b\b\b\b\b\b\b\b\b\b\b\b\b\b\b\b\b\b\b\b\b\b\b\b\b\b\b\b\b\b\b\b\b\b\b\b\b\b\b\b\b\b\b\b\b\b\b\b\b\b\b\b\b\b\b\b\b\b\b\b\b\b\b\b\b\b\b\b\b\b\b\b\r",
        "11616/50000 [=====>........................] - ETA: 2s - loss: 0.2537 - acc: 0.9244"
       ]
      },
      {
       "output_type": "stream",
       "stream": "stdout",
       "text": [
        "\b\b\b\b\b\b\b\b\b\b\b\b\b\b\b\b\b\b\b\b\b\b\b\b\b\b\b\b\b\b\b\b\b\b\b\b\b\b\b\b\b\b\b\b\b\b\b\b\b\b\b\b\b\b\b\b\b\b\b\b\b\b\b\b\b\b\b\b\b\b\b\b\b\b\b\b\b\b\b\b\b\b\b\r",
        "12288/50000 [======>.......................] - ETA: 2s - loss: 0.2511 - acc: 0.9250"
       ]
      },
      {
       "output_type": "stream",
       "stream": "stdout",
       "text": [
        "\b\b\b\b\b\b\b\b\b\b\b\b\b\b\b\b\b\b\b\b\b\b\b\b\b\b\b\b\b\b\b\b\b\b\b\b\b\b\b\b\b\b\b\b\b\b\b\b\b\b\b\b\b\b\b\b\b\b\b\b\b\b\b\b\b\b\b\b\b\b\b\b\b\b\b\b\b\b\b\b\b\b\b\r",
        "13024/50000 [======>.......................] - ETA: 2s - loss: 0.2480 - acc: 0.9256"
       ]
      },
      {
       "output_type": "stream",
       "stream": "stdout",
       "text": [
        "\b\b\b\b\b\b\b\b\b\b\b\b\b\b\b\b\b\b\b\b\b\b\b\b\b\b\b\b\b\b\b\b\b\b\b\b\b\b\b\b\b\b\b\b\b\b\b\b\b\b\b\b\b\b\b\b\b\b\b\b\b\b\b\b\b\b\b\b\b\b\b\b\b\b\b\b\b\b\b\b\b\b\b\r",
        "13856/50000 [=======>......................] - ETA: 2s - loss: 0.2458 - acc: 0.9262"
       ]
      },
      {
       "output_type": "stream",
       "stream": "stdout",
       "text": [
        "\b\b\b\b\b\b\b\b\b\b\b\b\b\b\b\b\b\b\b\b\b\b\b\b\b\b\b\b\b\b\b\b\b\b\b\b\b\b\b\b\b\b\b\b\b\b\b\b\b\b\b\b\b\b\b\b\b\b\b\b\b\b\b\b\b\b\b\b\b\b\b\b\b\b\b\b\b\b\b\b\b\b\b\r",
        "14560/50000 [=======>......................] - ETA: 2s - loss: 0.2444 - acc: 0.9269"
       ]
      },
      {
       "output_type": "stream",
       "stream": "stdout",
       "text": [
        "\b\b\b\b\b\b\b\b\b\b\b\b\b\b\b\b\b\b\b\b\b\b\b\b\b\b\b\b\b\b\b\b\b\b\b\b\b\b\b\b\b\b\b\b\b\b\b\b\b\b\b\b\b\b\b\b\b\b\b\b\b\b\b\b\b\b\b\b\b\b\b\b\b\b\b\b\b\b\b\b\b\b\b\r",
        "15264/50000 [========>.....................] - ETA: 2s - loss: 0.2424 - acc: 0.9271"
       ]
      },
      {
       "output_type": "stream",
       "stream": "stdout",
       "text": [
        "\b\b\b\b\b\b\b\b\b\b\b\b\b\b\b\b\b\b\b\b\b\b\b\b\b\b\b\b\b\b\b\b\b\b\b\b\b\b\b\b\b\b\b\b\b\b\b\b\b\b\b\b\b\b\b\b\b\b\b\b\b\b\b\b\b\b\b\b\b\b\b\b\b\b\b\b\b\b\b\b\b\b\b\r",
        "15968/50000 [========>.....................] - ETA: 2s - loss: 0.2429 - acc: 0.9269"
       ]
      },
      {
       "output_type": "stream",
       "stream": "stdout",
       "text": [
        "\b\b\b\b\b\b\b\b\b\b\b\b\b\b\b\b\b\b\b\b\b\b\b\b\b\b\b\b\b\b\b\b\b\b\b\b\b\b\b\b\b\b\b\b\b\b\b\b\b\b\b\b\b\b\b\b\b\b\b\b\b\b\b\b\b\b\b\b\b\b\b\b\b\b\b\b\b\b\b\b\b\b\b\r",
        "16640/50000 [========>.....................] - ETA: 2s - loss: 0.2424 - acc: 0.9272"
       ]
      },
      {
       "output_type": "stream",
       "stream": "stdout",
       "text": [
        "\b\b\b\b\b\b\b\b\b\b\b\b\b\b\b\b\b\b\b\b\b\b\b\b\b\b\b\b\b\b\b\b\b\b\b\b\b\b\b\b\b\b\b\b\b\b\b\b\b\b\b\b\b\b\b\b\b\b\b\b\b\b\b\b\b\b\b\b\b\b\b\b\b\b\b\b\b\b\b\b\b\b\b\r",
        "17440/50000 [=========>....................] - ETA: 2s - loss: 0.2453 - acc: 0.9267"
       ]
      },
      {
       "output_type": "stream",
       "stream": "stdout",
       "text": [
        "\b\b\b\b\b\b\b\b\b\b\b\b\b\b\b\b\b\b\b\b\b\b\b\b\b\b\b\b\b\b\b\b\b\b\b\b\b\b\b\b\b\b\b\b\b\b\b\b\b\b\b\b\b\b\b\b\b\b\b\b\b\b\b\b\b\b\b\b\b\b\b\b\b\b\b\b\b\b\b\b\b\b\b\r",
        "18240/50000 [=========>....................] - ETA: 2s - loss: 0.2436 - acc: 0.9272"
       ]
      },
      {
       "output_type": "stream",
       "stream": "stdout",
       "text": [
        "\b\b\b\b\b\b\b\b\b\b\b\b\b\b\b\b\b\b\b\b\b\b\b\b\b\b\b\b\b\b\b\b\b\b\b\b\b\b\b\b\b\b\b\b\b\b\b\b\b\b\b\b\b\b\b\b\b\b\b\b\b\b\b\b\b\b\b\b\b\b\b\b\b\b\b\b\b\b\b\b\b\b\b\r",
        "19040/50000 [==========>...................] - ETA: 2s - loss: 0.2416 - acc: 0.9278"
       ]
      },
      {
       "output_type": "stream",
       "stream": "stdout",
       "text": [
        "\b\b\b\b\b\b\b\b\b\b\b\b\b\b\b\b\b\b\b\b\b\b\b\b\b\b\b\b\b\b\b\b\b\b\b\b\b\b\b\b\b\b\b\b\b\b\b\b\b\b\b\b\b\b\b\b\b\b\b\b\b\b\b\b\b\b\b\b\b\b\b\b\b\b\b\b\b\b\b\b\b\b\b\r",
        "19840/50000 [==========>...................] - ETA: 2s - loss: 0.2386 - acc: 0.9290"
       ]
      },
      {
       "output_type": "stream",
       "stream": "stdout",
       "text": [
        "\b\b\b\b\b\b\b\b\b\b\b\b\b\b\b\b\b\b\b\b\b\b\b\b\b\b\b\b\b\b\b\b\b\b\b\b\b\b\b\b\b\b\b\b\b\b\b\b\b\b\b\b\b\b\b\b\b\b\b\b\b\b\b\b\b\b\b\b\b\b\b\b\b\b\b\b\b\b\b\b\b\b\b\r",
        "20608/50000 [===========>..................] - ETA: 1s - loss: 0.2380 - acc: 0.9290"
       ]
      },
      {
       "output_type": "stream",
       "stream": "stdout",
       "text": [
        "\b\b\b\b\b\b\b\b\b\b\b\b\b\b\b\b\b\b\b\b\b\b\b\b\b\b\b\b\b\b\b\b\b\b\b\b\b\b\b\b\b\b\b\b\b\b\b\b\b\b\b\b\b\b\b\b\b\b\b\b\b\b\b\b\b\b\b\b\b\b\b\b\b\b\b\b\b\b\b\b\b\b\b\r",
        "21376/50000 [===========>..................] - ETA: 1s - loss: 0.2378 - acc: 0.9292"
       ]
      },
      {
       "output_type": "stream",
       "stream": "stdout",
       "text": [
        "\b\b\b\b\b\b\b\b\b\b\b\b\b\b\b\b\b\b\b\b\b\b\b\b\b\b\b\b\b\b\b\b\b\b\b\b\b\b\b\b\b\b\b\b\b\b\b\b\b\b\b\b\b\b\b\b\b\b\b\b\b\b\b\b\b\b\b\b\b\b\b\b\b\b\b\b\b\b\b\b\b\b\b\r",
        "22112/50000 [============>.................] - ETA: 1s - loss: 0.2369 - acc: 0.9294"
       ]
      },
      {
       "output_type": "stream",
       "stream": "stdout",
       "text": [
        "\b\b\b\b\b\b\b\b\b\b\b\b\b\b\b\b\b\b\b\b\b\b\b\b\b\b\b\b\b\b\b\b\b\b\b\b\b\b\b\b\b\b\b\b\b\b\b\b\b\b\b\b\b\b\b\b\b\b\b\b\b\b\b\b\b\b\b\b\b\b\b\b\b\b\b\b\b\b\b\b\b\b\b\r",
        "22912/50000 [============>.................] - ETA: 1s - loss: 0.2365 - acc: 0.9296"
       ]
      },
      {
       "output_type": "stream",
       "stream": "stdout",
       "text": [
        "\b\b\b\b\b\b\b\b\b\b\b\b\b\b\b\b\b\b\b\b\b\b\b\b\b\b\b\b\b\b\b\b\b\b\b\b\b\b\b\b\b\b\b\b\b\b\b\b\b\b\b\b\b\b\b\b\b\b\b\b\b\b\b\b\b\b\b\b\b\b\b\b\b\b\b\b\b\b\b\b\b\b\b\r",
        "23712/50000 [=============>................] - ETA: 1s - loss: 0.2359 - acc: 0.9295"
       ]
      },
      {
       "output_type": "stream",
       "stream": "stdout",
       "text": [
        "\b\b\b\b\b\b\b\b\b\b\b\b\b\b\b\b\b\b\b\b\b\b\b\b\b\b\b\b\b\b\b\b\b\b\b\b\b\b\b\b\b\b\b\b\b\b\b\b\b\b\b\b\b\b\b\b\b\b\b\b\b\b\b\b\b\b\b\b\b\b\b\b\b\b\b\b\b\b\b\b\b\b\b\r",
        "24512/50000 [=============>................] - ETA: 1s - loss: 0.2350 - acc: 0.9300"
       ]
      },
      {
       "output_type": "stream",
       "stream": "stdout",
       "text": [
        "\b\b\b\b\b\b\b\b\b\b\b\b\b\b\b\b\b\b\b\b\b\b\b\b\b\b\b\b\b\b\b\b\b\b\b\b\b\b\b\b\b\b\b\b\b\b\b\b\b\b\b\b\b\b\b\b\b\b\b\b\b\b\b\b\b\b\b\b\b\b\b\b\b\b\b\b\b\b\b\b\b\b\b\r",
        "25312/50000 [==============>...............] - ETA: 1s - loss: 0.2346 - acc: 0.9300"
       ]
      },
      {
       "output_type": "stream",
       "stream": "stdout",
       "text": [
        "\b\b\b\b\b\b\b\b\b\b\b\b\b\b\b\b\b\b\b\b\b\b\b\b\b\b\b\b\b\b\b\b\b\b\b\b\b\b\b\b\b\b\b\b\b\b\b\b\b\b\b\b\b\b\b\b\b\b\b\b\b\b\b\b\b\b\b\b\b\b\b\b\b\b\b\b\b\b\b\b\b\b\b\r",
        "26112/50000 [==============>...............] - ETA: 1s - loss: 0.2342 - acc: 0.9301"
       ]
      },
      {
       "output_type": "stream",
       "stream": "stdout",
       "text": [
        "\b\b\b\b\b\b\b\b\b\b\b\b\b\b\b\b\b\b\b\b\b\b\b\b\b\b\b\b\b\b\b\b\b\b\b\b\b\b\b\b\b\b\b\b\b\b\b\b\b\b\b\b\b\b\b\b\b\b\b\b\b\b\b\b\b\b\b\b\b\b\b\b\b\b\b\b\b\b\b\b\b\b\b\r",
        "26912/50000 [===============>..............] - ETA: 1s - loss: 0.2337 - acc: 0.9304"
       ]
      },
      {
       "output_type": "stream",
       "stream": "stdout",
       "text": [
        "\b\b\b\b\b\b\b\b\b\b\b\b\b\b\b\b\b\b\b\b\b\b\b\b\b\b\b\b\b\b\b\b\b\b\b\b\b\b\b\b\b\b\b\b\b\b\b\b\b\b\b\b\b\b\b\b\b\b\b\b\b\b\b\b\b\b\b\b\b\b\b\b\b\b\b\b\b\b\b\b\b\b\b\r",
        "27616/50000 [===============>..............] - ETA: 1s - loss: 0.2332 - acc: 0.9304"
       ]
      },
      {
       "output_type": "stream",
       "stream": "stdout",
       "text": [
        "\b\b\b\b\b\b\b\b\b\b\b\b\b\b\b\b\b\b\b\b\b\b\b\b\b\b\b\b\b\b\b\b\b\b\b\b\b\b\b\b\b\b\b\b\b\b\b\b\b\b\b\b\b\b\b\b\b\b\b\b\b\b\b\b\b\b\b\b\b\b\b\b\b\b\b\b\b\b\b\b\b\b\b\r",
        "28416/50000 [================>.............] - ETA: 1s - loss: 0.2321 - acc: 0.9306"
       ]
      },
      {
       "output_type": "stream",
       "stream": "stdout",
       "text": [
        "\b\b\b\b\b\b\b\b\b\b\b\b\b\b\b\b\b\b\b\b\b\b\b\b\b\b\b\b\b\b\b\b\b\b\b\b\b\b\b\b\b\b\b\b\b\b\b\b\b\b\b\b\b\b\b\b\b\b\b\b\b\b\b\b\b\b\b\b\b\b\b\b\b\b\b\b\b\b\b\b\b\b\b\r",
        "29152/50000 [================>.............] - ETA: 1s - loss: 0.2309 - acc: 0.9309"
       ]
      },
      {
       "output_type": "stream",
       "stream": "stdout",
       "text": [
        "\b\b\b\b\b\b\b\b\b\b\b\b\b\b\b\b\b\b\b\b\b\b\b\b\b\b\b\b\b\b\b\b\b\b\b\b\b\b\b\b\b\b\b\b\b\b\b\b\b\b\b\b\b\b\b\b\b\b\b\b\b\b\b\b\b\b\b\b\b\b\b\b\b\b\b\b\b\b\b\b\b\b\b\r",
        "29952/50000 [================>.............] - ETA: 1s - loss: 0.2301 - acc: 0.9312"
       ]
      },
      {
       "output_type": "stream",
       "stream": "stdout",
       "text": [
        "\b\b\b\b\b\b\b\b\b\b\b\b\b\b\b\b\b\b\b\b\b\b\b\b\b\b\b\b\b\b\b\b\b\b\b\b\b\b\b\b\b\b\b\b\b\b\b\b\b\b\b\b\b\b\b\b\b\b\b\b\b\b\b\b\b\b\b\b\b\b\b\b\b\b\b\b\b\b\b\b\b\b\b\r",
        "30752/50000 [=================>............] - ETA: 1s - loss: 0.2288 - acc: 0.9314"
       ]
      },
      {
       "output_type": "stream",
       "stream": "stdout",
       "text": [
        "\b\b\b\b\b\b\b\b\b\b\b\b\b\b\b\b\b\b\b\b\b\b\b\b\b\b\b\b\b\b\b\b\b\b\b\b\b\b\b\b\b\b\b\b\b\b\b\b\b\b\b\b\b\b\b\b\b\b\b\b\b\b\b\b\b\b\b\b\b\b\b\b\b\b\b\b\b\b\b\b\b\b\b\r",
        "31552/50000 [=================>............] - ETA: 1s - loss: 0.2284 - acc: 0.9314"
       ]
      },
      {
       "output_type": "stream",
       "stream": "stdout",
       "text": [
        "\b\b\b\b\b\b\b\b\b\b\b\b\b\b\b\b\b\b\b\b\b\b\b\b\b\b\b\b\b\b\b\b\b\b\b\b\b\b\b\b\b\b\b\b\b\b\b\b\b\b\b\b\b\b\b\b\b\b\b\b\b\b\b\b\b\b\b\b\b\b\b\b\b\b\b\b\b\b\b\b\b\b\b\r",
        "32256/50000 [==================>...........] - ETA: 1s - loss: 0.2278 - acc: 0.9315"
       ]
      },
      {
       "output_type": "stream",
       "stream": "stdout",
       "text": [
        "\b\b\b\b\b\b\b\b\b\b\b\b\b\b\b\b\b\b\b\b\b\b\b\b\b\b\b\b\b\b\b\b\b\b\b\b\b\b\b\b\b\b\b\b\b\b\b\b\b\b\b\b\b\b\b\b\b\b\b\b\b\b\b\b\b\b\b\b\b\b\b\b\b\b\b\b\b\b\b\b\b\b\b\r",
        "32992/50000 [==================>...........] - ETA: 1s - loss: 0.2273 - acc: 0.9318"
       ]
      },
      {
       "output_type": "stream",
       "stream": "stdout",
       "text": [
        "\b\b\b\b\b\b\b\b\b\b\b\b\b\b\b\b\b\b\b\b\b\b\b\b\b\b\b\b\b\b\b\b\b\b\b\b\b\b\b\b\b\b\b\b\b\b\b\b\b\b\b\b\b\b\b\b\b\b\b\b\b\b\b\b\b\b\b\b\b\b\b\b\b\b\b\b\b\b\b\b\b\b\b\r",
        "33792/50000 [===================>..........] - ETA: 1s - loss: 0.2263 - acc: 0.9319"
       ]
      },
      {
       "output_type": "stream",
       "stream": "stdout",
       "text": [
        "\b\b\b\b\b\b\b\b\b\b\b\b\b\b\b\b\b\b\b\b\b\b\b\b\b\b\b\b\b\b\b\b\b\b\b\b\b\b\b\b\b\b\b\b\b\b\b\b\b\b\b\b\b\b\b\b\b\b\b\b\b\b\b\b\b\b\b\b\b\b\b\b\b\b\b\b\b\b\b\b\b\b\b\r",
        "34592/50000 [===================>..........] - ETA: 1s - loss: 0.2263 - acc: 0.9318"
       ]
      },
      {
       "output_type": "stream",
       "stream": "stdout",
       "text": [
        "\b\b\b\b\b\b\b\b\b\b\b\b\b\b\b\b\b\b\b\b\b\b\b\b\b\b\b\b\b\b\b\b\b\b\b\b\b\b\b\b\b\b\b\b\b\b\b\b\b\b\b\b\b\b\b\b\b\b\b\b\b\b\b\b\b\b\b\b\b\b\b\b\b\b\b\b\b\b\b\b\b\b\b\r",
        "35392/50000 [====================>.........] - ETA: 0s - loss: 0.2266 - acc: 0.9318"
       ]
      },
      {
       "output_type": "stream",
       "stream": "stdout",
       "text": [
        "\b\b\b\b\b\b\b\b\b\b\b\b\b\b\b\b\b\b\b\b\b\b\b\b\b\b\b\b\b\b\b\b\b\b\b\b\b\b\b\b\b\b\b\b\b\b\b\b\b\b\b\b\b\b\b\b\b\b\b\b\b\b\b\b\b\b\b\b\b\b\b\b\b\b\b\b\b\b\b\b\b\b\b\r",
        "36192/50000 [====================>.........] - ETA: 0s - loss: 0.2255 - acc: 0.9321"
       ]
      },
      {
       "output_type": "stream",
       "stream": "stdout",
       "text": [
        "\b\b\b\b\b\b\b\b\b\b\b\b\b\b\b\b\b\b\b\b\b\b\b\b\b\b\b\b\b\b\b\b\b\b\b\b\b\b\b\b\b\b\b\b\b\b\b\b\b\b\b\b\b\b\b\b\b\b\b\b\b\b\b\b\b\b\b\b\b\b\b\b\b\b\b\b\b\b\b\b\b\b\b\r",
        "36928/50000 [=====================>........] - ETA: 0s - loss: 0.2253 - acc: 0.9323"
       ]
      },
      {
       "output_type": "stream",
       "stream": "stdout",
       "text": [
        "\b\b\b\b\b\b\b\b\b\b\b\b\b\b\b\b\b\b\b\b\b\b\b\b\b\b\b\b\b\b\b\b\b\b\b\b\b\b\b\b\b\b\b\b\b\b\b\b\b\b\b\b\b\b\b\b\b\b\b\b\b\b\b\b\b\b\b\b\b\b\b\b\b\b\b\b\b\b\b\b\b\b\b\r",
        "37728/50000 [=====================>........] - ETA: 0s - loss: 0.2254 - acc: 0.9324"
       ]
      },
      {
       "output_type": "stream",
       "stream": "stdout",
       "text": [
        "\b\b\b\b\b\b\b\b\b\b\b\b\b\b\b\b\b\b\b\b\b\b\b\b\b\b\b\b\b\b\b\b\b\b\b\b\b\b\b\b\b\b\b\b\b\b\b\b\b\b\b\b\b\b\b\b\b\b\b\b\b\b\b\b\b\b\b\b\b\b\b\b\b\b\b\b\b\b\b\b\b\b\b\r",
        "38400/50000 [======================>.......] - ETA: 0s - loss: 0.2253 - acc: 0.9324"
       ]
      },
      {
       "output_type": "stream",
       "stream": "stdout",
       "text": [
        "\b\b\b\b\b\b\b\b\b\b\b\b\b\b\b\b\b\b\b\b\b\b\b\b\b\b\b\b\b\b\b\b\b\b\b\b\b\b\b\b\b\b\b\b\b\b\b\b\b\b\b\b\b\b\b\b\b\b\b\b\b\b\b\b\b\b\b\b\b\b\b\b\b\b\b\b\b\b\b\b\b\b\b\r",
        "39168/50000 [======================>.......] - ETA: 0s - loss: 0.2251 - acc: 0.9325"
       ]
      },
      {
       "output_type": "stream",
       "stream": "stdout",
       "text": [
        "\b\b\b\b\b\b\b\b\b\b\b\b\b\b\b\b\b\b\b\b\b\b\b\b\b\b\b\b\b\b\b\b\b\b\b\b\b\b\b\b\b\b\b\b\b\b\b\b\b\b\b\b\b\b\b\b\b\b\b\b\b\b\b\b\b\b\b\b\b\b\b\b\b\b\b\b\b\b\b\b\b\b\b\r",
        "39968/50000 [======================>.......] - ETA: 0s - loss: 0.2252 - acc: 0.9324"
       ]
      },
      {
       "output_type": "stream",
       "stream": "stdout",
       "text": [
        "\b\b\b\b\b\b\b\b\b\b\b\b\b\b\b\b\b\b\b\b\b\b\b\b\b\b\b\b\b\b\b\b\b\b\b\b\b\b\b\b\b\b\b\b\b\b\b\b\b\b\b\b\b\b\b\b\b\b\b\b\b\b\b\b\b\b\b\b\b\b\b\b\b\b\b\b\b\b\b\b\b\b\b\r",
        "40768/50000 [=======================>......] - ETA: 0s - loss: 0.2255 - acc: 0.9325"
       ]
      },
      {
       "output_type": "stream",
       "stream": "stdout",
       "text": [
        "\b\b\b\b\b\b\b\b\b\b\b\b\b\b\b\b\b\b\b\b\b\b\b\b\b\b\b\b\b\b\b\b\b\b\b\b\b\b\b\b\b\b\b\b\b\b\b\b\b\b\b\b\b\b\b\b\b\b\b\b\b\b\b\b\b\b\b\b\b\b\b\b\b\b\b\b\b\b\b\b\b\b\b\r",
        "41472/50000 [=======================>......] - ETA: 0s - loss: 0.2244 - acc: 0.9329"
       ]
      },
      {
       "output_type": "stream",
       "stream": "stdout",
       "text": [
        "\b\b\b\b\b\b\b\b\b\b\b\b\b\b\b\b\b\b\b\b\b\b\b\b\b\b\b\b\b\b\b\b\b\b\b\b\b\b\b\b\b\b\b\b\b\b\b\b\b\b\b\b\b\b\b\b\b\b\b\b\b\b\b\b\b\b\b\b\b\b\b\b\b\b\b\b\b\b\b\b\b\b\b\r",
        "42272/50000 [========================>.....] - ETA: 0s - loss: 0.2238 - acc: 0.9331"
       ]
      },
      {
       "output_type": "stream",
       "stream": "stdout",
       "text": [
        "\b\b\b\b\b\b\b\b\b\b\b\b\b\b\b\b\b\b\b\b\b\b\b\b\b\b\b\b\b\b\b\b\b\b\b\b\b\b\b\b\b\b\b\b\b\b\b\b\b\b\b\b\b\b\b\b\b\b\b\b\b\b\b\b\b\b\b\b\b\b\b\b\b\b\b\b\b\b\b\b\b\b\b\r",
        "42976/50000 [========================>.....] - ETA: 0s - loss: 0.2233 - acc: 0.9333"
       ]
      },
      {
       "output_type": "stream",
       "stream": "stdout",
       "text": [
        "\b\b\b\b\b\b\b\b\b\b\b\b\b\b\b\b\b\b\b\b\b\b\b\b\b\b\b\b\b\b\b\b\b\b\b\b\b\b\b\b\b\b\b\b\b\b\b\b\b\b\b\b\b\b\b\b\b\b\b\b\b\b\b\b\b\b\b\b\b\b\b\b\b\b\b\b\b\b\b\b\b\b\b\r",
        "43584/50000 [=========================>....] - ETA: 0s - loss: 0.2228 - acc: 0.9336"
       ]
      },
      {
       "output_type": "stream",
       "stream": "stdout",
       "text": [
        "\b\b\b\b\b\b\b\b\b\b\b\b\b\b\b\b\b\b\b\b\b\b\b\b\b\b\b\b\b\b\b\b\b\b\b\b\b\b\b\b\b\b\b\b\b\b\b\b\b\b\b\b\b\b\b\b\b\b\b\b\b\b\b\b\b\b\b\b\b\b\b\b\b\b\b\b\b\b\b\b\b\b\b\r",
        "44320/50000 [=========================>....] - ETA: 0s - loss: 0.2230 - acc: 0.9335"
       ]
      },
      {
       "output_type": "stream",
       "stream": "stdout",
       "text": [
        "\b\b\b\b\b\b\b\b\b\b\b\b\b\b\b\b\b\b\b\b\b\b\b\b\b\b\b\b\b\b\b\b\b\b\b\b\b\b\b\b\b\b\b\b\b\b\b\b\b\b\b\b\b\b\b\b\b\b\b\b\b\b\b\b\b\b\b\b\b\b\b\b\b\b\b\b\b\b\b\b\b\b\b\r",
        "45024/50000 [==========================>...] - ETA: 0s - loss: 0.2225 - acc: 0.9337"
       ]
      },
      {
       "output_type": "stream",
       "stream": "stdout",
       "text": [
        "\b\b\b\b\b\b\b\b\b\b\b\b\b\b\b\b\b\b\b\b\b\b\b\b\b\b\b\b\b\b\b\b\b\b\b\b\b\b\b\b\b\b\b\b\b\b\b\b\b\b\b\b\b\b\b\b\b\b\b\b\b\b\b\b\b\b\b\b\b\b\b\b\b\b\b\b\b\b\b\b\b\b\b\r",
        "45696/50000 [==========================>...] - ETA: 0s - loss: 0.2220 - acc: 0.9337"
       ]
      },
      {
       "output_type": "stream",
       "stream": "stdout",
       "text": [
        "\b\b\b\b\b\b\b\b\b\b\b\b\b\b\b\b\b\b\b\b\b\b\b\b\b\b\b\b\b\b\b\b\b\b\b\b\b\b\b\b\b\b\b\b\b\b\b\b\b\b\b\b\b\b\b\b\b\b\b\b\b\b\b\b\b\b\b\b\b\b\b\b\b\b\b\b\b\b\b\b\b\b\b\r",
        "46368/50000 [==========================>...] - ETA: 0s - loss: 0.2218 - acc: 0.9339"
       ]
      },
      {
       "output_type": "stream",
       "stream": "stdout",
       "text": [
        "\b\b\b\b\b\b\b\b\b\b\b\b\b\b\b\b\b\b\b\b\b\b\b\b\b\b\b\b\b\b\b\b\b\b\b\b\b\b\b\b\b\b\b\b\b\b\b\b\b\b\b\b\b\b\b\b\b\b\b\b\b\b\b\b\b\b\b\b\b\b\b\b\b\b\b\b\b\b\b\b\b\b\b\r",
        "47072/50000 [===========================>..] - ETA: 0s - loss: 0.2219 - acc: 0.9341"
       ]
      },
      {
       "output_type": "stream",
       "stream": "stdout",
       "text": [
        "\b\b\b\b\b\b\b\b\b\b\b\b\b\b\b\b\b\b\b\b\b\b\b\b\b\b\b\b\b\b\b\b\b\b\b\b\b\b\b\b\b\b\b\b\b\b\b\b\b\b\b\b\b\b\b\b\b\b\b\b\b\b\b\b\b\b\b\b\b\b\b\b\b\b\b\b\b\b\b\b\b\b\b\r",
        "47808/50000 [===========================>..] - ETA: 0s - loss: 0.2220 - acc: 0.9342"
       ]
      },
      {
       "output_type": "stream",
       "stream": "stdout",
       "text": [
        "\b\b\b\b\b\b\b\b\b\b\b\b\b\b\b\b\b\b\b\b\b\b\b\b\b\b\b\b\b\b\b\b\b\b\b\b\b\b\b\b\b\b\b\b\b\b\b\b\b\b\b\b\b\b\b\b\b\b\b\b\b\b\b\b\b\b\b\b\b\b\b\b\b\b\b\b\b\b\b\b\b\b\b\r",
        "48576/50000 [============================>.] - ETA: 0s - loss: 0.2221 - acc: 0.9344"
       ]
      },
      {
       "output_type": "stream",
       "stream": "stdout",
       "text": [
        "\b\b\b\b\b\b\b\b\b\b\b\b\b\b\b\b\b\b\b\b\b\b\b\b\b\b\b\b\b\b\b\b\b\b\b\b\b\b\b\b\b\b\b\b\b\b\b\b\b\b\b\b\b\b\b\b\b\b\b\b\b\b\b\b\b\b\b\b\b\b\b\b\b\b\b\b\b\b\b\b\b\b\b\r",
        "49312/50000 [============================>.] - ETA: 0s - loss: 0.2220 - acc: 0.9343"
       ]
      },
      {
       "output_type": "stream",
       "stream": "stdout",
       "text": [
        "\b\b\b\b\b\b\b\b\b\b\b\b\b\b\b\b\b\b\b\b\b\b\b\b\b\b\b\b\b\b\b\b\b\b\b\b\b\b\b\b\b\b\b\b\b\b\b\b\b\b\b\b\b\b\b\b\b\b\b\b\b\b\b\b\b\b\b\b\b\b\b\b\b\b\b\b\b\b\b\b\b\b\b\r",
        "50000/50000 [==============================] - 3s - loss: 0.2223 - acc: 0.9343     "
       ]
      },
      {
       "output_type": "stream",
       "stream": "stdout",
       "text": [
        "\n",
        "Epoch 3/5\n",
        "\r",
        "   32/50000 [..............................] - ETA: 5s - loss: 0.1308 - acc: 0.9688"
       ]
      },
      {
       "output_type": "stream",
       "stream": "stdout",
       "text": [
        "\b\b\b\b\b\b\b\b\b\b\b\b\b\b\b\b\b\b\b\b\b\b\b\b\b\b\b\b\b\b\b\b\b\b\b\b\b\b\b\b\b\b\b\b\b\b\b\b\b\b\b\b\b\b\b\b\b\b\b\b\b\b\b\b\b\b\b\b\b\b\b\b\b\b\b\b\b\b\b\b\b\b\b\r",
        "  768/50000 [..............................] - ETA: 3s - loss: 0.1870 - acc: 0.9505"
       ]
      },
      {
       "output_type": "stream",
       "stream": "stdout",
       "text": [
        "\b\b\b\b\b\b\b\b\b\b\b\b\b\b\b\b\b\b\b\b\b\b\b\b\b\b\b\b\b\b\b\b\b\b\b\b\b\b\b\b\b\b\b\b\b\b\b\b\b\b\b\b\b\b\b\b\b\b\b\b\b\b\b\b\b\b\b\b\b\b\b\b\b\b\b\b\b\b\b\b\b\b\b\r",
        " 1536/50000 [..............................] - ETA: 3s - loss: 0.1840 - acc: 0.9518"
       ]
      },
      {
       "output_type": "stream",
       "stream": "stdout",
       "text": [
        "\b\b\b\b\b\b\b\b\b\b\b\b\b\b\b\b\b\b\b\b\b\b\b\b\b\b\b\b\b\b\b\b\b\b\b\b\b\b\b\b\b\b\b\b\b\b\b\b\b\b\b\b\b\b\b\b\b\b\b\b\b\b\b\b\b\b\b\b\b\b\b\b\b\b\b\b\b\b\b\b\b\b\b\r",
        " 2336/50000 [>.............................] - ETA: 3s - loss: 0.1999 - acc: 0.9473"
       ]
      },
      {
       "output_type": "stream",
       "stream": "stdout",
       "text": [
        "\b\b\b\b\b\b\b\b\b\b\b\b\b\b\b\b\b\b\b\b\b\b\b\b\b\b\b\b\b\b\b\b\b\b\b\b\b\b\b\b\b\b\b\b\b\b\b\b\b\b\b\b\b\b\b\b\b\b\b\b\b\b\b\b\b\b\b\b\b\b\b\b\b\b\b\b\b\b\b\b\b\b\b\r",
        " 3136/50000 [>.............................] - ETA: 3s - loss: 0.1937 - acc: 0.9461"
       ]
      },
      {
       "output_type": "stream",
       "stream": "stdout",
       "text": [
        "\b\b\b\b\b\b\b\b\b\b\b\b\b\b\b\b\b\b\b\b\b\b\b\b\b\b\b\b\b\b\b\b\b\b\b\b\b\b\b\b\b\b\b\b\b\b\b\b\b\b\b\b\b\b\b\b\b\b\b\b\b\b\b\b\b\b\b\b\b\b\b\b\b\b\b\b\b\b\b\b\b\b\b\r",
        " 3808/50000 [=>............................] - ETA: 3s - loss: 0.1889 - acc: 0.9454"
       ]
      },
      {
       "output_type": "stream",
       "stream": "stdout",
       "text": [
        "\b\b\b\b\b\b\b\b\b\b\b\b\b\b\b\b\b\b\b\b\b\b\b\b\b\b\b\b\b\b\b\b\b\b\b\b\b\b\b\b\b\b\b\b\b\b\b\b\b\b\b\b\b\b\b\b\b\b\b\b\b\b\b\b\b\b\b\b\b\b\b\b\b\b\b\b\b\b\b\b\b\b\b\r",
        " 4576/50000 [=>............................] - ETA: 3s - loss: 0.1964 - acc: 0.9441"
       ]
      },
      {
       "output_type": "stream",
       "stream": "stdout",
       "text": [
        "\b\b\b\b\b\b\b\b\b\b\b\b\b\b\b\b\b\b\b\b\b\b\b\b\b\b\b\b\b\b\b\b\b\b\b\b\b\b\b\b\b\b\b\b\b\b\b\b\b\b\b\b\b\b\b\b\b\b\b\b\b\b\b\b\b\b\b\b\b\b\b\b\b\b\b\b\b\b\b\b\b\b\b\r",
        " 5344/50000 [==>...........................] - ETA: 3s - loss: 0.1960 - acc: 0.9437"
       ]
      },
      {
       "output_type": "stream",
       "stream": "stdout",
       "text": [
        "\b\b\b\b\b\b\b\b\b\b\b\b\b\b\b\b\b\b\b\b\b\b\b\b\b\b\b\b\b\b\b\b\b\b\b\b\b\b\b\b\b\b\b\b\b\b\b\b\b\b\b\b\b\b\b\b\b\b\b\b\b\b\b\b\b\b\b\b\b\b\b\b\b\b\b\b\b\b\b\b\b\b\b\r",
        " 6112/50000 [==>...........................] - ETA: 2s - loss: 0.1961 - acc: 0.9434"
       ]
      },
      {
       "output_type": "stream",
       "stream": "stdout",
       "text": [
        "\b\b\b\b\b\b\b\b\b\b\b\b\b\b\b\b\b\b\b\b\b\b\b\b\b\b\b\b\b\b\b\b\b\b\b\b\b\b\b\b\b\b\b\b\b\b\b\b\b\b\b\b\b\b\b\b\b\b\b\b\b\b\b\b\b\b\b\b\b\b\b\b\b\b\b\b\b\b\b\b\b\b\b\r",
        " 6784/50000 [===>..........................] - ETA: 2s - loss: 0.1907 - acc: 0.9452"
       ]
      },
      {
       "output_type": "stream",
       "stream": "stdout",
       "text": [
        "\b\b\b\b\b\b\b\b\b\b\b\b\b\b\b\b\b\b\b\b\b\b\b\b\b\b\b\b\b\b\b\b\b\b\b\b\b\b\b\b\b\b\b\b\b\b\b\b\b\b\b\b\b\b\b\b\b\b\b\b\b\b\b\b\b\b\b\b\b\b\b\b\b\b\b\b\b\b\b\b\b\b\b\r",
        " 7456/50000 [===>..........................] - ETA: 2s - loss: 0.1909 - acc: 0.9450"
       ]
      },
      {
       "output_type": "stream",
       "stream": "stdout",
       "text": [
        "\b\b\b\b\b\b\b\b\b\b\b\b\b\b\b\b\b\b\b\b\b\b\b\b\b\b\b\b\b\b\b\b\b\b\b\b\b\b\b\b\b\b\b\b\b\b\b\b\b\b\b\b\b\b\b\b\b\b\b\b\b\b\b\b\b\b\b\b\b\b\b\b\b\b\b\b\b\b\b\b\b\b\b\r",
        " 8192/50000 [===>..........................] - ETA: 2s - loss: 0.1949 - acc: 0.9437"
       ]
      },
      {
       "output_type": "stream",
       "stream": "stdout",
       "text": [
        "\b\b\b\b\b\b\b\b\b\b\b\b\b\b\b\b\b\b\b\b\b\b\b\b\b\b\b\b\b\b\b\b\b\b\b\b\b\b\b\b\b\b\b\b\b\b\b\b\b\b\b\b\b\b\b\b\b\b\b\b\b\b\b\b\b\b\b\b\b\b\b\b\b\b\b\b\b\b\b\b\b\b\b\r",
        " 8960/50000 [====>.........................] - ETA: 2s - loss: 0.1966 - acc: 0.9430"
       ]
      },
      {
       "output_type": "stream",
       "stream": "stdout",
       "text": [
        "\b\b\b\b\b\b\b\b\b\b\b\b\b\b\b\b\b\b\b\b\b\b\b\b\b\b\b\b\b\b\b\b\b\b\b\b\b\b\b\b\b\b\b\b\b\b\b\b\b\b\b\b\b\b\b\b\b\b\b\b\b\b\b\b\b\b\b\b\b\b\b\b\b\b\b\b\b\b\b\b\b\b\b\r",
        " 9760/50000 [====>.........................] - ETA: 2s - loss: 0.1956 - acc: 0.9433"
       ]
      },
      {
       "output_type": "stream",
       "stream": "stdout",
       "text": [
        "\b\b\b\b\b\b\b\b\b\b\b\b\b\b\b\b\b\b\b\b\b\b\b\b\b\b\b\b\b\b\b\b\b\b\b\b\b\b\b\b\b\b\b\b\b\b\b\b\b\b\b\b\b\b\b\b\b\b\b\b\b\b\b\b\b\b\b\b\b\b\b\b\b\b\b\b\b\b\b\b\b\b\b\r",
        "10528/50000 [=====>........................] - ETA: 2s - loss: 0.1971 - acc: 0.9431"
       ]
      },
      {
       "output_type": "stream",
       "stream": "stdout",
       "text": [
        "\b\b\b\b\b\b\b\b\b\b\b\b\b\b\b\b\b\b\b\b\b\b\b\b\b\b\b\b\b\b\b\b\b\b\b\b\b\b\b\b\b\b\b\b\b\b\b\b\b\b\b\b\b\b\b\b\b\b\b\b\b\b\b\b\b\b\b\b\b\b\b\b\b\b\b\b\b\b\b\b\b\b\b\r",
        "11168/50000 [=====>........................] - ETA: 2s - loss: 0.1952 - acc: 0.9434"
       ]
      },
      {
       "output_type": "stream",
       "stream": "stdout",
       "text": [
        "\b\b\b\b\b\b\b\b\b\b\b\b\b\b\b\b\b\b\b\b\b\b\b\b\b\b\b\b\b\b\b\b\b\b\b\b\b\b\b\b\b\b\b\b\b\b\b\b\b\b\b\b\b\b\b\b\b\b\b\b\b\b\b\b\b\b\b\b\b\b\b\b\b\b\b\b\b\b\b\b\b\b\b\r",
        "11872/50000 [======>.......................] - ETA: 2s - loss: 0.1933 - acc: 0.9442"
       ]
      },
      {
       "output_type": "stream",
       "stream": "stdout",
       "text": [
        "\b\b\b\b\b\b\b\b\b\b\b\b\b\b\b\b\b\b\b\b\b\b\b\b\b\b\b\b\b\b\b\b\b\b\b\b\b\b\b\b\b\b\b\b\b\b\b\b\b\b\b\b\b\b\b\b\b\b\b\b\b\b\b\b\b\b\b\b\b\b\b\b\b\b\b\b\b\b\b\b\b\b\b\r",
        "12640/50000 [======>.......................] - ETA: 2s - loss: 0.1924 - acc: 0.9444"
       ]
      },
      {
       "output_type": "stream",
       "stream": "stdout",
       "text": [
        "\b\b\b\b\b\b\b\b\b\b\b\b\b\b\b\b\b\b\b\b\b\b\b\b\b\b\b\b\b\b\b\b\b\b\b\b\b\b\b\b\b\b\b\b\b\b\b\b\b\b\b\b\b\b\b\b\b\b\b\b\b\b\b\b\b\b\b\b\b\b\b\b\b\b\b\b\b\b\b\b\b\b\b\r",
        "13376/50000 [=======>......................] - ETA: 2s - loss: 0.1915 - acc: 0.9446"
       ]
      },
      {
       "output_type": "stream",
       "stream": "stdout",
       "text": [
        "\b\b\b\b\b\b\b\b\b\b\b\b\b\b\b\b\b\b\b\b\b\b\b\b\b\b\b\b\b\b\b\b\b\b\b\b\b\b\b\b\b\b\b\b\b\b\b\b\b\b\b\b\b\b\b\b\b\b\b\b\b\b\b\b\b\b\b\b\b\b\b\b\b\b\b\b\b\b\b\b\b\b\b\r",
        "14048/50000 [=======>......................] - ETA: 2s - loss: 0.1904 - acc: 0.9447"
       ]
      },
      {
       "output_type": "stream",
       "stream": "stdout",
       "text": [
        "\b\b\b\b\b\b\b\b\b\b\b\b\b\b\b\b\b\b\b\b\b\b\b\b\b\b\b\b\b\b\b\b\b\b\b\b\b\b\b\b\b\b\b\b\b\b\b\b\b\b\b\b\b\b\b\b\b\b\b\b\b\b\b\b\b\b\b\b\b\b\b\b\b\b\b\b\b\b\b\b\b\b\b\r",
        "14816/50000 [=======>......................] - ETA: 2s - loss: 0.1884 - acc: 0.9450"
       ]
      },
      {
       "output_type": "stream",
       "stream": "stdout",
       "text": [
        "\b\b\b\b\b\b\b\b\b\b\b\b\b\b\b\b\b\b\b\b\b\b\b\b\b\b\b\b\b\b\b\b\b\b\b\b\b\b\b\b\b\b\b\b\b\b\b\b\b\b\b\b\b\b\b\b\b\b\b\b\b\b\b\b\b\b\b\b\b\b\b\b\b\b\b\b\b\b\b\b\b\b\b\r",
        "15552/50000 [========>.....................] - ETA: 2s - loss: 0.1884 - acc: 0.9444"
       ]
      },
      {
       "output_type": "stream",
       "stream": "stdout",
       "text": [
        "\b\b\b\b\b\b\b\b\b\b\b\b\b\b\b\b\b\b\b\b\b\b\b\b\b\b\b\b\b\b\b\b\b\b\b\b\b\b\b\b\b\b\b\b\b\b\b\b\b\b\b\b\b\b\b\b\b\b\b\b\b\b\b\b\b\b\b\b\b\b\b\b\b\b\b\b\b\b\b\b\b\b\b\r",
        "16352/50000 [========>.....................] - ETA: 2s - loss: 0.1885 - acc: 0.9444"
       ]
      },
      {
       "output_type": "stream",
       "stream": "stdout",
       "text": [
        "\b\b\b\b\b\b\b\b\b\b\b\b\b\b\b\b\b\b\b\b\b\b\b\b\b\b\b\b\b\b\b\b\b\b\b\b\b\b\b\b\b\b\b\b\b\b\b\b\b\b\b\b\b\b\b\b\b\b\b\b\b\b\b\b\b\b\b\b\b\b\b\b\b\b\b\b\b\b\b\b\b\b\b\r",
        "17152/50000 [=========>....................] - ETA: 2s - loss: 0.1878 - acc: 0.9448"
       ]
      },
      {
       "output_type": "stream",
       "stream": "stdout",
       "text": [
        "\b\b\b\b\b\b\b\b\b\b\b\b\b\b\b\b\b\b\b\b\b\b\b\b\b\b\b\b\b\b\b\b\b\b\b\b\b\b\b\b\b\b\b\b\b\b\b\b\b\b\b\b\b\b\b\b\b\b\b\b\b\b\b\b\b\b\b\b\b\b\b\b\b\b\b\b\b\b\b\b\b\b\b\r",
        "17952/50000 [=========>....................] - ETA: 2s - loss: 0.1866 - acc: 0.9445"
       ]
      },
      {
       "output_type": "stream",
       "stream": "stdout",
       "text": [
        "\b\b\b\b\b\b\b\b\b\b\b\b\b\b\b\b\b\b\b\b\b\b\b\b\b\b\b\b\b\b\b\b\b\b\b\b\b\b\b\b\b\b\b\b\b\b\b\b\b\b\b\b\b\b\b\b\b\b\b\b\b\b\b\b\b\b\b\b\b\b\b\b\b\b\b\b\b\b\b\b\b\b\b\r",
        "18752/50000 [==========>...................] - ETA: 2s - loss: 0.1865 - acc: 0.9445"
       ]
      },
      {
       "output_type": "stream",
       "stream": "stdout",
       "text": [
        "\b\b\b\b\b\b\b\b\b\b\b\b\b\b\b\b\b\b\b\b\b\b\b\b\b\b\b\b\b\b\b\b\b\b\b\b\b\b\b\b\b\b\b\b\b\b\b\b\b\b\b\b\b\b\b\b\b\b\b\b\b\b\b\b\b\b\b\b\b\b\b\b\b\b\b\b\b\b\b\b\b\b\b\r",
        "19552/50000 [==========>...................] - ETA: 2s - loss: 0.1849 - acc: 0.9449"
       ]
      },
      {
       "output_type": "stream",
       "stream": "stdout",
       "text": [
        "\b\b\b\b\b\b\b\b\b\b\b\b\b\b\b\b\b\b\b\b\b\b\b\b\b\b\b\b\b\b\b\b\b\b\b\b\b\b\b\b\b\b\b\b\b\b\b\b\b\b\b\b\b\b\b\b\b\b\b\b\b\b\b\b\b\b\b\b\b\b\b\b\b\b\b\b\b\b\b\b\b\b\b\r",
        "20352/50000 [===========>..................] - ETA: 2s - loss: 0.1837 - acc: 0.9454"
       ]
      },
      {
       "output_type": "stream",
       "stream": "stdout",
       "text": [
        "\b\b\b\b\b\b\b\b\b\b\b\b\b\b\b\b\b\b\b\b\b\b\b\b\b\b\b\b\b\b\b\b\b\b\b\b\b\b\b\b\b\b\b\b\b\b\b\b\b\b\b\b\b\b\b\b\b\b\b\b\b\b\b\b\b\b\b\b\b\b\b\b\b\b\b\b\b\b\b\b\b\b\b\r",
        "21120/50000 [===========>..................] - ETA: 1s - loss: 0.1841 - acc: 0.9451"
       ]
      },
      {
       "output_type": "stream",
       "stream": "stdout",
       "text": [
        "\b\b\b\b\b\b\b\b\b\b\b\b\b\b\b\b\b\b\b\b\b\b\b\b\b\b\b\b\b\b\b\b\b\b\b\b\b\b\b\b\b\b\b\b\b\b\b\b\b\b\b\b\b\b\b\b\b\b\b\b\b\b\b\b\b\b\b\b\b\b\b\b\b\b\b\b\b\b\b\b\b\b\b\r",
        "21824/50000 [============>.................] - ETA: 1s - loss: 0.1831 - acc: 0.9453"
       ]
      },
      {
       "output_type": "stream",
       "stream": "stdout",
       "text": [
        "\b\b\b\b\b\b\b\b\b\b\b\b\b\b\b\b\b\b\b\b\b\b\b\b\b\b\b\b\b\b\b\b\b\b\b\b\b\b\b\b\b\b\b\b\b\b\b\b\b\b\b\b\b\b\b\b\b\b\b\b\b\b\b\b\b\b\b\b\b\b\b\b\b\b\b\b\b\b\b\b\b\b\b\r",
        "22528/50000 [============>.................] - ETA: 1s - loss: 0.1828 - acc: 0.9454"
       ]
      },
      {
       "output_type": "stream",
       "stream": "stdout",
       "text": [
        "\b\b\b\b\b\b\b\b\b\b\b\b\b\b\b\b\b\b\b\b\b\b\b\b\b\b\b\b\b\b\b\b\b\b\b\b\b\b\b\b\b\b\b\b\b\b\b\b\b\b\b\b\b\b\b\b\b\b\b\b\b\b\b\b\b\b\b\b\b\b\b\b\b\b\b\b\b\b\b\b\b\b\b\r",
        "23264/50000 [============>.................] - ETA: 1s - loss: 0.1832 - acc: 0.9453"
       ]
      },
      {
       "output_type": "stream",
       "stream": "stdout",
       "text": [
        "\b\b\b\b\b\b\b\b\b\b\b\b\b\b\b\b\b\b\b\b\b\b\b\b\b\b\b\b\b\b\b\b\b\b\b\b\b\b\b\b\b\b\b\b\b\b\b\b\b\b\b\b\b\b\b\b\b\b\b\b\b\b\b\b\b\b\b\b\b\b\b\b\b\b\b\b\b\b\b\b\b\b\b\r",
        "24000/50000 [=============>................] - ETA: 1s - loss: 0.1813 - acc: 0.9455"
       ]
      },
      {
       "output_type": "stream",
       "stream": "stdout",
       "text": [
        "\b\b\b\b\b\b\b\b\b\b\b\b\b\b\b\b\b\b\b\b\b\b\b\b\b\b\b\b\b\b\b\b\b\b\b\b\b\b\b\b\b\b\b\b\b\b\b\b\b\b\b\b\b\b\b\b\b\b\b\b\b\b\b\b\b\b\b\b\b\b\b\b\b\b\b\b\b\b\b\b\b\b\b\r",
        "24576/50000 [=============>................] - ETA: 1s - loss: 0.1813 - acc: 0.9454"
       ]
      },
      {
       "output_type": "stream",
       "stream": "stdout",
       "text": [
        "\b\b\b\b\b\b\b\b\b\b\b\b\b\b\b\b\b\b\b\b\b\b\b\b\b\b\b\b\b\b\b\b\b\b\b\b\b\b\b\b\b\b\b\b\b\b\b\b\b\b\b\b\b\b\b\b\b\b\b\b\b\b\b\b\b\b\b\b\b\b\b\b\b\b\b\b\b\b\b\b\b\b\b\r",
        "25344/50000 [==============>...............] - ETA: 1s - loss: 0.1806 - acc: 0.9459"
       ]
      },
      {
       "output_type": "stream",
       "stream": "stdout",
       "text": [
        "\b\b\b\b\b\b\b\b\b\b\b\b\b\b\b\b\b\b\b\b\b\b\b\b\b\b\b\b\b\b\b\b\b\b\b\b\b\b\b\b\b\b\b\b\b\b\b\b\b\b\b\b\b\b\b\b\b\b\b\b\b\b\b\b\b\b\b\b\b\b\b\b\b\b\b\b\b\b\b\b\b\b\b\r",
        "26016/50000 [==============>...............] - ETA: 1s - loss: 0.1816 - acc: 0.9456"
       ]
      },
      {
       "output_type": "stream",
       "stream": "stdout",
       "text": [
        "\b\b\b\b\b\b\b\b\b\b\b\b\b\b\b\b\b\b\b\b\b\b\b\b\b\b\b\b\b\b\b\b\b\b\b\b\b\b\b\b\b\b\b\b\b\b\b\b\b\b\b\b\b\b\b\b\b\b\b\b\b\b\b\b\b\b\b\b\b\b\b\b\b\b\b\b\b\b\b\b\b\b\b\r",
        "26816/50000 [===============>..............] - ETA: 1s - loss: 0.1799 - acc: 0.9458"
       ]
      },
      {
       "output_type": "stream",
       "stream": "stdout",
       "text": [
        "\b\b\b\b\b\b\b\b\b\b\b\b\b\b\b\b\b\b\b\b\b\b\b\b\b\b\b\b\b\b\b\b\b\b\b\b\b\b\b\b\b\b\b\b\b\b\b\b\b\b\b\b\b\b\b\b\b\b\b\b\b\b\b\b\b\b\b\b\b\b\b\b\b\b\b\b\b\b\b\b\b\b\b\r",
        "27552/50000 [===============>..............] - ETA: 1s - loss: 0.1799 - acc: 0.9456"
       ]
      },
      {
       "output_type": "stream",
       "stream": "stdout",
       "text": [
        "\b\b\b\b\b\b\b\b\b\b\b\b\b\b\b\b\b\b\b\b\b\b\b\b\b\b\b\b\b\b\b\b\b\b\b\b\b\b\b\b\b\b\b\b\b\b\b\b\b\b\b\b\b\b\b\b\b\b\b\b\b\b\b\b\b\b\b\b\b\b\b\b\b\b\b\b\b\b\b\b\b\b\b\r",
        "28288/50000 [===============>..............] - ETA: 1s - loss: 0.1801 - acc: 0.9457"
       ]
      },
      {
       "output_type": "stream",
       "stream": "stdout",
       "text": [
        "\b\b\b\b\b\b\b\b\b\b\b\b\b\b\b\b\b\b\b\b\b\b\b\b\b\b\b\b\b\b\b\b\b\b\b\b\b\b\b\b\b\b\b\b\b\b\b\b\b\b\b\b\b\b\b\b\b\b\b\b\b\b\b\b\b\b\b\b\b\b\b\b\b\b\b\b\b\b\b\b\b\b\b\r",
        "29088/50000 [================>.............] - ETA: 1s - loss: 0.1800 - acc: 0.9458"
       ]
      },
      {
       "output_type": "stream",
       "stream": "stdout",
       "text": [
        "\b\b\b\b\b\b\b\b\b\b\b\b\b\b\b\b\b\b\b\b\b\b\b\b\b\b\b\b\b\b\b\b\b\b\b\b\b\b\b\b\b\b\b\b\b\b\b\b\b\b\b\b\b\b\b\b\b\b\b\b\b\b\b\b\b\b\b\b\b\b\b\b\b\b\b\b\b\b\b\b\b\b\b\r",
        "29792/50000 [================>.............] - ETA: 1s - loss: 0.1791 - acc: 0.9461"
       ]
      },
      {
       "output_type": "stream",
       "stream": "stdout",
       "text": [
        "\b\b\b\b\b\b\b\b\b\b\b\b\b\b\b\b\b\b\b\b\b\b\b\b\b\b\b\b\b\b\b\b\b\b\b\b\b\b\b\b\b\b\b\b\b\b\b\b\b\b\b\b\b\b\b\b\b\b\b\b\b\b\b\b\b\b\b\b\b\b\b\b\b\b\b\b\b\b\b\b\b\b\b\r",
        "30592/50000 [=================>............] - ETA: 1s - loss: 0.1800 - acc: 0.9458"
       ]
      },
      {
       "output_type": "stream",
       "stream": "stdout",
       "text": [
        "\b\b\b\b\b\b\b\b\b\b\b\b\b\b\b\b\b\b\b\b\b\b\b\b\b\b\b\b\b\b\b\b\b\b\b\b\b\b\b\b\b\b\b\b\b\b\b\b\b\b\b\b\b\b\b\b\b\b\b\b\b\b\b\b\b\b\b\b\b\b\b\b\b\b\b\b\b\b\b\b\b\b\b\r",
        "31392/50000 [=================>............] - ETA: 1s - loss: 0.1794 - acc: 0.9462"
       ]
      },
      {
       "output_type": "stream",
       "stream": "stdout",
       "text": [
        "\b\b\b\b\b\b\b\b\b\b\b\b\b\b\b\b\b\b\b\b\b\b\b\b\b\b\b\b\b\b\b\b\b\b\b\b\b\b\b\b\b\b\b\b\b\b\b\b\b\b\b\b\b\b\b\b\b\b\b\b\b\b\b\b\b\b\b\b\b\b\b\b\b\b\b\b\b\b\b\b\b\b\b\r",
        "32160/50000 [==================>...........] - ETA: 1s - loss: 0.1787 - acc: 0.9465"
       ]
      },
      {
       "output_type": "stream",
       "stream": "stdout",
       "text": [
        "\b\b\b\b\b\b\b\b\b\b\b\b\b\b\b\b\b\b\b\b\b\b\b\b\b\b\b\b\b\b\b\b\b\b\b\b\b\b\b\b\b\b\b\b\b\b\b\b\b\b\b\b\b\b\b\b\b\b\b\b\b\b\b\b\b\b\b\b\b\b\b\b\b\b\b\b\b\b\b\b\b\b\b\r",
        "32960/50000 [==================>...........] - ETA: 1s - loss: 0.1775 - acc: 0.9470"
       ]
      },
      {
       "output_type": "stream",
       "stream": "stdout",
       "text": [
        "\b\b\b\b\b\b\b\b\b\b\b\b\b\b\b\b\b\b\b\b\b\b\b\b\b\b\b\b\b\b\b\b\b\b\b\b\b\b\b\b\b\b\b\b\b\b\b\b\b\b\b\b\b\b\b\b\b\b\b\b\b\b\b\b\b\b\b\b\b\b\b\b\b\b\b\b\b\b\b\b\b\b\b\r",
        "33632/50000 [===================>..........] - ETA: 1s - loss: 0.1774 - acc: 0.9469"
       ]
      },
      {
       "output_type": "stream",
       "stream": "stdout",
       "text": [
        "\b\b\b\b\b\b\b\b\b\b\b\b\b\b\b\b\b\b\b\b\b\b\b\b\b\b\b\b\b\b\b\b\b\b\b\b\b\b\b\b\b\b\b\b\b\b\b\b\b\b\b\b\b\b\b\b\b\b\b\b\b\b\b\b\b\b\b\b\b\b\b\b\b\b\b\b\b\b\b\b\b\b\b\r",
        "34368/50000 [===================>..........] - ETA: 1s - loss: 0.1774 - acc: 0.9468"
       ]
      },
      {
       "output_type": "stream",
       "stream": "stdout",
       "text": [
        "\b\b\b\b\b\b\b\b\b\b\b\b\b\b\b\b\b\b\b\b\b\b\b\b\b\b\b\b\b\b\b\b\b\b\b\b\b\b\b\b\b\b\b\b\b\b\b\b\b\b\b\b\b\b\b\b\b\b\b\b\b\b\b\b\b\b\b\b\b\b\b\b\b\b\b\b\b\b\b\b\b\b\b\r",
        "35104/50000 [====================>.........] - ETA: 1s - loss: 0.1769 - acc: 0.9469"
       ]
      },
      {
       "output_type": "stream",
       "stream": "stdout",
       "text": [
        "\b\b\b\b\b\b\b\b\b\b\b\b\b\b\b\b\b\b\b\b\b\b\b\b\b\b\b\b\b\b\b\b\b\b\b\b\b\b\b\b\b\b\b\b\b\b\b\b\b\b\b\b\b\b\b\b\b\b\b\b\b\b\b\b\b\b\b\b\b\b\b\b\b\b\b\b\b\b\b\b\b\b\b\r",
        "35808/50000 [====================>.........] - ETA: 0s - loss: 0.1767 - acc: 0.9470"
       ]
      },
      {
       "output_type": "stream",
       "stream": "stdout",
       "text": [
        "\b\b\b\b\b\b\b\b\b\b\b\b\b\b\b\b\b\b\b\b\b\b\b\b\b\b\b\b\b\b\b\b\b\b\b\b\b\b\b\b\b\b\b\b\b\b\b\b\b\b\b\b\b\b\b\b\b\b\b\b\b\b\b\b\b\b\b\b\b\b\b\b\b\b\b\b\b\b\b\b\b\b\b\r",
        "36608/50000 [====================>.........] - ETA: 0s - loss: 0.1773 - acc: 0.9470"
       ]
      },
      {
       "output_type": "stream",
       "stream": "stdout",
       "text": [
        "\b\b\b\b\b\b\b\b\b\b\b\b\b\b\b\b\b\b\b\b\b\b\b\b\b\b\b\b\b\b\b\b\b\b\b\b\b\b\b\b\b\b\b\b\b\b\b\b\b\b\b\b\b\b\b\b\b\b\b\b\b\b\b\b\b\b\b\b\b\b\b\b\b\b\b\b\b\b\b\b\b\b\b\r",
        "37312/50000 [=====================>........] - ETA: 0s - loss: 0.1770 - acc: 0.9470"
       ]
      },
      {
       "output_type": "stream",
       "stream": "stdout",
       "text": [
        "\b\b\b\b\b\b\b\b\b\b\b\b\b\b\b\b\b\b\b\b\b\b\b\b\b\b\b\b\b\b\b\b\b\b\b\b\b\b\b\b\b\b\b\b\b\b\b\b\b\b\b\b\b\b\b\b\b\b\b\b\b\b\b\b\b\b\b\b\b\b\b\b\b\b\b\b\b\b\b\b\b\b\b\r",
        "38112/50000 [=====================>........] - ETA: 0s - loss: 0.1766 - acc: 0.9471"
       ]
      },
      {
       "output_type": "stream",
       "stream": "stdout",
       "text": [
        "\b\b\b\b\b\b\b\b\b\b\b\b\b\b\b\b\b\b\b\b\b\b\b\b\b\b\b\b\b\b\b\b\b\b\b\b\b\b\b\b\b\b\b\b\b\b\b\b\b\b\b\b\b\b\b\b\b\b\b\b\b\b\b\b\b\b\b\b\b\b\b\b\b\b\b\b\b\b\b\b\b\b\b\r",
        "38912/50000 [======================>.......] - ETA: 0s - loss: 0.1756 - acc: 0.9474"
       ]
      },
      {
       "output_type": "stream",
       "stream": "stdout",
       "text": [
        "\b\b\b\b\b\b\b\b\b\b\b\b\b\b\b\b\b\b\b\b\b\b\b\b\b\b\b\b\b\b\b\b\b\b\b\b\b\b\b\b\b\b\b\b\b\b\b\b\b\b\b\b\b\b\b\b\b\b\b\b\b\b\b\b\b\b\b\b\b\b\b\b\b\b\b\b\b\b\b\b\b\b\b\r",
        "39680/50000 [======================>.......] - ETA: 0s - loss: 0.1761 - acc: 0.9469"
       ]
      },
      {
       "output_type": "stream",
       "stream": "stdout",
       "text": [
        "\b\b\b\b\b\b\b\b\b\b\b\b\b\b\b\b\b\b\b\b\b\b\b\b\b\b\b\b\b\b\b\b\b\b\b\b\b\b\b\b\b\b\b\b\b\b\b\b\b\b\b\b\b\b\b\b\b\b\b\b\b\b\b\b\b\b\b\b\b\b\b\b\b\b\b\b\b\b\b\b\b\b\b\r",
        "40320/50000 [=======================>......] - ETA: 0s - loss: 0.1758 - acc: 0.9469"
       ]
      },
      {
       "output_type": "stream",
       "stream": "stdout",
       "text": [
        "\b\b\b\b\b\b\b\b\b\b\b\b\b\b\b\b\b\b\b\b\b\b\b\b\b\b\b\b\b\b\b\b\b\b\b\b\b\b\b\b\b\b\b\b\b\b\b\b\b\b\b\b\b\b\b\b\b\b\b\b\b\b\b\b\b\b\b\b\b\b\b\b\b\b\b\b\b\b\b\b\b\b\b\r",
        "41056/50000 [=======================>......] - ETA: 0s - loss: 0.1755 - acc: 0.9471"
       ]
      },
      {
       "output_type": "stream",
       "stream": "stdout",
       "text": [
        "\b\b\b\b\b\b\b\b\b\b\b\b\b\b\b\b\b\b\b\b\b\b\b\b\b\b\b\b\b\b\b\b\b\b\b\b\b\b\b\b\b\b\b\b\b\b\b\b\b\b\b\b\b\b\b\b\b\b\b\b\b\b\b\b\b\b\b\b\b\b\b\b\b\b\b\b\b\b\b\b\b\b\b\r",
        "41824/50000 [========================>.....] - ETA: 0s - loss: 0.1751 - acc: 0.9473"
       ]
      },
      {
       "output_type": "stream",
       "stream": "stdout",
       "text": [
        "\b\b\b\b\b\b\b\b\b\b\b\b\b\b\b\b\b\b\b\b\b\b\b\b\b\b\b\b\b\b\b\b\b\b\b\b\b\b\b\b\b\b\b\b\b\b\b\b\b\b\b\b\b\b\b\b\b\b\b\b\b\b\b\b\b\b\b\b\b\b\b\b\b\b\b\b\b\b\b\b\b\b\b\r",
        "42592/50000 [========================>.....] - ETA: 0s - loss: 0.1753 - acc: 0.9472"
       ]
      },
      {
       "output_type": "stream",
       "stream": "stdout",
       "text": [
        "\b\b\b\b\b\b\b\b\b\b\b\b\b\b\b\b\b\b\b\b\b\b\b\b\b\b\b\b\b\b\b\b\b\b\b\b\b\b\b\b\b\b\b\b\b\b\b\b\b\b\b\b\b\b\b\b\b\b\b\b\b\b\b\b\b\b\b\b\b\b\b\b\b\b\b\b\b\b\b\b\b\b\b\r",
        "43392/50000 [=========================>....] - ETA: 0s - loss: 0.1747 - acc: 0.9474"
       ]
      },
      {
       "output_type": "stream",
       "stream": "stdout",
       "text": [
        "\b\b\b\b\b\b\b\b\b\b\b\b\b\b\b\b\b\b\b\b\b\b\b\b\b\b\b\b\b\b\b\b\b\b\b\b\b\b\b\b\b\b\b\b\b\b\b\b\b\b\b\b\b\b\b\b\b\b\b\b\b\b\b\b\b\b\b\b\b\b\b\b\b\b\b\b\b\b\b\b\b\b\b\r",
        "44192/50000 [=========================>....] - ETA: 0s - loss: 0.1747 - acc: 0.9474"
       ]
      },
      {
       "output_type": "stream",
       "stream": "stdout",
       "text": [
        "\b\b\b\b\b\b\b\b\b\b\b\b\b\b\b\b\b\b\b\b\b\b\b\b\b\b\b\b\b\b\b\b\b\b\b\b\b\b\b\b\b\b\b\b\b\b\b\b\b\b\b\b\b\b\b\b\b\b\b\b\b\b\b\b\b\b\b\b\b\b\b\b\b\b\b\b\b\b\b\b\b\b\b\r",
        "44864/50000 [=========================>....] - ETA: 0s - loss: 0.1742 - acc: 0.9474"
       ]
      },
      {
       "output_type": "stream",
       "stream": "stdout",
       "text": [
        "\b\b\b\b\b\b\b\b\b\b\b\b\b\b\b\b\b\b\b\b\b\b\b\b\b\b\b\b\b\b\b\b\b\b\b\b\b\b\b\b\b\b\b\b\b\b\b\b\b\b\b\b\b\b\b\b\b\b\b\b\b\b\b\b\b\b\b\b\b\b\b\b\b\b\b\b\b\b\b\b\b\b\b\r",
        "45632/50000 [==========================>...] - ETA: 0s - loss: 0.1735 - acc: 0.9476"
       ]
      },
      {
       "output_type": "stream",
       "stream": "stdout",
       "text": [
        "\b\b\b\b\b\b\b\b\b\b\b\b\b\b\b\b\b\b\b\b\b\b\b\b\b\b\b\b\b\b\b\b\b\b\b\b\b\b\b\b\b\b\b\b\b\b\b\b\b\b\b\b\b\b\b\b\b\b\b\b\b\b\b\b\b\b\b\b\b\b\b\b\b\b\b\b\b\b\b\b\b\b\b\r",
        "46432/50000 [==========================>...] - ETA: 0s - loss: 0.1736 - acc: 0.9477"
       ]
      },
      {
       "output_type": "stream",
       "stream": "stdout",
       "text": [
        "\b\b\b\b\b\b\b\b\b\b\b\b\b\b\b\b\b\b\b\b\b\b\b\b\b\b\b\b\b\b\b\b\b\b\b\b\b\b\b\b\b\b\b\b\b\b\b\b\b\b\b\b\b\b\b\b\b\b\b\b\b\b\b\b\b\b\b\b\b\b\b\b\b\b\b\b\b\b\b\b\b\b\b\r",
        "47232/50000 [===========================>..] - ETA: 0s - loss: 0.1734 - acc: 0.9477"
       ]
      },
      {
       "output_type": "stream",
       "stream": "stdout",
       "text": [
        "\b\b\b\b\b\b\b\b\b\b\b\b\b\b\b\b\b\b\b\b\b\b\b\b\b\b\b\b\b\b\b\b\b\b\b\b\b\b\b\b\b\b\b\b\b\b\b\b\b\b\b\b\b\b\b\b\b\b\b\b\b\b\b\b\b\b\b\b\b\b\b\b\b\b\b\b\b\b\b\b\b\b\b\r",
        "48032/50000 [===========================>..] - ETA: 0s - loss: 0.1728 - acc: 0.9478"
       ]
      },
      {
       "output_type": "stream",
       "stream": "stdout",
       "text": [
        "\b\b\b\b\b\b\b\b\b\b\b\b\b\b\b\b\b\b\b\b\b\b\b\b\b\b\b\b\b\b\b\b\b\b\b\b\b\b\b\b\b\b\b\b\b\b\b\b\b\b\b\b\b\b\b\b\b\b\b\b\b\b\b\b\b\b\b\b\b\b\b\b\b\b\b\b\b\b\b\b\b\b\b\r",
        "48832/50000 [============================>.] - ETA: 0s - loss: 0.1736 - acc: 0.9477"
       ]
      },
      {
       "output_type": "stream",
       "stream": "stdout",
       "text": [
        "\b\b\b\b\b\b\b\b\b\b\b\b\b\b\b\b\b\b\b\b\b\b\b\b\b\b\b\b\b\b\b\b\b\b\b\b\b\b\b\b\b\b\b\b\b\b\b\b\b\b\b\b\b\b\b\b\b\b\b\b\b\b\b\b\b\b\b\b\b\b\b\b\b\b\b\b\b\b\b\b\b\b\b\r",
        "49536/50000 [============================>.] - ETA: 0s - loss: 0.1731 - acc: 0.9478"
       ]
      },
      {
       "output_type": "stream",
       "stream": "stdout",
       "text": [
        "\b\b\b\b\b\b\b\b\b\b\b\b\b\b\b\b\b\b\b\b\b\b\b\b\b\b\b\b\b\b\b\b\b\b\b\b\b\b\b\b\b\b\b\b\b\b\b\b\b\b\b\b\b\b\b\b\b\b\b\b\b\b\b\b\b\b\b\b\b\b\b\b\b\b\b\b\b\b\b\b\b\b\b\r",
        "50000/50000 [==============================] - 3s - loss: 0.1730 - acc: 0.9478     "
       ]
      },
      {
       "output_type": "stream",
       "stream": "stdout",
       "text": [
        "\n",
        "Epoch 4/5\n",
        "\r",
        "   32/50000 [..............................] - ETA: 4s - loss: 0.1531 - acc: 0.9688"
       ]
      },
      {
       "output_type": "stream",
       "stream": "stdout",
       "text": [
        "\b\b\b\b\b\b\b\b\b\b\b\b\b\b\b\b\b\b\b\b\b\b\b\b\b\b\b\b\b\b\b\b\b\b\b\b\b\b\b\b\b\b\b\b\b\b\b\b\b\b\b\b\b\b\b\b\b\b\b\b\b\b\b\b\b\b\b\b\b\b\b\b\b\b\b\b\b\b\b\b\b\b\b\r",
        "  704/50000 [..............................] - ETA: 3s - loss: 0.1828 - acc: 0.9446"
       ]
      },
      {
       "output_type": "stream",
       "stream": "stdout",
       "text": [
        "\b\b\b\b\b\b\b\b\b\b\b\b\b\b\b\b\b\b\b\b\b\b\b\b\b\b\b\b\b\b\b\b\b\b\b\b\b\b\b\b\b\b\b\b\b\b\b\b\b\b\b\b\b\b\b\b\b\b\b\b\b\b\b\b\b\b\b\b\b\b\b\b\b\b\b\b\b\b\b\b\b\b\b\r",
        " 1504/50000 [..............................] - ETA: 3s - loss: 0.1791 - acc: 0.9481"
       ]
      },
      {
       "output_type": "stream",
       "stream": "stdout",
       "text": [
        "\b\b\b\b\b\b\b\b\b\b\b\b\b\b\b\b\b\b\b\b\b\b\b\b\b\b\b\b\b\b\b\b\b\b\b\b\b\b\b\b\b\b\b\b\b\b\b\b\b\b\b\b\b\b\b\b\b\b\b\b\b\b\b\b\b\b\b\b\b\b\b\b\b\b\b\b\b\b\b\b\b\b\b\r",
        " 2272/50000 [>.............................] - ETA: 3s - loss: 0.1718 - acc: 0.9520"
       ]
      },
      {
       "output_type": "stream",
       "stream": "stdout",
       "text": [
        "\b\b\b\b\b\b\b\b\b\b\b\b\b\b\b\b\b\b\b\b\b\b\b\b\b\b\b\b\b\b\b\b\b\b\b\b\b\b\b\b\b\b\b\b\b\b\b\b\b\b\b\b\b\b\b\b\b\b\b\b\b\b\b\b\b\b\b\b\b\b\b\b\b\b\b\b\b\b\b\b\b\b\b\r",
        " 3072/50000 [>.............................] - ETA: 3s - loss: 0.1654 - acc: 0.9518"
       ]
      },
      {
       "output_type": "stream",
       "stream": "stdout",
       "text": [
        "\b\b\b\b\b\b\b\b\b\b\b\b\b\b\b\b\b\b\b\b\b\b\b\b\b\b\b\b\b\b\b\b\b\b\b\b\b\b\b\b\b\b\b\b\b\b\b\b\b\b\b\b\b\b\b\b\b\b\b\b\b\b\b\b\b\b\b\b\b\b\b\b\b\b\b\b\b\b\b\b\b\b\b\r",
        " 3872/50000 [=>............................] - ETA: 3s - loss: 0.1613 - acc: 0.9512"
       ]
      },
      {
       "output_type": "stream",
       "stream": "stdout",
       "text": [
        "\b\b\b\b\b\b\b\b\b\b\b\b\b\b\b\b\b\b\b\b\b\b\b\b\b\b\b\b\b\b\b\b\b\b\b\b\b\b\b\b\b\b\b\b\b\b\b\b\b\b\b\b\b\b\b\b\b\b\b\b\b\b\b\b\b\b\b\b\b\b\b\b\b\b\b\b\b\b\b\b\b\b\b\r",
        " 4608/50000 [=>............................] - ETA: 3s - loss: 0.1581 - acc: 0.9512"
       ]
      },
      {
       "output_type": "stream",
       "stream": "stdout",
       "text": [
        "\b\b\b\b\b\b\b\b\b\b\b\b\b\b\b\b\b\b\b\b\b\b\b\b\b\b\b\b\b\b\b\b\b\b\b\b\b\b\b\b\b\b\b\b\b\b\b\b\b\b\b\b\b\b\b\b\b\b\b\b\b\b\b\b\b\b\b\b\b\b\b\b\b\b\b\b\b\b\b\b\b\b\b\r",
        " 5184/50000 [==>...........................] - ETA: 3s - loss: 0.1581 - acc: 0.9518"
       ]
      },
      {
       "output_type": "stream",
       "stream": "stdout",
       "text": [
        "\b\b\b\b\b\b\b\b\b\b\b\b\b\b\b\b\b\b\b\b\b\b\b\b\b\b\b\b\b\b\b\b\b\b\b\b\b\b\b\b\b\b\b\b\b\b\b\b\b\b\b\b\b\b\b\b\b\b\b\b\b\b\b\b\b\b\b\b\b\b\b\b\b\b\b\b\b\b\b\b\b\b\b\r",
        " 5952/50000 [==>...........................] - ETA: 3s - loss: 0.1569 - acc: 0.9519"
       ]
      },
      {
       "output_type": "stream",
       "stream": "stdout",
       "text": [
        "\b\b\b\b\b\b\b\b\b\b\b\b\b\b\b\b\b\b\b\b\b\b\b\b\b\b\b\b\b\b\b\b\b\b\b\b\b\b\b\b\b\b\b\b\b\b\b\b\b\b\b\b\b\b\b\b\b\b\b\b\b\b\b\b\b\b\b\b\b\b\b\b\b\b\b\b\b\b\b\b\b\b\b\r",
        " 6752/50000 [===>..........................] - ETA: 2s - loss: 0.1574 - acc: 0.9522"
       ]
      },
      {
       "output_type": "stream",
       "stream": "stdout",
       "text": [
        "\b\b\b\b\b\b\b\b\b\b\b\b\b\b\b\b\b\b\b\b\b\b\b\b\b\b\b\b\b\b\b\b\b\b\b\b\b\b\b\b\b\b\b\b\b\b\b\b\b\b\b\b\b\b\b\b\b\b\b\b\b\b\b\b\b\b\b\b\b\b\b\b\b\b\b\b\b\b\b\b\b\b\b\r",
        " 7520/50000 [===>..........................] - ETA: 2s - loss: 0.1566 - acc: 0.9529"
       ]
      },
      {
       "output_type": "stream",
       "stream": "stdout",
       "text": [
        "\b\b\b\b\b\b\b\b\b\b\b\b\b\b\b\b\b\b\b\b\b\b\b\b\b\b\b\b\b\b\b\b\b\b\b\b\b\b\b\b\b\b\b\b\b\b\b\b\b\b\b\b\b\b\b\b\b\b\b\b\b\b\b\b\b\b\b\b\b\b\b\b\b\b\b\b\b\b\b\b\b\b\b\r",
        " 8288/50000 [===>..........................] - ETA: 2s - loss: 0.1548 - acc: 0.9533"
       ]
      },
      {
       "output_type": "stream",
       "stream": "stdout",
       "text": [
        "\b\b\b\b\b\b\b\b\b\b\b\b\b\b\b\b\b\b\b\b\b\b\b\b\b\b\b\b\b\b\b\b\b\b\b\b\b\b\b\b\b\b\b\b\b\b\b\b\b\b\b\b\b\b\b\b\b\b\b\b\b\b\b\b\b\b\b\b\b\b\b\b\b\b\b\b\b\b\b\b\b\b\b\r",
        " 9024/50000 [====>.........................] - ETA: 2s - loss: 0.1555 - acc: 0.9535"
       ]
      },
      {
       "output_type": "stream",
       "stream": "stdout",
       "text": [
        "\b\b\b\b\b\b\b\b\b\b\b\b\b\b\b\b\b\b\b\b\b\b\b\b\b\b\b\b\b\b\b\b\b\b\b\b\b\b\b\b\b\b\b\b\b\b\b\b\b\b\b\b\b\b\b\b\b\b\b\b\b\b\b\b\b\b\b\b\b\b\b\b\b\b\b\b\b\b\b\b\b\b\b\r",
        " 9792/50000 [====>.........................] - ETA: 2s - loss: 0.1546 - acc: 0.9538"
       ]
      },
      {
       "output_type": "stream",
       "stream": "stdout",
       "text": [
        "\b\b\b\b\b\b\b\b\b\b\b\b\b\b\b\b\b\b\b\b\b\b\b\b\b\b\b\b\b\b\b\b\b\b\b\b\b\b\b\b\b\b\b\b\b\b\b\b\b\b\b\b\b\b\b\b\b\b\b\b\b\b\b\b\b\b\b\b\b\b\b\b\b\b\b\b\b\b\b\b\b\b\b\r",
        "10528/50000 [=====>........................] - ETA: 2s - loss: 0.1560 - acc: 0.9532"
       ]
      },
      {
       "output_type": "stream",
       "stream": "stdout",
       "text": [
        "\b\b\b\b\b\b\b\b\b\b\b\b\b\b\b\b\b\b\b\b\b\b\b\b\b\b\b\b\b\b\b\b\b\b\b\b\b\b\b\b\b\b\b\b\b\b\b\b\b\b\b\b\b\b\b\b\b\b\b\b\b\b\b\b\b\b\b\b\b\b\b\b\b\b\b\b\b\b\b\b\b\b\b\r",
        "11296/50000 [=====>........................] - ETA: 2s - loss: 0.1527 - acc: 0.9545"
       ]
      },
      {
       "output_type": "stream",
       "stream": "stdout",
       "text": [
        "\b\b\b\b\b\b\b\b\b\b\b\b\b\b\b\b\b\b\b\b\b\b\b\b\b\b\b\b\b\b\b\b\b\b\b\b\b\b\b\b\b\b\b\b\b\b\b\b\b\b\b\b\b\b\b\b\b\b\b\b\b\b\b\b\b\b\b\b\b\b\b\b\b\b\b\b\b\b\b\b\b\b\b\r",
        "12032/50000 [======>.......................] - ETA: 2s - loss: 0.1525 - acc: 0.9546"
       ]
      },
      {
       "output_type": "stream",
       "stream": "stdout",
       "text": [
        "\b\b\b\b\b\b\b\b\b\b\b\b\b\b\b\b\b\b\b\b\b\b\b\b\b\b\b\b\b\b\b\b\b\b\b\b\b\b\b\b\b\b\b\b\b\b\b\b\b\b\b\b\b\b\b\b\b\b\b\b\b\b\b\b\b\b\b\b\b\b\b\b\b\b\b\b\b\b\b\b\b\b\b\r",
        "12832/50000 [======>.......................] - ETA: 2s - loss: 0.1512 - acc: 0.9548"
       ]
      },
      {
       "output_type": "stream",
       "stream": "stdout",
       "text": [
        "\b\b\b\b\b\b\b\b\b\b\b\b\b\b\b\b\b\b\b\b\b\b\b\b\b\b\b\b\b\b\b\b\b\b\b\b\b\b\b\b\b\b\b\b\b\b\b\b\b\b\b\b\b\b\b\b\b\b\b\b\b\b\b\b\b\b\b\b\b\b\b\b\b\b\b\b\b\b\b\b\b\b\b\r",
        "13632/50000 [=======>......................] - ETA: 2s - loss: 0.1512 - acc: 0.9541"
       ]
      },
      {
       "output_type": "stream",
       "stream": "stdout",
       "text": [
        "\b\b\b\b\b\b\b\b\b\b\b\b\b\b\b\b\b\b\b\b\b\b\b\b\b\b\b\b\b\b\b\b\b\b\b\b\b\b\b\b\b\b\b\b\b\b\b\b\b\b\b\b\b\b\b\b\b\b\b\b\b\b\b\b\b\b\b\b\b\b\b\b\b\b\b\b\b\b\b\b\b\b\b\r",
        "14368/50000 [=======>......................] - ETA: 2s - loss: 0.1531 - acc: 0.9537"
       ]
      },
      {
       "output_type": "stream",
       "stream": "stdout",
       "text": [
        "\b\b\b\b\b\b\b\b\b\b\b\b\b\b\b\b\b\b\b\b\b\b\b\b\b\b\b\b\b\b\b\b\b\b\b\b\b\b\b\b\b\b\b\b\b\b\b\b\b\b\b\b\b\b\b\b\b\b\b\b\b\b\b\b\b\b\b\b\b\b\b\b\b\b\b\b\b\b\b\b\b\b\b\r",
        "15136/50000 [========>.....................] - ETA: 2s - loss: 0.1545 - acc: 0.9538"
       ]
      },
      {
       "output_type": "stream",
       "stream": "stdout",
       "text": [
        "\b\b\b\b\b\b\b\b\b\b\b\b\b\b\b\b\b\b\b\b\b\b\b\b\b\b\b\b\b\b\b\b\b\b\b\b\b\b\b\b\b\b\b\b\b\b\b\b\b\b\b\b\b\b\b\b\b\b\b\b\b\b\b\b\b\b\b\b\b\b\b\b\b\b\b\b\b\b\b\b\b\b\b\r",
        "15648/50000 [========>.....................] - ETA: 2s - loss: 0.1542 - acc: 0.9537"
       ]
      },
      {
       "output_type": "stream",
       "stream": "stdout",
       "text": [
        "\b\b\b\b\b\b\b\b\b\b\b\b\b\b\b\b\b\b\b\b\b\b\b\b\b\b\b\b\b\b\b\b\b\b\b\b\b\b\b\b\b\b\b\b\b\b\b\b\b\b\b\b\b\b\b\b\b\b\b\b\b\b\b\b\b\b\b\b\b\b\b\b\b\b\b\b\b\b\b\b\b\b\b\r",
        "16448/50000 [========>.....................] - ETA: 2s - loss: 0.1531 - acc: 0.9537"
       ]
      },
      {
       "output_type": "stream",
       "stream": "stdout",
       "text": [
        "\b\b\b\b\b\b\b\b\b\b\b\b\b\b\b\b\b\b\b\b\b\b\b\b\b\b\b\b\b\b\b\b\b\b\b\b\b\b\b\b\b\b\b\b\b\b\b\b\b\b\b\b\b\b\b\b\b\b\b\b\b\b\b\b\b\b\b\b\b\b\b\b\b\b\b\b\b\b\b\b\b\b\b\r",
        "17216/50000 [=========>....................] - ETA: 2s - loss: 0.1531 - acc: 0.9534"
       ]
      },
      {
       "output_type": "stream",
       "stream": "stdout",
       "text": [
        "\b\b\b\b\b\b\b\b\b\b\b\b\b\b\b\b\b\b\b\b\b\b\b\b\b\b\b\b\b\b\b\b\b\b\b\b\b\b\b\b\b\b\b\b\b\b\b\b\b\b\b\b\b\b\b\b\b\b\b\b\b\b\b\b\b\b\b\b\b\b\b\b\b\b\b\b\b\b\b\b\b\b\b\r",
        "18016/50000 [=========>....................] - ETA: 2s - loss: 0.1530 - acc: 0.9533"
       ]
      },
      {
       "output_type": "stream",
       "stream": "stdout",
       "text": [
        "\b\b\b\b\b\b\b\b\b\b\b\b\b\b\b\b\b\b\b\b\b\b\b\b\b\b\b\b\b\b\b\b\b\b\b\b\b\b\b\b\b\b\b\b\b\b\b\b\b\b\b\b\b\b\b\b\b\b\b\b\b\b\b\b\b\b\b\b\b\b\b\b\b\b\b\b\b\b\b\b\b\b\b\r",
        "18816/50000 [==========>...................] - ETA: 2s - loss: 0.1543 - acc: 0.9530"
       ]
      },
      {
       "output_type": "stream",
       "stream": "stdout",
       "text": [
        "\b\b\b\b\b\b\b\b\b\b\b\b\b\b\b\b\b\b\b\b\b\b\b\b\b\b\b\b\b\b\b\b\b\b\b\b\b\b\b\b\b\b\b\b\b\b\b\b\b\b\b\b\b\b\b\b\b\b\b\b\b\b\b\b\b\b\b\b\b\b\b\b\b\b\b\b\b\b\b\b\b\b\b\r",
        "19552/50000 [==========>...................] - ETA: 2s - loss: 0.1546 - acc: 0.9527"
       ]
      },
      {
       "output_type": "stream",
       "stream": "stdout",
       "text": [
        "\b\b\b\b\b\b\b\b\b\b\b\b\b\b\b\b\b\b\b\b\b\b\b\b\b\b\b\b\b\b\b\b\b\b\b\b\b\b\b\b\b\b\b\b\b\b\b\b\b\b\b\b\b\b\b\b\b\b\b\b\b\b\b\b\b\b\b\b\b\b\b\b\b\b\b\b\b\b\b\b\b\b\b\r",
        "20288/50000 [===========>..................] - ETA: 2s - loss: 0.1550 - acc: 0.9526"
       ]
      },
      {
       "output_type": "stream",
       "stream": "stdout",
       "text": [
        "\b\b\b\b\b\b\b\b\b\b\b\b\b\b\b\b\b\b\b\b\b\b\b\b\b\b\b\b\b\b\b\b\b\b\b\b\b\b\b\b\b\b\b\b\b\b\b\b\b\b\b\b\b\b\b\b\b\b\b\b\b\b\b\b\b\b\b\b\b\b\b\b\b\b\b\b\b\b\b\b\b\b\b\r",
        "21088/50000 [===========>..................] - ETA: 1s - loss: 0.1550 - acc: 0.9525"
       ]
      },
      {
       "output_type": "stream",
       "stream": "stdout",
       "text": [
        "\b\b\b\b\b\b\b\b\b\b\b\b\b\b\b\b\b\b\b\b\b\b\b\b\b\b\b\b\b\b\b\b\b\b\b\b\b\b\b\b\b\b\b\b\b\b\b\b\b\b\b\b\b\b\b\b\b\b\b\b\b\b\b\b\b\b\b\b\b\b\b\b\b\b\b\b\b\b\b\b\b\b\b\r",
        "21856/50000 [============>.................] - ETA: 1s - loss: 0.1544 - acc: 0.9526"
       ]
      },
      {
       "output_type": "stream",
       "stream": "stdout",
       "text": [
        "\b\b\b\b\b\b\b\b\b\b\b\b\b\b\b\b\b\b\b\b\b\b\b\b\b\b\b\b\b\b\b\b\b\b\b\b\b\b\b\b\b\b\b\b\b\b\b\b\b\b\b\b\b\b\b\b\b\b\b\b\b\b\b\b\b\b\b\b\b\b\b\b\b\b\b\b\b\b\b\b\b\b\b\r",
        "22592/50000 [============>.................] - ETA: 1s - loss: 0.1535 - acc: 0.9527"
       ]
      },
      {
       "output_type": "stream",
       "stream": "stdout",
       "text": [
        "\b\b\b\b\b\b\b\b\b\b\b\b\b\b\b\b\b\b\b\b\b\b\b\b\b\b\b\b\b\b\b\b\b\b\b\b\b\b\b\b\b\b\b\b\b\b\b\b\b\b\b\b\b\b\b\b\b\b\b\b\b\b\b\b\b\b\b\b\b\b\b\b\b\b\b\b\b\b\b\b\b\b\b\r",
        "23328/50000 [============>.................] - ETA: 1s - loss: 0.1539 - acc: 0.9530"
       ]
      },
      {
       "output_type": "stream",
       "stream": "stdout",
       "text": [
        "\b\b\b\b\b\b\b\b\b\b\b\b\b\b\b\b\b\b\b\b\b\b\b\b\b\b\b\b\b\b\b\b\b\b\b\b\b\b\b\b\b\b\b\b\b\b\b\b\b\b\b\b\b\b\b\b\b\b\b\b\b\b\b\b\b\b\b\b\b\b\b\b\b\b\b\b\b\b\b\b\b\b\b\r",
        "24096/50000 [=============>................] - ETA: 1s - loss: 0.1531 - acc: 0.9533"
       ]
      },
      {
       "output_type": "stream",
       "stream": "stdout",
       "text": [
        "\b\b\b\b\b\b\b\b\b\b\b\b\b\b\b\b\b\b\b\b\b\b\b\b\b\b\b\b\b\b\b\b\b\b\b\b\b\b\b\b\b\b\b\b\b\b\b\b\b\b\b\b\b\b\b\b\b\b\b\b\b\b\b\b\b\b\b\b\b\b\b\b\b\b\b\b\b\b\b\b\b\b\b\r",
        "24800/50000 [=============>................] - ETA: 1s - loss: 0.1530 - acc: 0.9535"
       ]
      },
      {
       "output_type": "stream",
       "stream": "stdout",
       "text": [
        "\b\b\b\b\b\b\b\b\b\b\b\b\b\b\b\b\b\b\b\b\b\b\b\b\b\b\b\b\b\b\b\b\b\b\b\b\b\b\b\b\b\b\b\b\b\b\b\b\b\b\b\b\b\b\b\b\b\b\b\b\b\b\b\b\b\b\b\b\b\b\b\b\b\b\b\b\b\b\b\b\b\b\b\r",
        "25600/50000 [==============>...............] - ETA: 1s - loss: 0.1533 - acc: 0.9534"
       ]
      },
      {
       "output_type": "stream",
       "stream": "stdout",
       "text": [
        "\b\b\b\b\b\b\b\b\b\b\b\b\b\b\b\b\b\b\b\b\b\b\b\b\b\b\b\b\b\b\b\b\b\b\b\b\b\b\b\b\b\b\b\b\b\b\b\b\b\b\b\b\b\b\b\b\b\b\b\b\b\b\b\b\b\b\b\b\b\b\b\b\b\b\b\b\b\b\b\b\b\b\b\r",
        "26176/50000 [==============>...............] - ETA: 1s - loss: 0.1527 - acc: 0.9539"
       ]
      },
      {
       "output_type": "stream",
       "stream": "stdout",
       "text": [
        "\b\b\b\b\b\b\b\b\b\b\b\b\b\b\b\b\b\b\b\b\b\b\b\b\b\b\b\b\b\b\b\b\b\b\b\b\b\b\b\b\b\b\b\b\b\b\b\b\b\b\b\b\b\b\b\b\b\b\b\b\b\b\b\b\b\b\b\b\b\b\b\b\b\b\b\b\b\b\b\b\b\b\b\r",
        "26912/50000 [===============>..............] - ETA: 1s - loss: 0.1535 - acc: 0.9540"
       ]
      },
      {
       "output_type": "stream",
       "stream": "stdout",
       "text": [
        "\b\b\b\b\b\b\b\b\b\b\b\b\b\b\b\b\b\b\b\b\b\b\b\b\b\b\b\b\b\b\b\b\b\b\b\b\b\b\b\b\b\b\b\b\b\b\b\b\b\b\b\b\b\b\b\b\b\b\b\b\b\b\b\b\b\b\b\b\b\b\b\b\b\b\b\b\b\b\b\b\b\b\b\r",
        "27680/50000 [===============>..............] - ETA: 1s - loss: 0.1540 - acc: 0.9537"
       ]
      },
      {
       "output_type": "stream",
       "stream": "stdout",
       "text": [
        "\b\b\b\b\b\b\b\b\b\b\b\b\b\b\b\b\b\b\b\b\b\b\b\b\b\b\b\b\b\b\b\b\b\b\b\b\b\b\b\b\b\b\b\b\b\b\b\b\b\b\b\b\b\b\b\b\b\b\b\b\b\b\b\b\b\b\b\b\b\b\b\b\b\b\b\b\b\b\b\b\b\b\b\r",
        "28480/50000 [================>.............] - ETA: 1s - loss: 0.1536 - acc: 0.9538"
       ]
      },
      {
       "output_type": "stream",
       "stream": "stdout",
       "text": [
        "\b\b\b\b\b\b\b\b\b\b\b\b\b\b\b\b\b\b\b\b\b\b\b\b\b\b\b\b\b\b\b\b\b\b\b\b\b\b\b\b\b\b\b\b\b\b\b\b\b\b\b\b\b\b\b\b\b\b\b\b\b\b\b\b\b\b\b\b\b\b\b\b\b\b\b\b\b\b\b\b\b\b\b\r",
        "29280/50000 [================>.............] - ETA: 1s - loss: 0.1532 - acc: 0.9540"
       ]
      },
      {
       "output_type": "stream",
       "stream": "stdout",
       "text": [
        "\b\b\b\b\b\b\b\b\b\b\b\b\b\b\b\b\b\b\b\b\b\b\b\b\b\b\b\b\b\b\b\b\b\b\b\b\b\b\b\b\b\b\b\b\b\b\b\b\b\b\b\b\b\b\b\b\b\b\b\b\b\b\b\b\b\b\b\b\b\b\b\b\b\b\b\b\b\b\b\b\b\b\b\r",
        "29952/50000 [================>.............] - ETA: 1s - loss: 0.1530 - acc: 0.9541"
       ]
      },
      {
       "output_type": "stream",
       "stream": "stdout",
       "text": [
        "\b\b\b\b\b\b\b\b\b\b\b\b\b\b\b\b\b\b\b\b\b\b\b\b\b\b\b\b\b\b\b\b\b\b\b\b\b\b\b\b\b\b\b\b\b\b\b\b\b\b\b\b\b\b\b\b\b\b\b\b\b\b\b\b\b\b\b\b\b\b\b\b\b\b\b\b\b\b\b\b\b\b\b\r",
        "30752/50000 [=================>............] - ETA: 1s - loss: 0.1524 - acc: 0.9543"
       ]
      },
      {
       "output_type": "stream",
       "stream": "stdout",
       "text": [
        "\b\b\b\b\b\b\b\b\b\b\b\b\b\b\b\b\b\b\b\b\b\b\b\b\b\b\b\b\b\b\b\b\b\b\b\b\b\b\b\b\b\b\b\b\b\b\b\b\b\b\b\b\b\b\b\b\b\b\b\b\b\b\b\b\b\b\b\b\b\b\b\b\b\b\b\b\b\b\b\b\b\b\b\r",
        "31552/50000 [=================>............] - ETA: 1s - loss: 0.1531 - acc: 0.9542"
       ]
      },
      {
       "output_type": "stream",
       "stream": "stdout",
       "text": [
        "\b\b\b\b\b\b\b\b\b\b\b\b\b\b\b\b\b\b\b\b\b\b\b\b\b\b\b\b\b\b\b\b\b\b\b\b\b\b\b\b\b\b\b\b\b\b\b\b\b\b\b\b\b\b\b\b\b\b\b\b\b\b\b\b\b\b\b\b\b\b\b\b\b\b\b\b\b\b\b\b\b\b\b\r",
        "32352/50000 [==================>...........] - ETA: 1s - loss: 0.1525 - acc: 0.9544"
       ]
      },
      {
       "output_type": "stream",
       "stream": "stdout",
       "text": [
        "\b\b\b\b\b\b\b\b\b\b\b\b\b\b\b\b\b\b\b\b\b\b\b\b\b\b\b\b\b\b\b\b\b\b\b\b\b\b\b\b\b\b\b\b\b\b\b\b\b\b\b\b\b\b\b\b\b\b\b\b\b\b\b\b\b\b\b\b\b\b\b\b\b\b\b\b\b\b\b\b\b\b\b\r",
        "33056/50000 [==================>...........] - ETA: 1s - loss: 0.1525 - acc: 0.9544"
       ]
      },
      {
       "output_type": "stream",
       "stream": "stdout",
       "text": [
        "\b\b\b\b\b\b\b\b\b\b\b\b\b\b\b\b\b\b\b\b\b\b\b\b\b\b\b\b\b\b\b\b\b\b\b\b\b\b\b\b\b\b\b\b\b\b\b\b\b\b\b\b\b\b\b\b\b\b\b\b\b\b\b\b\b\b\b\b\b\b\b\b\b\b\b\b\b\b\b\b\b\b\b\r",
        "33856/50000 [===================>..........] - ETA: 1s - loss: 0.1514 - acc: 0.9547"
       ]
      },
      {
       "output_type": "stream",
       "stream": "stdout",
       "text": [
        "\b\b\b\b\b\b\b\b\b\b\b\b\b\b\b\b\b\b\b\b\b\b\b\b\b\b\b\b\b\b\b\b\b\b\b\b\b\b\b\b\b\b\b\b\b\b\b\b\b\b\b\b\b\b\b\b\b\b\b\b\b\b\b\b\b\b\b\b\b\b\b\b\b\b\b\b\b\b\b\b\b\b\b\r",
        "34528/50000 [===================>..........] - ETA: 1s - loss: 0.1509 - acc: 0.9548"
       ]
      },
      {
       "output_type": "stream",
       "stream": "stdout",
       "text": [
        "\b\b\b\b\b\b\b\b\b\b\b\b\b\b\b\b\b\b\b\b\b\b\b\b\b\b\b\b\b\b\b\b\b\b\b\b\b\b\b\b\b\b\b\b\b\b\b\b\b\b\b\b\b\b\b\b\b\b\b\b\b\b\b\b\b\b\b\b\b\b\b\b\b\b\b\b\b\b\b\b\b\b\b\r",
        "35328/50000 [====================>.........] - ETA: 0s - loss: 0.1513 - acc: 0.9549"
       ]
      },
      {
       "output_type": "stream",
       "stream": "stdout",
       "text": [
        "\b\b\b\b\b\b\b\b\b\b\b\b\b\b\b\b\b\b\b\b\b\b\b\b\b\b\b\b\b\b\b\b\b\b\b\b\b\b\b\b\b\b\b\b\b\b\b\b\b\b\b\b\b\b\b\b\b\b\b\b\b\b\b\b\b\b\b\b\b\b\b\b\b\b\b\b\b\b\b\b\b\b\b\r",
        "36096/50000 [====================>.........] - ETA: 0s - loss: 0.1516 - acc: 0.9548"
       ]
      },
      {
       "output_type": "stream",
       "stream": "stdout",
       "text": [
        "\b\b\b\b\b\b\b\b\b\b\b\b\b\b\b\b\b\b\b\b\b\b\b\b\b\b\b\b\b\b\b\b\b\b\b\b\b\b\b\b\b\b\b\b\b\b\b\b\b\b\b\b\b\b\b\b\b\b\b\b\b\b\b\b\b\b\b\b\b\b\b\b\b\b\b\b\b\b\b\b\b\b\b\r",
        "36768/50000 [=====================>........] - ETA: 0s - loss: 0.1517 - acc: 0.9547"
       ]
      },
      {
       "output_type": "stream",
       "stream": "stdout",
       "text": [
        "\b\b\b\b\b\b\b\b\b\b\b\b\b\b\b\b\b\b\b\b\b\b\b\b\b\b\b\b\b\b\b\b\b\b\b\b\b\b\b\b\b\b\b\b\b\b\b\b\b\b\b\b\b\b\b\b\b\b\b\b\b\b\b\b\b\b\b\b\b\b\b\b\b\b\b\b\b\b\b\b\b\b\b\r",
        "37472/50000 [=====================>........] - ETA: 0s - loss: 0.1511 - acc: 0.9549"
       ]
      },
      {
       "output_type": "stream",
       "stream": "stdout",
       "text": [
        "\b\b\b\b\b\b\b\b\b\b\b\b\b\b\b\b\b\b\b\b\b\b\b\b\b\b\b\b\b\b\b\b\b\b\b\b\b\b\b\b\b\b\b\b\b\b\b\b\b\b\b\b\b\b\b\b\b\b\b\b\b\b\b\b\b\b\b\b\b\b\b\b\b\b\b\b\b\b\b\b\b\b\b\r",
        "38240/50000 [=====================>........] - ETA: 0s - loss: 0.1516 - acc: 0.9548"
       ]
      },
      {
       "output_type": "stream",
       "stream": "stdout",
       "text": [
        "\b\b\b\b\b\b\b\b\b\b\b\b\b\b\b\b\b\b\b\b\b\b\b\b\b\b\b\b\b\b\b\b\b\b\b\b\b\b\b\b\b\b\b\b\b\b\b\b\b\b\b\b\b\b\b\b\b\b\b\b\b\b\b\b\b\b\b\b\b\b\b\b\b\b\b\b\b\b\b\b\b\b\b\r",
        "38944/50000 [======================>.......] - ETA: 0s - loss: 0.1521 - acc: 0.9546"
       ]
      },
      {
       "output_type": "stream",
       "stream": "stdout",
       "text": [
        "\b\b\b\b\b\b\b\b\b\b\b\b\b\b\b\b\b\b\b\b\b\b\b\b\b\b\b\b\b\b\b\b\b\b\b\b\b\b\b\b\b\b\b\b\b\b\b\b\b\b\b\b\b\b\b\b\b\b\b\b\b\b\b\b\b\b\b\b\b\b\b\b\b\b\b\b\b\b\b\b\b\b\b\r",
        "39744/50000 [======================>.......] - ETA: 0s - loss: 0.1518 - acc: 0.9545"
       ]
      },
      {
       "output_type": "stream",
       "stream": "stdout",
       "text": [
        "\b\b\b\b\b\b\b\b\b\b\b\b\b\b\b\b\b\b\b\b\b\b\b\b\b\b\b\b\b\b\b\b\b\b\b\b\b\b\b\b\b\b\b\b\b\b\b\b\b\b\b\b\b\b\b\b\b\b\b\b\b\b\b\b\b\b\b\b\b\b\b\b\b\b\b\b\b\b\b\b\b\b\b\r",
        "40544/50000 [=======================>......] - ETA: 0s - loss: 0.1516 - acc: 0.9546"
       ]
      },
      {
       "output_type": "stream",
       "stream": "stdout",
       "text": [
        "\b\b\b\b\b\b\b\b\b\b\b\b\b\b\b\b\b\b\b\b\b\b\b\b\b\b\b\b\b\b\b\b\b\b\b\b\b\b\b\b\b\b\b\b\b\b\b\b\b\b\b\b\b\b\b\b\b\b\b\b\b\b\b\b\b\b\b\b\b\b\b\b\b\b\b\b\b\b\b\b\b\b\b\r",
        "41312/50000 [=======================>......] - ETA: 0s - loss: 0.1522 - acc: 0.9547"
       ]
      },
      {
       "output_type": "stream",
       "stream": "stdout",
       "text": [
        "\b\b\b\b\b\b\b\b\b\b\b\b\b\b\b\b\b\b\b\b\b\b\b\b\b\b\b\b\b\b\b\b\b\b\b\b\b\b\b\b\b\b\b\b\b\b\b\b\b\b\b\b\b\b\b\b\b\b\b\b\b\b\b\b\b\b\b\b\b\b\b\b\b\b\b\b\b\b\b\b\b\b\b\r",
        "42016/50000 [========================>.....] - ETA: 0s - loss: 0.1526 - acc: 0.9546"
       ]
      },
      {
       "output_type": "stream",
       "stream": "stdout",
       "text": [
        "\b\b\b\b\b\b\b\b\b\b\b\b\b\b\b\b\b\b\b\b\b\b\b\b\b\b\b\b\b\b\b\b\b\b\b\b\b\b\b\b\b\b\b\b\b\b\b\b\b\b\b\b\b\b\b\b\b\b\b\b\b\b\b\b\b\b\b\b\b\b\b\b\b\b\b\b\b\b\b\b\b\b\b\r",
        "42784/50000 [========================>.....] - ETA: 0s - loss: 0.1523 - acc: 0.9547"
       ]
      },
      {
       "output_type": "stream",
       "stream": "stdout",
       "text": [
        "\b\b\b\b\b\b\b\b\b\b\b\b\b\b\b\b\b\b\b\b\b\b\b\b\b\b\b\b\b\b\b\b\b\b\b\b\b\b\b\b\b\b\b\b\b\b\b\b\b\b\b\b\b\b\b\b\b\b\b\b\b\b\b\b\b\b\b\b\b\b\b\b\b\b\b\b\b\b\b\b\b\b\b\r",
        "43488/50000 [=========================>....] - ETA: 0s - loss: 0.1528 - acc: 0.9545"
       ]
      },
      {
       "output_type": "stream",
       "stream": "stdout",
       "text": [
        "\b\b\b\b\b\b\b\b\b\b\b\b\b\b\b\b\b\b\b\b\b\b\b\b\b\b\b\b\b\b\b\b\b\b\b\b\b\b\b\b\b\b\b\b\b\b\b\b\b\b\b\b\b\b\b\b\b\b\b\b\b\b\b\b\b\b\b\b\b\b\b\b\b\b\b\b\b\b\b\b\b\b\b\r",
        "44256/50000 [=========================>....] - ETA: 0s - loss: 0.1529 - acc: 0.9544"
       ]
      },
      {
       "output_type": "stream",
       "stream": "stdout",
       "text": [
        "\b\b\b\b\b\b\b\b\b\b\b\b\b\b\b\b\b\b\b\b\b\b\b\b\b\b\b\b\b\b\b\b\b\b\b\b\b\b\b\b\b\b\b\b\b\b\b\b\b\b\b\b\b\b\b\b\b\b\b\b\b\b\b\b\b\b\b\b\b\b\b\b\b\b\b\b\b\b\b\b\b\b\b\r",
        "44928/50000 [=========================>....] - ETA: 0s - loss: 0.1524 - acc: 0.9545"
       ]
      },
      {
       "output_type": "stream",
       "stream": "stdout",
       "text": [
        "\b\b\b\b\b\b\b\b\b\b\b\b\b\b\b\b\b\b\b\b\b\b\b\b\b\b\b\b\b\b\b\b\b\b\b\b\b\b\b\b\b\b\b\b\b\b\b\b\b\b\b\b\b\b\b\b\b\b\b\b\b\b\b\b\b\b\b\b\b\b\b\b\b\b\b\b\b\b\b\b\b\b\b\r",
        "45696/50000 [==========================>...] - ETA: 0s - loss: 0.1533 - acc: 0.9544"
       ]
      },
      {
       "output_type": "stream",
       "stream": "stdout",
       "text": [
        "\b\b\b\b\b\b\b\b\b\b\b\b\b\b\b\b\b\b\b\b\b\b\b\b\b\b\b\b\b\b\b\b\b\b\b\b\b\b\b\b\b\b\b\b\b\b\b\b\b\b\b\b\b\b\b\b\b\b\b\b\b\b\b\b\b\b\b\b\b\b\b\b\b\b\b\b\b\b\b\b\b\b\b\r",
        "46496/50000 [==========================>...] - ETA: 0s - loss: 0.1537 - acc: 0.9543"
       ]
      },
      {
       "output_type": "stream",
       "stream": "stdout",
       "text": [
        "\b\b\b\b\b\b\b\b\b\b\b\b\b\b\b\b\b\b\b\b\b\b\b\b\b\b\b\b\b\b\b\b\b\b\b\b\b\b\b\b\b\b\b\b\b\b\b\b\b\b\b\b\b\b\b\b\b\b\b\b\b\b\b\b\b\b\b\b\b\b\b\b\b\b\b\b\b\b\b\b\b\b\b\r",
        "47136/50000 [===========================>..] - ETA: 0s - loss: 0.1538 - acc: 0.9542"
       ]
      },
      {
       "output_type": "stream",
       "stream": "stdout",
       "text": [
        "\b\b\b\b\b\b\b\b\b\b\b\b\b\b\b\b\b\b\b\b\b\b\b\b\b\b\b\b\b\b\b\b\b\b\b\b\b\b\b\b\b\b\b\b\b\b\b\b\b\b\b\b\b\b\b\b\b\b\b\b\b\b\b\b\b\b\b\b\b\b\b\b\b\b\b\b\b\b\b\b\b\b\b\r",
        "47840/50000 [===========================>..] - ETA: 0s - loss: 0.1543 - acc: 0.9542"
       ]
      },
      {
       "output_type": "stream",
       "stream": "stdout",
       "text": [
        "\b\b\b\b\b\b\b\b\b\b\b\b\b\b\b\b\b\b\b\b\b\b\b\b\b\b\b\b\b\b\b\b\b\b\b\b\b\b\b\b\b\b\b\b\b\b\b\b\b\b\b\b\b\b\b\b\b\b\b\b\b\b\b\b\b\b\b\b\b\b\b\b\b\b\b\b\b\b\b\b\b\b\b\r",
        "48608/50000 [============================>.] - ETA: 0s - loss: 0.1540 - acc: 0.9542"
       ]
      },
      {
       "output_type": "stream",
       "stream": "stdout",
       "text": [
        "\b\b\b\b\b\b\b\b\b\b\b\b\b\b\b\b\b\b\b\b\b\b\b\b\b\b\b\b\b\b\b\b\b\b\b\b\b\b\b\b\b\b\b\b\b\b\b\b\b\b\b\b\b\b\b\b\b\b\b\b\b\b\b\b\b\b\b\b\b\b\b\b\b\b\b\b\b\b\b\b\b\b\b\r",
        "49280/50000 [============================>.] - ETA: 0s - loss: 0.1541 - acc: 0.9543"
       ]
      },
      {
       "output_type": "stream",
       "stream": "stdout",
       "text": [
        "\b\b\b\b\b\b\b\b\b\b\b\b\b\b\b\b\b\b\b\b\b\b\b\b\b\b\b\b\b\b\b\b\b\b\b\b\b\b\b\b\b\b\b\b\b\b\b\b\b\b\b\b\b\b\b\b\b\b\b\b\b\b\b\b\b\b\b\b\b\b\b\b\b\b\b\b\b\b\b\b\b\b\b\r",
        "50000/50000 [==============================] - 3s - loss: 0.1537 - acc: 0.9543     "
       ]
      },
      {
       "output_type": "stream",
       "stream": "stdout",
       "text": [
        "\n",
        "Epoch 5/5\n",
        "\r",
        "   32/50000 [..............................] - ETA: 5s - loss: 0.0437 - acc: 1.0000"
       ]
      },
      {
       "output_type": "stream",
       "stream": "stdout",
       "text": [
        "\b\b\b\b\b\b\b\b\b\b\b\b\b\b\b\b\b\b\b\b\b\b\b\b\b\b\b\b\b\b\b\b\b\b\b\b\b\b\b\b\b\b\b\b\b\b\b\b\b\b\b\b\b\b\b\b\b\b\b\b\b\b\b\b\b\b\b\b\b\b\b\b\b\b\b\b\b\b\b\b\b\b\b\r",
        "  736/50000 [..............................] - ETA: 3s - loss: 0.1480 - acc: 0.9606"
       ]
      },
      {
       "output_type": "stream",
       "stream": "stdout",
       "text": [
        "\b\b\b\b\b\b\b\b\b\b\b\b\b\b\b\b\b\b\b\b\b\b\b\b\b\b\b\b\b\b\b\b\b\b\b\b\b\b\b\b\b\b\b\b\b\b\b\b\b\b\b\b\b\b\b\b\b\b\b\b\b\b\b\b\b\b\b\b\b\b\b\b\b\b\b\b\b\b\b\b\b\b\b\r",
        " 1472/50000 [..............................] - ETA: 3s - loss: 0.1724 - acc: 0.9524"
       ]
      },
      {
       "output_type": "stream",
       "stream": "stdout",
       "text": [
        "\b\b\b\b\b\b\b\b\b\b\b\b\b\b\b\b\b\b\b\b\b\b\b\b\b\b\b\b\b\b\b\b\b\b\b\b\b\b\b\b\b\b\b\b\b\b\b\b\b\b\b\b\b\b\b\b\b\b\b\b\b\b\b\b\b\b\b\b\b\b\b\b\b\b\b\b\b\b\b\b\b\b\b\r",
        " 2272/50000 [>.............................] - ETA: 3s - loss: 0.1466 - acc: 0.9613"
       ]
      },
      {
       "output_type": "stream",
       "stream": "stdout",
       "text": [
        "\b\b\b\b\b\b\b\b\b\b\b\b\b\b\b\b\b\b\b\b\b\b\b\b\b\b\b\b\b\b\b\b\b\b\b\b\b\b\b\b\b\b\b\b\b\b\b\b\b\b\b\b\b\b\b\b\b\b\b\b\b\b\b\b\b\b\b\b\b\b\b\b\b\b\b\b\b\b\b\b\b\b\b\r",
        " 3040/50000 [>.............................] - ETA: 3s - loss: 0.1384 - acc: 0.9641"
       ]
      },
      {
       "output_type": "stream",
       "stream": "stdout",
       "text": [
        "\b\b\b\b\b\b\b\b\b\b\b\b\b\b\b\b\b\b\b\b\b\b\b\b\b\b\b\b\b\b\b\b\b\b\b\b\b\b\b\b\b\b\b\b\b\b\b\b\b\b\b\b\b\b\b\b\b\b\b\b\b\b\b\b\b\b\b\b\b\b\b\b\b\b\b\b\b\b\b\b\b\b\b\r",
        " 3776/50000 [=>............................] - ETA: 3s - loss: 0.1364 - acc: 0.9632"
       ]
      },
      {
       "output_type": "stream",
       "stream": "stdout",
       "text": [
        "\b\b\b\b\b\b\b\b\b\b\b\b\b\b\b\b\b\b\b\b\b\b\b\b\b\b\b\b\b\b\b\b\b\b\b\b\b\b\b\b\b\b\b\b\b\b\b\b\b\b\b\b\b\b\b\b\b\b\b\b\b\b\b\b\b\b\b\b\b\b\b\b\b\b\b\b\b\b\b\b\b\b\b\r",
        " 4544/50000 [=>............................] - ETA: 3s - loss: 0.1325 - acc: 0.9626"
       ]
      },
      {
       "output_type": "stream",
       "stream": "stdout",
       "text": [
        "\b\b\b\b\b\b\b\b\b\b\b\b\b\b\b\b\b\b\b\b\b\b\b\b\b\b\b\b\b\b\b\b\b\b\b\b\b\b\b\b\b\b\b\b\b\b\b\b\b\b\b\b\b\b\b\b\b\b\b\b\b\b\b\b\b\b\b\b\b\b\b\b\b\b\b\b\b\b\b\b\b\b\b\r",
        " 5248/50000 [==>...........................] - ETA: 3s - loss: 0.1318 - acc: 0.9632"
       ]
      },
      {
       "output_type": "stream",
       "stream": "stdout",
       "text": [
        "\b\b\b\b\b\b\b\b\b\b\b\b\b\b\b\b\b\b\b\b\b\b\b\b\b\b\b\b\b\b\b\b\b\b\b\b\b\b\b\b\b\b\b\b\b\b\b\b\b\b\b\b\b\b\b\b\b\b\b\b\b\b\b\b\b\b\b\b\b\b\b\b\b\b\b\b\b\b\b\b\b\b\b\r",
        " 6016/50000 [==>...........................] - ETA: 2s - loss: 0.1311 - acc: 0.9639"
       ]
      },
      {
       "output_type": "stream",
       "stream": "stdout",
       "text": [
        "\b\b\b\b\b\b\b\b\b\b\b\b\b\b\b\b\b\b\b\b\b\b\b\b\b\b\b\b\b\b\b\b\b\b\b\b\b\b\b\b\b\b\b\b\b\b\b\b\b\b\b\b\b\b\b\b\b\b\b\b\b\b\b\b\b\b\b\b\b\b\b\b\b\b\b\b\b\b\b\b\b\b\b\r",
        " 6688/50000 [===>..........................] - ETA: 3s - loss: 0.1335 - acc: 0.9625"
       ]
      },
      {
       "output_type": "stream",
       "stream": "stdout",
       "text": [
        "\b\b\b\b\b\b\b\b\b\b\b\b\b\b\b\b\b\b\b\b\b\b\b\b\b\b\b\b\b\b\b\b\b\b\b\b\b\b\b\b\b\b\b\b\b\b\b\b\b\b\b\b\b\b\b\b\b\b\b\b\b\b\b\b\b\b\b\b\b\b\b\b\b\b\b\b\b\b\b\b\b\b\b\r",
        " 7424/50000 [===>..........................] - ETA: 2s - loss: 0.1358 - acc: 0.9619"
       ]
      },
      {
       "output_type": "stream",
       "stream": "stdout",
       "text": [
        "\b\b\b\b\b\b\b\b\b\b\b\b\b\b\b\b\b\b\b\b\b\b\b\b\b\b\b\b\b\b\b\b\b\b\b\b\b\b\b\b\b\b\b\b\b\b\b\b\b\b\b\b\b\b\b\b\b\b\b\b\b\b\b\b\b\b\b\b\b\b\b\b\b\b\b\b\b\b\b\b\b\b\b\r",
        " 8192/50000 [===>..........................] - ETA: 2s - loss: 0.1369 - acc: 0.9613"
       ]
      },
      {
       "output_type": "stream",
       "stream": "stdout",
       "text": [
        "\b\b\b\b\b\b\b\b\b\b\b\b\b\b\b\b\b\b\b\b\b\b\b\b\b\b\b\b\b\b\b\b\b\b\b\b\b\b\b\b\b\b\b\b\b\b\b\b\b\b\b\b\b\b\b\b\b\b\b\b\b\b\b\b\b\b\b\b\b\b\b\b\b\b\b\b\b\b\b\b\b\b\b\r",
        " 8896/50000 [====>.........................] - ETA: 2s - loss: 0.1346 - acc: 0.9621"
       ]
      },
      {
       "output_type": "stream",
       "stream": "stdout",
       "text": [
        "\b\b\b\b\b\b\b\b\b\b\b\b\b\b\b\b\b\b\b\b\b\b\b\b\b\b\b\b\b\b\b\b\b\b\b\b\b\b\b\b\b\b\b\b\b\b\b\b\b\b\b\b\b\b\b\b\b\b\b\b\b\b\b\b\b\b\b\b\b\b\b\b\b\b\b\b\b\b\b\b\b\b\b\r",
        " 9632/50000 [====>.........................] - ETA: 2s - loss: 0.1360 - acc: 0.9614"
       ]
      },
      {
       "output_type": "stream",
       "stream": "stdout",
       "text": [
        "\b\b\b\b\b\b\b\b\b\b\b\b\b\b\b\b\b\b\b\b\b\b\b\b\b\b\b\b\b\b\b\b\b\b\b\b\b\b\b\b\b\b\b\b\b\b\b\b\b\b\b\b\b\b\b\b\b\b\b\b\b\b\b\b\b\b\b\b\b\b\b\b\b\b\b\b\b\b\b\b\b\b\b\r",
        "10432/50000 [=====>........................] - ETA: 2s - loss: 0.1370 - acc: 0.9603"
       ]
      },
      {
       "output_type": "stream",
       "stream": "stdout",
       "text": [
        "\b\b\b\b\b\b\b\b\b\b\b\b\b\b\b\b\b\b\b\b\b\b\b\b\b\b\b\b\b\b\b\b\b\b\b\b\b\b\b\b\b\b\b\b\b\b\b\b\b\b\b\b\b\b\b\b\b\b\b\b\b\b\b\b\b\b\b\b\b\b\b\b\b\b\b\b\b\b\b\b\b\b\b\r",
        "11232/50000 [=====>........................] - ETA: 2s - loss: 0.1367 - acc: 0.9604"
       ]
      },
      {
       "output_type": "stream",
       "stream": "stdout",
       "text": [
        "\b\b\b\b\b\b\b\b\b\b\b\b\b\b\b\b\b\b\b\b\b\b\b\b\b\b\b\b\b\b\b\b\b\b\b\b\b\b\b\b\b\b\b\b\b\b\b\b\b\b\b\b\b\b\b\b\b\b\b\b\b\b\b\b\b\b\b\b\b\b\b\b\b\b\b\b\b\b\b\b\b\b\b\r",
        "12032/50000 [======>.......................] - ETA: 2s - loss: 0.1394 - acc: 0.9589"
       ]
      },
      {
       "output_type": "stream",
       "stream": "stdout",
       "text": [
        "\b\b\b\b\b\b\b\b\b\b\b\b\b\b\b\b\b\b\b\b\b\b\b\b\b\b\b\b\b\b\b\b\b\b\b\b\b\b\b\b\b\b\b\b\b\b\b\b\b\b\b\b\b\b\b\b\b\b\b\b\b\b\b\b\b\b\b\b\b\b\b\b\b\b\b\b\b\b\b\b\b\b\b\r",
        "12768/50000 [======>.......................] - ETA: 2s - loss: 0.1395 - acc: 0.9590"
       ]
      },
      {
       "output_type": "stream",
       "stream": "stdout",
       "text": [
        "\b\b\b\b\b\b\b\b\b\b\b\b\b\b\b\b\b\b\b\b\b\b\b\b\b\b\b\b\b\b\b\b\b\b\b\b\b\b\b\b\b\b\b\b\b\b\b\b\b\b\b\b\b\b\b\b\b\b\b\b\b\b\b\b\b\b\b\b\b\b\b\b\b\b\b\b\b\b\b\b\b\b\b\r",
        "13440/50000 [=======>......................] - ETA: 2s - loss: 0.1402 - acc: 0.9589"
       ]
      },
      {
       "output_type": "stream",
       "stream": "stdout",
       "text": [
        "\b\b\b\b\b\b\b\b\b\b\b\b\b\b\b\b\b\b\b\b\b\b\b\b\b\b\b\b\b\b\b\b\b\b\b\b\b\b\b\b\b\b\b\b\b\b\b\b\b\b\b\b\b\b\b\b\b\b\b\b\b\b\b\b\b\b\b\b\b\b\b\b\b\b\b\b\b\b\b\b\b\b\b\r",
        "14208/50000 [=======>......................] - ETA: 2s - loss: 0.1408 - acc: 0.9584"
       ]
      },
      {
       "output_type": "stream",
       "stream": "stdout",
       "text": [
        "\b\b\b\b\b\b\b\b\b\b\b\b\b\b\b\b\b\b\b\b\b\b\b\b\b\b\b\b\b\b\b\b\b\b\b\b\b\b\b\b\b\b\b\b\b\b\b\b\b\b\b\b\b\b\b\b\b\b\b\b\b\b\b\b\b\b\b\b\b\b\b\b\b\b\b\b\b\b\b\b\b\b\b\r",
        "15008/50000 [========>.....................] - ETA: 2s - loss: 0.1408 - acc: 0.9586"
       ]
      },
      {
       "output_type": "stream",
       "stream": "stdout",
       "text": [
        "\b\b\b\b\b\b\b\b\b\b\b\b\b\b\b\b\b\b\b\b\b\b\b\b\b\b\b\b\b\b\b\b\b\b\b\b\b\b\b\b\b\b\b\b\b\b\b\b\b\b\b\b\b\b\b\b\b\b\b\b\b\b\b\b\b\b\b\b\b\b\b\b\b\b\b\b\b\b\b\b\b\b\b\r",
        "15744/50000 [========>.....................] - ETA: 2s - loss: 0.1403 - acc: 0.9588"
       ]
      },
      {
       "output_type": "stream",
       "stream": "stdout",
       "text": [
        "\b\b\b\b\b\b\b\b\b\b\b\b\b\b\b\b\b\b\b\b\b\b\b\b\b\b\b\b\b\b\b\b\b\b\b\b\b\b\b\b\b\b\b\b\b\b\b\b\b\b\b\b\b\b\b\b\b\b\b\b\b\b\b\b\b\b\b\b\b\b\b\b\b\b\b\b\b\b\b\b\b\b\b\r",
        "16512/50000 [========>.....................] - ETA: 2s - loss: 0.1388 - acc: 0.9594"
       ]
      },
      {
       "output_type": "stream",
       "stream": "stdout",
       "text": [
        "\b\b\b\b\b\b\b\b\b\b\b\b\b\b\b\b\b\b\b\b\b\b\b\b\b\b\b\b\b\b\b\b\b\b\b\b\b\b\b\b\b\b\b\b\b\b\b\b\b\b\b\b\b\b\b\b\b\b\b\b\b\b\b\b\b\b\b\b\b\b\b\b\b\b\b\b\b\b\b\b\b\b\b\r",
        "17152/50000 [=========>....................] - ETA: 2s - loss: 0.1376 - acc: 0.9596"
       ]
      },
      {
       "output_type": "stream",
       "stream": "stdout",
       "text": [
        "\b\b\b\b\b\b\b\b\b\b\b\b\b\b\b\b\b\b\b\b\b\b\b\b\b\b\b\b\b\b\b\b\b\b\b\b\b\b\b\b\b\b\b\b\b\b\b\b\b\b\b\b\b\b\b\b\b\b\b\b\b\b\b\b\b\b\b\b\b\b\b\b\b\b\b\b\b\b\b\b\b\b\b\r",
        "17856/50000 [=========>....................] - ETA: 2s - loss: 0.1374 - acc: 0.9598"
       ]
      },
      {
       "output_type": "stream",
       "stream": "stdout",
       "text": [
        "\b\b\b\b\b\b\b\b\b\b\b\b\b\b\b\b\b\b\b\b\b\b\b\b\b\b\b\b\b\b\b\b\b\b\b\b\b\b\b\b\b\b\b\b\b\b\b\b\b\b\b\b\b\b\b\b\b\b\b\b\b\b\b\b\b\b\b\b\b\b\b\b\b\b\b\b\b\b\b\b\b\b\b\r",
        "18656/50000 [==========>...................] - ETA: 2s - loss: 0.1367 - acc: 0.9603"
       ]
      },
      {
       "output_type": "stream",
       "stream": "stdout",
       "text": [
        "\b\b\b\b\b\b\b\b\b\b\b\b\b\b\b\b\b\b\b\b\b\b\b\b\b\b\b\b\b\b\b\b\b\b\b\b\b\b\b\b\b\b\b\b\b\b\b\b\b\b\b\b\b\b\b\b\b\b\b\b\b\b\b\b\b\b\b\b\b\b\b\b\b\b\b\b\b\b\b\b\b\b\b\r",
        "19456/50000 [==========>...................] - ETA: 2s - loss: 0.1366 - acc: 0.9600"
       ]
      },
      {
       "output_type": "stream",
       "stream": "stdout",
       "text": [
        "\b\b\b\b\b\b\b\b\b\b\b\b\b\b\b\b\b\b\b\b\b\b\b\b\b\b\b\b\b\b\b\b\b\b\b\b\b\b\b\b\b\b\b\b\b\b\b\b\b\b\b\b\b\b\b\b\b\b\b\b\b\b\b\b\b\b\b\b\b\b\b\b\b\b\b\b\b\b\b\b\b\b\b\r",
        "20256/50000 [===========>..................] - ETA: 2s - loss: 0.1369 - acc: 0.9600"
       ]
      },
      {
       "output_type": "stream",
       "stream": "stdout",
       "text": [
        "\b\b\b\b\b\b\b\b\b\b\b\b\b\b\b\b\b\b\b\b\b\b\b\b\b\b\b\b\b\b\b\b\b\b\b\b\b\b\b\b\b\b\b\b\b\b\b\b\b\b\b\b\b\b\b\b\b\b\b\b\b\b\b\b\b\b\b\b\b\b\b\b\b\b\b\b\b\b\b\b\b\b\b\r",
        "21056/50000 [===========>..................] - ETA: 1s - loss: 0.1378 - acc: 0.9598"
       ]
      },
      {
       "output_type": "stream",
       "stream": "stdout",
       "text": [
        "\b\b\b\b\b\b\b\b\b\b\b\b\b\b\b\b\b\b\b\b\b\b\b\b\b\b\b\b\b\b\b\b\b\b\b\b\b\b\b\b\b\b\b\b\b\b\b\b\b\b\b\b\b\b\b\b\b\b\b\b\b\b\b\b\b\b\b\b\b\b\b\b\b\b\b\b\b\b\b\b\b\b\b\r",
        "21760/50000 [============>.................] - ETA: 1s - loss: 0.1380 - acc: 0.9598"
       ]
      },
      {
       "output_type": "stream",
       "stream": "stdout",
       "text": [
        "\b\b\b\b\b\b\b\b\b\b\b\b\b\b\b\b\b\b\b\b\b\b\b\b\b\b\b\b\b\b\b\b\b\b\b\b\b\b\b\b\b\b\b\b\b\b\b\b\b\b\b\b\b\b\b\b\b\b\b\b\b\b\b\b\b\b\b\b\b\b\b\b\b\b\b\b\b\b\b\b\b\b\b\r",
        "22528/50000 [============>.................] - ETA: 1s - loss: 0.1382 - acc: 0.9598"
       ]
      },
      {
       "output_type": "stream",
       "stream": "stdout",
       "text": [
        "\b\b\b\b\b\b\b\b\b\b\b\b\b\b\b\b\b\b\b\b\b\b\b\b\b\b\b\b\b\b\b\b\b\b\b\b\b\b\b\b\b\b\b\b\b\b\b\b\b\b\b\b\b\b\b\b\b\b\b\b\b\b\b\b\b\b\b\b\b\b\b\b\b\b\b\b\b\b\b\b\b\b\b\r",
        "23328/50000 [============>.................] - ETA: 1s - loss: 0.1378 - acc: 0.9600"
       ]
      },
      {
       "output_type": "stream",
       "stream": "stdout",
       "text": [
        "\b\b\b\b\b\b\b\b\b\b\b\b\b\b\b\b\b\b\b\b\b\b\b\b\b\b\b\b\b\b\b\b\b\b\b\b\b\b\b\b\b\b\b\b\b\b\b\b\b\b\b\b\b\b\b\b\b\b\b\b\b\b\b\b\b\b\b\b\b\b\b\b\b\b\b\b\b\b\b\b\b\b\b\r",
        "23936/50000 [=============>................] - ETA: 1s - loss: 0.1381 - acc: 0.9599"
       ]
      },
      {
       "output_type": "stream",
       "stream": "stdout",
       "text": [
        "\b\b\b\b\b\b\b\b\b\b\b\b\b\b\b\b\b\b\b\b\b\b\b\b\b\b\b\b\b\b\b\b\b\b\b\b\b\b\b\b\b\b\b\b\b\b\b\b\b\b\b\b\b\b\b\b\b\b\b\b\b\b\b\b\b\b\b\b\b\b\b\b\b\b\b\b\b\b\b\b\b\b\b\r",
        "24704/50000 [=============>................] - ETA: 1s - loss: 0.1382 - acc: 0.9598"
       ]
      },
      {
       "output_type": "stream",
       "stream": "stdout",
       "text": [
        "\b\b\b\b\b\b\b\b\b\b\b\b\b\b\b\b\b\b\b\b\b\b\b\b\b\b\b\b\b\b\b\b\b\b\b\b\b\b\b\b\b\b\b\b\b\b\b\b\b\b\b\b\b\b\b\b\b\b\b\b\b\b\b\b\b\b\b\b\b\b\b\b\b\b\b\b\b\b\b\b\b\b\b\r",
        "25504/50000 [==============>...............] - ETA: 1s - loss: 0.1373 - acc: 0.9600"
       ]
      },
      {
       "output_type": "stream",
       "stream": "stdout",
       "text": [
        "\b\b\b\b\b\b\b\b\b\b\b\b\b\b\b\b\b\b\b\b\b\b\b\b\b\b\b\b\b\b\b\b\b\b\b\b\b\b\b\b\b\b\b\b\b\b\b\b\b\b\b\b\b\b\b\b\b\b\b\b\b\b\b\b\b\b\b\b\b\b\b\b\b\b\b\b\b\b\b\b\b\b\b\r",
        "26208/50000 [==============>...............] - ETA: 1s - loss: 0.1366 - acc: 0.9602"
       ]
      },
      {
       "output_type": "stream",
       "stream": "stdout",
       "text": [
        "\b\b\b\b\b\b\b\b\b\b\b\b\b\b\b\b\b\b\b\b\b\b\b\b\b\b\b\b\b\b\b\b\b\b\b\b\b\b\b\b\b\b\b\b\b\b\b\b\b\b\b\b\b\b\b\b\b\b\b\b\b\b\b\b\b\b\b\b\b\b\b\b\b\b\b\b\b\b\b\b\b\b\b\r",
        "27008/50000 [===============>..............] - ETA: 1s - loss: 0.1369 - acc: 0.9601"
       ]
      },
      {
       "output_type": "stream",
       "stream": "stdout",
       "text": [
        "\b\b\b\b\b\b\b\b\b\b\b\b\b\b\b\b\b\b\b\b\b\b\b\b\b\b\b\b\b\b\b\b\b\b\b\b\b\b\b\b\b\b\b\b\b\b\b\b\b\b\b\b\b\b\b\b\b\b\b\b\b\b\b\b\b\b\b\b\b\b\b\b\b\b\b\b\b\b\b\b\b\b\b\r",
        "27680/50000 [===============>..............] - ETA: 1s - loss: 0.1366 - acc: 0.9602"
       ]
      },
      {
       "output_type": "stream",
       "stream": "stdout",
       "text": [
        "\b\b\b\b\b\b\b\b\b\b\b\b\b\b\b\b\b\b\b\b\b\b\b\b\b\b\b\b\b\b\b\b\b\b\b\b\b\b\b\b\b\b\b\b\b\b\b\b\b\b\b\b\b\b\b\b\b\b\b\b\b\b\b\b\b\b\b\b\b\b\b\b\b\b\b\b\b\b\b\b\b\b\b\r",
        "28320/50000 [===============>..............] - ETA: 1s - loss: 0.1368 - acc: 0.9602"
       ]
      },
      {
       "output_type": "stream",
       "stream": "stdout",
       "text": [
        "\b\b\b\b\b\b\b\b\b\b\b\b\b\b\b\b\b\b\b\b\b\b\b\b\b\b\b\b\b\b\b\b\b\b\b\b\b\b\b\b\b\b\b\b\b\b\b\b\b\b\b\b\b\b\b\b\b\b\b\b\b\b\b\b\b\b\b\b\b\b\b\b\b\b\b\b\b\b\b\b\b\b\b\r",
        "29056/50000 [================>.............] - ETA: 1s - loss: 0.1370 - acc: 0.9601"
       ]
      },
      {
       "output_type": "stream",
       "stream": "stdout",
       "text": [
        "\b\b\b\b\b\b\b\b\b\b\b\b\b\b\b\b\b\b\b\b\b\b\b\b\b\b\b\b\b\b\b\b\b\b\b\b\b\b\b\b\b\b\b\b\b\b\b\b\b\b\b\b\b\b\b\b\b\b\b\b\b\b\b\b\b\b\b\b\b\b\b\b\b\b\b\b\b\b\b\b\b\b\b\r",
        "29856/50000 [================>.............] - ETA: 1s - loss: 0.1365 - acc: 0.9601"
       ]
      },
      {
       "output_type": "stream",
       "stream": "stdout",
       "text": [
        "\b\b\b\b\b\b\b\b\b\b\b\b\b\b\b\b\b\b\b\b\b\b\b\b\b\b\b\b\b\b\b\b\b\b\b\b\b\b\b\b\b\b\b\b\b\b\b\b\b\b\b\b\b\b\b\b\b\b\b\b\b\b\b\b\b\b\b\b\b\b\b\b\b\b\b\b\b\b\b\b\b\b\b\r",
        "30560/50000 [=================>............] - ETA: 1s - loss: 0.1369 - acc: 0.9599"
       ]
      },
      {
       "output_type": "stream",
       "stream": "stdout",
       "text": [
        "\b\b\b\b\b\b\b\b\b\b\b\b\b\b\b\b\b\b\b\b\b\b\b\b\b\b\b\b\b\b\b\b\b\b\b\b\b\b\b\b\b\b\b\b\b\b\b\b\b\b\b\b\b\b\b\b\b\b\b\b\b\b\b\b\b\b\b\b\b\b\b\b\b\b\b\b\b\b\b\b\b\b\b\r",
        "31360/50000 [=================>............] - ETA: 1s - loss: 0.1377 - acc: 0.9600"
       ]
      },
      {
       "output_type": "stream",
       "stream": "stdout",
       "text": [
        "\b\b\b\b\b\b\b\b\b\b\b\b\b\b\b\b\b\b\b\b\b\b\b\b\b\b\b\b\b\b\b\b\b\b\b\b\b\b\b\b\b\b\b\b\b\b\b\b\b\b\b\b\b\b\b\b\b\b\b\b\b\b\b\b\b\b\b\b\b\b\b\b\b\b\b\b\b\b\b\b\b\b\b\r",
        "32160/50000 [==================>...........] - ETA: 1s - loss: 0.1377 - acc: 0.9599"
       ]
      },
      {
       "output_type": "stream",
       "stream": "stdout",
       "text": [
        "\b\b\b\b\b\b\b\b\b\b\b\b\b\b\b\b\b\b\b\b\b\b\b\b\b\b\b\b\b\b\b\b\b\b\b\b\b\b\b\b\b\b\b\b\b\b\b\b\b\b\b\b\b\b\b\b\b\b\b\b\b\b\b\b\b\b\b\b\b\b\b\b\b\b\b\b\b\b\b\b\b\b\b\r",
        "32864/50000 [==================>...........] - ETA: 1s - loss: 0.1387 - acc: 0.9596"
       ]
      },
      {
       "output_type": "stream",
       "stream": "stdout",
       "text": [
        "\b\b\b\b\b\b\b\b\b\b\b\b\b\b\b\b\b\b\b\b\b\b\b\b\b\b\b\b\b\b\b\b\b\b\b\b\b\b\b\b\b\b\b\b\b\b\b\b\b\b\b\b\b\b\b\b\b\b\b\b\b\b\b\b\b\b\b\b\b\b\b\b\b\b\b\b\b\b\b\b\b\b\b\r",
        "33600/50000 [===================>..........] - ETA: 1s - loss: 0.1395 - acc: 0.9595"
       ]
      },
      {
       "output_type": "stream",
       "stream": "stdout",
       "text": [
        "\b\b\b\b\b\b\b\b\b\b\b\b\b\b\b\b\b\b\b\b\b\b\b\b\b\b\b\b\b\b\b\b\b\b\b\b\b\b\b\b\b\b\b\b\b\b\b\b\b\b\b\b\b\b\b\b\b\b\b\b\b\b\b\b\b\b\b\b\b\b\b\b\b\b\b\b\b\b\b\b\b\b\b\r",
        "34304/50000 [===================>..........] - ETA: 1s - loss: 0.1397 - acc: 0.9594"
       ]
      },
      {
       "output_type": "stream",
       "stream": "stdout",
       "text": [
        "\b\b\b\b\b\b\b\b\b\b\b\b\b\b\b\b\b\b\b\b\b\b\b\b\b\b\b\b\b\b\b\b\b\b\b\b\b\b\b\b\b\b\b\b\b\b\b\b\b\b\b\b\b\b\b\b\b\b\b\b\b\b\b\b\b\b\b\b\b\b\b\b\b\b\b\b\b\b\b\b\b\b\b\r",
        "35104/50000 [====================>.........] - ETA: 1s - loss: 0.1397 - acc: 0.9594"
       ]
      },
      {
       "output_type": "stream",
       "stream": "stdout",
       "text": [
        "\b\b\b\b\b\b\b\b\b\b\b\b\b\b\b\b\b\b\b\b\b\b\b\b\b\b\b\b\b\b\b\b\b\b\b\b\b\b\b\b\b\b\b\b\b\b\b\b\b\b\b\b\b\b\b\b\b\b\b\b\b\b\b\b\b\b\b\b\b\b\b\b\b\b\b\b\b\b\b\b\b\b\b\r",
        "35872/50000 [====================>.........] - ETA: 0s - loss: 0.1402 - acc: 0.9592"
       ]
      },
      {
       "output_type": "stream",
       "stream": "stdout",
       "text": [
        "\b\b\b\b\b\b\b\b\b\b\b\b\b\b\b\b\b\b\b\b\b\b\b\b\b\b\b\b\b\b\b\b\b\b\b\b\b\b\b\b\b\b\b\b\b\b\b\b\b\b\b\b\b\b\b\b\b\b\b\b\b\b\b\b\b\b\b\b\b\b\b\b\b\b\b\b\b\b\b\b\b\b\b\r",
        "36576/50000 [====================>.........] - ETA: 0s - loss: 0.1401 - acc: 0.9594"
       ]
      },
      {
       "output_type": "stream",
       "stream": "stdout",
       "text": [
        "\b\b\b\b\b\b\b\b\b\b\b\b\b\b\b\b\b\b\b\b\b\b\b\b\b\b\b\b\b\b\b\b\b\b\b\b\b\b\b\b\b\b\b\b\b\b\b\b\b\b\b\b\b\b\b\b\b\b\b\b\b\b\b\b\b\b\b\b\b\b\b\b\b\b\b\b\b\b\b\b\b\b\b\r",
        "37312/50000 [=====================>........] - ETA: 0s - loss: 0.1397 - acc: 0.9596"
       ]
      },
      {
       "output_type": "stream",
       "stream": "stdout",
       "text": [
        "\b\b\b\b\b\b\b\b\b\b\b\b\b\b\b\b\b\b\b\b\b\b\b\b\b\b\b\b\b\b\b\b\b\b\b\b\b\b\b\b\b\b\b\b\b\b\b\b\b\b\b\b\b\b\b\b\b\b\b\b\b\b\b\b\b\b\b\b\b\b\b\b\b\b\b\b\b\b\b\b\b\b\b\r",
        "37952/50000 [=====================>........] - ETA: 0s - loss: 0.1390 - acc: 0.9598"
       ]
      },
      {
       "output_type": "stream",
       "stream": "stdout",
       "text": [
        "\b\b\b\b\b\b\b\b\b\b\b\b\b\b\b\b\b\b\b\b\b\b\b\b\b\b\b\b\b\b\b\b\b\b\b\b\b\b\b\b\b\b\b\b\b\b\b\b\b\b\b\b\b\b\b\b\b\b\b\b\b\b\b\b\b\b\b\b\b\b\b\b\b\b\b\b\b\b\b\b\b\b\b\r",
        "38592/50000 [======================>.......] - ETA: 0s - loss: 0.1395 - acc: 0.9596"
       ]
      },
      {
       "output_type": "stream",
       "stream": "stdout",
       "text": [
        "\b\b\b\b\b\b\b\b\b\b\b\b\b\b\b\b\b\b\b\b\b\b\b\b\b\b\b\b\b\b\b\b\b\b\b\b\b\b\b\b\b\b\b\b\b\b\b\b\b\b\b\b\b\b\b\b\b\b\b\b\b\b\b\b\b\b\b\b\b\b\b\b\b\b\b\b\b\b\b\b\b\b\b\r",
        "39360/50000 [======================>.......] - ETA: 0s - loss: 0.1395 - acc: 0.9596"
       ]
      },
      {
       "output_type": "stream",
       "stream": "stdout",
       "text": [
        "\b\b\b\b\b\b\b\b\b\b\b\b\b\b\b\b\b\b\b\b\b\b\b\b\b\b\b\b\b\b\b\b\b\b\b\b\b\b\b\b\b\b\b\b\b\b\b\b\b\b\b\b\b\b\b\b\b\b\b\b\b\b\b\b\b\b\b\b\b\b\b\b\b\b\b\b\b\b\b\b\b\b\b\r",
        "40160/50000 [=======================>......] - ETA: 0s - loss: 0.1392 - acc: 0.9595"
       ]
      },
      {
       "output_type": "stream",
       "stream": "stdout",
       "text": [
        "\b\b\b\b\b\b\b\b\b\b\b\b\b\b\b\b\b\b\b\b\b\b\b\b\b\b\b\b\b\b\b\b\b\b\b\b\b\b\b\b\b\b\b\b\b\b\b\b\b\b\b\b\b\b\b\b\b\b\b\b\b\b\b\b\b\b\b\b\b\b\b\b\b\b\b\b\b\b\b\b\b\b\b\r",
        "40960/50000 [=======================>......] - ETA: 0s - loss: 0.1387 - acc: 0.9597"
       ]
      },
      {
       "output_type": "stream",
       "stream": "stdout",
       "text": [
        "\b\b\b\b\b\b\b\b\b\b\b\b\b\b\b\b\b\b\b\b\b\b\b\b\b\b\b\b\b\b\b\b\b\b\b\b\b\b\b\b\b\b\b\b\b\b\b\b\b\b\b\b\b\b\b\b\b\b\b\b\b\b\b\b\b\b\b\b\b\b\b\b\b\b\b\b\b\b\b\b\b\b\b\r",
        "41664/50000 [=======================>......] - ETA: 0s - loss: 0.1380 - acc: 0.9598"
       ]
      },
      {
       "output_type": "stream",
       "stream": "stdout",
       "text": [
        "\b\b\b\b\b\b\b\b\b\b\b\b\b\b\b\b\b\b\b\b\b\b\b\b\b\b\b\b\b\b\b\b\b\b\b\b\b\b\b\b\b\b\b\b\b\b\b\b\b\b\b\b\b\b\b\b\b\b\b\b\b\b\b\b\b\b\b\b\b\b\b\b\b\b\b\b\b\b\b\b\b\b\b\r",
        "42368/50000 [========================>.....] - ETA: 0s - loss: 0.1379 - acc: 0.9599"
       ]
      },
      {
       "output_type": "stream",
       "stream": "stdout",
       "text": [
        "\b\b\b\b\b\b\b\b\b\b\b\b\b\b\b\b\b\b\b\b\b\b\b\b\b\b\b\b\b\b\b\b\b\b\b\b\b\b\b\b\b\b\b\b\b\b\b\b\b\b\b\b\b\b\b\b\b\b\b\b\b\b\b\b\b\b\b\b\b\b\b\b\b\b\b\b\b\b\b\b\b\b\b\r",
        "43040/50000 [========================>.....] - ETA: 0s - loss: 0.1376 - acc: 0.9601"
       ]
      },
      {
       "output_type": "stream",
       "stream": "stdout",
       "text": [
        "\b\b\b\b\b\b\b\b\b\b\b\b\b\b\b\b\b\b\b\b\b\b\b\b\b\b\b\b\b\b\b\b\b\b\b\b\b\b\b\b\b\b\b\b\b\b\b\b\b\b\b\b\b\b\b\b\b\b\b\b\b\b\b\b\b\b\b\b\b\b\b\b\b\b\b\b\b\b\b\b\b\b\b\r",
        "43840/50000 [=========================>....] - ETA: 0s - loss: 0.1377 - acc: 0.9600"
       ]
      },
      {
       "output_type": "stream",
       "stream": "stdout",
       "text": [
        "\b\b\b\b\b\b\b\b\b\b\b\b\b\b\b\b\b\b\b\b\b\b\b\b\b\b\b\b\b\b\b\b\b\b\b\b\b\b\b\b\b\b\b\b\b\b\b\b\b\b\b\b\b\b\b\b\b\b\b\b\b\b\b\b\b\b\b\b\b\b\b\b\b\b\b\b\b\b\b\b\b\b\b\r",
        "44608/50000 [=========================>....] - ETA: 0s - loss: 0.1380 - acc: 0.9598"
       ]
      },
      {
       "output_type": "stream",
       "stream": "stdout",
       "text": [
        "\b\b\b\b\b\b\b\b\b\b\b\b\b\b\b\b\b\b\b\b\b\b\b\b\b\b\b\b\b\b\b\b\b\b\b\b\b\b\b\b\b\b\b\b\b\b\b\b\b\b\b\b\b\b\b\b\b\b\b\b\b\b\b\b\b\b\b\b\b\b\b\b\b\b\b\b\b\b\b\b\b\b\b\r",
        "45344/50000 [==========================>...] - ETA: 0s - loss: 0.1384 - acc: 0.9595"
       ]
      },
      {
       "output_type": "stream",
       "stream": "stdout",
       "text": [
        "\b\b\b\b\b\b\b\b\b\b\b\b\b\b\b\b\b\b\b\b\b\b\b\b\b\b\b\b\b\b\b\b\b\b\b\b\b\b\b\b\b\b\b\b\b\b\b\b\b\b\b\b\b\b\b\b\b\b\b\b\b\b\b\b\b\b\b\b\b\b\b\b\b\b\b\b\b\b\b\b\b\b\b\r",
        "46048/50000 [==========================>...] - ETA: 0s - loss: 0.1382 - acc: 0.9595"
       ]
      },
      {
       "output_type": "stream",
       "stream": "stdout",
       "text": [
        "\b\b\b\b\b\b\b\b\b\b\b\b\b\b\b\b\b\b\b\b\b\b\b\b\b\b\b\b\b\b\b\b\b\b\b\b\b\b\b\b\b\b\b\b\b\b\b\b\b\b\b\b\b\b\b\b\b\b\b\b\b\b\b\b\b\b\b\b\b\b\b\b\b\b\b\b\b\b\b\b\b\b\b\r",
        "46816/50000 [===========================>..] - ETA: 0s - loss: 0.1379 - acc: 0.9595"
       ]
      },
      {
       "output_type": "stream",
       "stream": "stdout",
       "text": [
        "\b\b\b\b\b\b\b\b\b\b\b\b\b\b\b\b\b\b\b\b\b\b\b\b\b\b\b\b\b\b\b\b\b\b\b\b\b\b\b\b\b\b\b\b\b\b\b\b\b\b\b\b\b\b\b\b\b\b\b\b\b\b\b\b\b\b\b\b\b\b\b\b\b\b\b\b\b\b\b\b\b\b\b\r",
        "47616/50000 [===========================>..] - ETA: 0s - loss: 0.1378 - acc: 0.9596"
       ]
      },
      {
       "output_type": "stream",
       "stream": "stdout",
       "text": [
        "\b\b\b\b\b\b\b\b\b\b\b\b\b\b\b\b\b\b\b\b\b\b\b\b\b\b\b\b\b\b\b\b\b\b\b\b\b\b\b\b\b\b\b\b\b\b\b\b\b\b\b\b\b\b\b\b\b\b\b\b\b\b\b\b\b\b\b\b\b\b\b\b\b\b\b\b\b\b\b\b\b\b\b\r",
        "48288/50000 [===========================>..] - ETA: 0s - loss: 0.1375 - acc: 0.9596"
       ]
      },
      {
       "output_type": "stream",
       "stream": "stdout",
       "text": [
        "\b\b\b\b\b\b\b\b\b\b\b\b\b\b\b\b\b\b\b\b\b\b\b\b\b\b\b\b\b\b\b\b\b\b\b\b\b\b\b\b\b\b\b\b\b\b\b\b\b\b\b\b\b\b\b\b\b\b\b\b\b\b\b\b\b\b\b\b\b\b\b\b\b\b\b\b\b\b\b\b\b\b\b\r",
        "49024/50000 [============================>.] - ETA: 0s - loss: 0.1377 - acc: 0.9596"
       ]
      },
      {
       "output_type": "stream",
       "stream": "stdout",
       "text": [
        "\b\b\b\b\b\b\b\b\b\b\b\b\b\b\b\b\b\b\b\b\b\b\b\b\b\b\b\b\b\b\b\b\b\b\b\b\b\b\b\b\b\b\b\b\b\b\b\b\b\b\b\b\b\b\b\b\b\b\b\b\b\b\b\b\b\b\b\b\b\b\b\b\b\b\b\b\b\b\b\b\b\b\b\r",
        "49792/50000 [============================>.] - ETA: 0s - loss: 0.1379 - acc: 0.9596"
       ]
      },
      {
       "output_type": "stream",
       "stream": "stdout",
       "text": [
        "\b\b\b\b\b\b\b\b\b\b\b\b\b\b\b\b\b\b\b\b\b\b\b\b\b\b\b\b\b\b\b\b\b\b\b\b\b\b\b\b\b\b\b\b\b\b\b\b\b\b\b\b\b\b\b\b\b\b\b\b\b\b\b\b\b\b\b\b\b\b\b\b\b\b\b\b\b\b\b\b\b\b\b\r",
        "50000/50000 [==============================] - 3s - loss: 0.1381 - acc: 0.9596     "
       ]
      },
      {
       "output_type": "stream",
       "stream": "stdout",
       "text": [
        "\n"
       ]
      },
      {
       "output_type": "stream",
       "stream": "stdout",
       "text": [
        "\r",
        "   32/10000 [..............................] - ETA: 0s"
       ]
      },
      {
       "output_type": "stream",
       "stream": "stdout",
       "text": [
        "\b\b\b\b\b\b\b\b\b\b\b\b\b\b\b\b\b\b\b\b\b\b\b\b\b\b\b\b\b\b\b\b\b\b\b\b\b\b\b\b\b\b\b\b\b\b\b\b\b\b\b\b\b\b\r",
        " 2176/10000 [=====>........................] - ETA: 0s"
       ]
      },
      {
       "output_type": "stream",
       "stream": "stdout",
       "text": [
        "\b\b\b\b\b\b\b\b\b\b\b\b\b\b\b\b\b\b\b\b\b\b\b\b\b\b\b\b\b\b\b\b\b\b\b\b\b\b\b\b\b\b\b\b\b\b\b\b\b\b\b\b\b\b\r",
        " 3936/10000 [==========>...................] - ETA: 0s"
       ]
      },
      {
       "output_type": "stream",
       "stream": "stdout",
       "text": [
        "\b\b\b\b\b\b\b\b\b\b\b\b\b\b\b\b\b\b\b\b\b\b\b\b\b\b\b\b\b\b\b\b\b\b\b\b\b\b\b\b\b\b\b\b\b\b\b\b\b\b\b\b\b\b\r",
        " 5760/10000 [================>.............] - ETA: 0s"
       ]
      },
      {
       "output_type": "stream",
       "stream": "stdout",
       "text": [
        "\b\b\b\b\b\b\b\b\b\b\b\b\b\b\b\b\b\b\b\b\b\b\b\b\b\b\b\b\b\b\b\b\b\b\b\b\b\b\b\b\b\b\b\b\b\b\b\b\b\b\b\b\b\b\r",
        " 7936/10000 [======================>.......] - ETA: 0s"
       ]
      },
      {
       "output_type": "stream",
       "stream": "stdout",
       "text": [
        "\b\b\b\b\b\b\b\b\b\b\b\b\b\b\b\b\b\b\b\b\b\b\b\b\b\b\b\b\b\b\b\b\b\b\b\b\b\b\b\b\b\b\b\b\b\b\b\b\b\b\b\b\b\b\r",
        "10000/10000 [==============================] - 0s     "
       ]
      },
      {
       "output_type": "stream",
       "stream": "stdout",
       "text": [
        "\n",
        "('\\n\\n', [0.086536461473908269, 0.97489999999999999])\n"
       ]
      }
     ],
     "prompt_number": 10
    },
    {
     "cell_type": "markdown",
     "metadata": {},
     "source": [
      "Note that it's possible to set your own learning rate:\n"
     ]
    },
    {
     "cell_type": "code",
     "collapsed": false,
     "input": [
      "# compile the model\n",
      "from keras.optimizers import Adam\n",
      "model.compile(loss='sparse_categorical_crossentropy', optimizer=Adam(lr=0.001), metrics=['accuracy'])"
     ],
     "language": "python",
     "metadata": {},
     "outputs": [],
     "prompt_number": 11
    },
    {
     "cell_type": "markdown",
     "metadata": {},
     "source": [
      "$ $\n",
      "  \n",
      "\n",
      "## A small list of things that often go wrong\n",
      "(in Deep Learning)\n",
      "\n",
      "**The learning rate is too large**  \n",
      "Symptoms: training loss oscillates, and/or doesn't go down\n",
      "\n",
      "**The learning rate is too small**  \n",
      "Symptoms: training loss doesn't go down, nor does accuracy go up\n",
      "\n",
      "**Your model is taking forever to learn**  \n",
      "Symptoms: Validation and training error go down, but very slowly  \n",
      "Fix: Use batch normalization and momentum methods such as Adam and RMSProp\n",
      "\n",
      "**Your model has too many layers/parameters**  \n",
      "Symptoms: the training accuracy is almost 1, but the validation accuracy is terrible (overfitting!)   \n",
      "Fix: reduce the number of layers and hidden units\n",
      "\n",
      "**Your model has too little data**  \n",
      "Symptoms: the training accuracy is almost 1, but the validation accuracy is terrible (overfitting!)   \n",
      "Fix: create noised data, use Dropout, augment your data with other datasets\n",
      "\n",
      "**Your input is not well distributed**  \n",
      "Symptoms: extreme activation/loss values, and no learning  \n",
      "Fix: make sure that your input is in [0,1] or has mean 0 and variance 1. \n"
     ]
    },
    {
     "cell_type": "code",
     "collapsed": false,
     "input": [],
     "language": "python",
     "metadata": {},
     "outputs": []
    }
   ],
   "metadata": {}
  }
 ]
}